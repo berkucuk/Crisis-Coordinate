{
 "cells": [
  {
   "cell_type": "code",
   "execution_count": 1,
   "metadata": {
    "id": "h76vTCnvP2mY",
    "is_executing": true
   },
   "outputs": [],
   "source": [
    "import numpy as np\n",
    "import pandas as pd"
   ]
  },
  {
   "cell_type": "code",
   "execution_count": 2,
   "metadata": {
    "colab": {
     "base_uri": "https://localhost:8080/"
    },
    "id": "BwP5LYm7tiUW",
    "outputId": "7cc0a1c9-1719-4eef-ff14-3f74371f349c"
   },
   "outputs": [
    {
     "name": "stderr",
     "output_type": "stream",
     "text": [
      "2023-09-29 20:13:11.574309: I tensorflow/core/util/port.cc:110] oneDNN custom operations are on. You may see slightly different numerical results due to floating-point round-off errors from different computation orders. To turn them off, set the environment variable `TF_ENABLE_ONEDNN_OPTS=0`.\n",
      "2023-09-29 20:13:11.575928: I tensorflow/tsl/cuda/cudart_stub.cc:28] Could not find cuda drivers on your machine, GPU will not be used.\n",
      "2023-09-29 20:13:11.609012: I tensorflow/tsl/cuda/cudart_stub.cc:28] Could not find cuda drivers on your machine, GPU will not be used.\n",
      "2023-09-29 20:13:11.609640: I tensorflow/core/platform/cpu_feature_guard.cc:182] This TensorFlow binary is optimized to use available CPU instructions in performance-critical operations.\n",
      "To enable the following instructions: AVX2 AVX512F AVX512_VNNI FMA, in other operations, rebuild TensorFlow with the appropriate compiler flags.\n",
      "2023-09-29 20:13:12.261340: W tensorflow/compiler/tf2tensorrt/utils/py_utils.cc:38] TF-TRT Warning: Could not find TensorRT\n"
     ]
    },
    {
     "name": "stdout",
     "output_type": "stream",
     "text": [
      "2.12.0\n"
     ]
    }
   ],
   "source": [
    "import tensorflow as tf\n",
    "print(tf.__version__)"
   ]
  },
  {
   "cell_type": "code",
   "execution_count": 3,
   "metadata": {
    "id": "8HnKC_kEP2ma"
   },
   "outputs": [],
   "source": [
    "from tensorflow.python.keras.models import Sequential\n",
    "from tensorflow.python.keras.layers import Dense, GRU, Embedding, CuDNNGRU\n",
    "from keras.optimizers import Adam\n",
    "from keras.preprocessing.text import Tokenizer\n",
    "from keras.utils import pad_sequences\n",
    "from keras.optimizers import Adam"
   ]
  },
  {
   "cell_type": "code",
   "execution_count": 5,
   "metadata": {
    "colab": {
     "base_uri": "https://localhost:8080/"
    },
    "id": "OO31SUHN81yY",
    "outputId": "77ba8e97-1bc7-40e7-8adf-b6ede73a8b10"
   },
   "outputs": [
    {
     "name": "stdout",
     "output_type": "stream",
     "text": [
      "Archive:  archive (3).zip\n",
      "  inflating: dataset.csv             \n"
     ]
    }
   ],
   "source": [
    "!unzip \"archive (3).zip\""
   ]
  },
  {
   "cell_type": "code",
   "execution_count": 7,
   "metadata": {
    "id": "cdW-z_IqP2mb"
   },
   "outputs": [],
   "source": [
    "tweets = pd.read_csv('dataset.csv')"
   ]
  },
  {
   "cell_type": "code",
   "execution_count": 8,
   "metadata": {
    "id": "xN3jWpkvP2mc"
   },
   "outputs": [],
   "source": [
    "tweets_data = tweets['Tweets']"
   ]
  },
  {
   "cell_type": "code",
   "execution_count": 9,
   "metadata": {
    "id": "twWhRi29ZHnX"
   },
   "outputs": [],
   "source": [
    "label_data = tweets['Class']"
   ]
  },
  {
   "cell_type": "code",
   "execution_count": 10,
   "metadata": {
    "colab": {
     "base_uri": "https://localhost:8080/",
     "height": 35
    },
    "id": "qB3VquR3Im7Y",
    "outputId": "825d3373-b76c-4039-bcca-97ae56697258"
   },
   "outputs": [
    {
     "data": {
      "text/plain": [
       "'Kahramanmaraş türkoğlu ilçesi şekeroba köyü çağrı sokak no 4 çadır yatak ısıtıcı ölen insanlae için de kefen ihtiyacı var  iletişim:05435379496'"
      ]
     },
     "execution_count": 10,
     "metadata": {},
     "output_type": "execute_result"
    }
   ],
   "source": [
    "tweets_data[0]"
   ]
  },
  {
   "cell_type": "code",
   "execution_count": 11,
   "metadata": {
    "colab": {
     "base_uri": "https://localhost:8080/"
    },
    "id": "MnWC1yX7IqFD",
    "outputId": "8d1e21cb-d04b-47d3-d2b1-d7370816b6eb"
   },
   "outputs": [
    {
     "data": {
      "text/plain": [
       "1.0"
      ]
     },
     "execution_count": 11,
     "metadata": {},
     "output_type": "execute_result"
    }
   ],
   "source": [
    "label_data[0]"
   ]
  },
  {
   "cell_type": "code",
   "execution_count": 12,
   "metadata": {
    "id": "omQsBolmP2mc"
   },
   "outputs": [],
   "source": [
    "target = tweets['Class'].values.tolist()\n",
    "data = tweets['Tweets'].values.tolist()"
   ]
  },
  {
   "cell_type": "code",
   "execution_count": 13,
   "metadata": {
    "colab": {
     "base_uri": "https://localhost:8080/"
    },
    "id": "LCZGl1CZH_ZK",
    "outputId": "083eb078-46ac-4e6a-c548-3df2c33b6c28"
   },
   "outputs": [
    {
     "data": {
      "text/plain": [
       "499"
      ]
     },
     "execution_count": 13,
     "metadata": {},
     "output_type": "execute_result"
    }
   ],
   "source": [
    "len(target)"
   ]
  },
  {
   "cell_type": "code",
   "execution_count": 14,
   "metadata": {
    "colab": {
     "base_uri": "https://localhost:8080/"
    },
    "id": "rZl8Zk6kIv7B",
    "outputId": "543866eb-71ab-4659-c121-b7a234955073"
   },
   "outputs": [
    {
     "data": {
      "text/plain": [
       "1.0"
      ]
     },
     "execution_count": 14,
     "metadata": {},
     "output_type": "execute_result"
    }
   ],
   "source": [
    "target[0]"
   ]
  },
  {
   "cell_type": "code",
   "execution_count": 15,
   "metadata": {
    "colab": {
     "base_uri": "https://localhost:8080/"
    },
    "id": "E0o34njsIEzR",
    "outputId": "6de58c04-f25e-4332-f44a-6d801d44c319"
   },
   "outputs": [
    {
     "data": {
      "text/plain": [
       "499"
      ]
     },
     "execution_count": 15,
     "metadata": {},
     "output_type": "execute_result"
    }
   ],
   "source": [
    "len(data)"
   ]
  },
  {
   "cell_type": "code",
   "execution_count": 16,
   "metadata": {
    "colab": {
     "base_uri": "https://localhost:8080/",
     "height": 35
    },
    "id": "bx2weES8IzTZ",
    "outputId": "4d1f55b9-3b67-420a-bb72-48a4efb89d7f"
   },
   "outputs": [
    {
     "data": {
      "text/plain": [
       "'Kahramanmaraş türkoğlu ilçesi şekeroba köyü çağrı sokak no 4 çadır yatak ısıtıcı ölen insanlae için de kefen ihtiyacı var  iletişim:05435379496'"
      ]
     },
     "execution_count": 16,
     "metadata": {},
     "output_type": "execute_result"
    }
   ],
   "source": [
    "data[0]"
   ]
  },
  {
   "cell_type": "code",
   "execution_count": 17,
   "metadata": {
    "id": "5yRKgnKQP2mc"
   },
   "outputs": [],
   "source": [
    "cutoff = int(len(data) * 0.80) #listeyi böldük\n",
    "x_train, x_test = data[:cutoff], data[cutoff:]\n",
    "y_train, y_test = target[:cutoff], target[cutoff:]"
   ]
  },
  {
   "cell_type": "code",
   "execution_count": 18,
   "metadata": {
    "colab": {
     "base_uri": "https://localhost:8080/",
     "height": 53
    },
    "id": "E7uVVPIFP2md",
    "outputId": "b06e7ee9-621d-4f65-c6bf-5008b987780e"
   },
   "outputs": [
    {
     "data": {
      "text/plain": [
       "'Bir var bir yok  Onlar öğrenci tam anlamı ile çalışmadı  Bir çalışma yaptırıyorum bir yok  Nedir bu ya çocuk oyuncağı yaptınız. Ummadığınız staj mağdurları ve ailleri sandıkta deprem etkisi yaratacak  Biz çocuk değiliz seçmeniz  Sigorta geçersiz olsa da oyumuz geçerli  #OyumStaja'"
      ]
     },
     "execution_count": 18,
     "metadata": {},
     "output_type": "execute_result"
    }
   ],
   "source": [
    "x_train[299]"
   ]
  },
  {
   "cell_type": "code",
   "execution_count": 19,
   "metadata": {
    "colab": {
     "base_uri": "https://localhost:8080/"
    },
    "id": "vJ2I8JjoP2md",
    "outputId": "ace347bd-2626-4855-a36f-4cb428a9746b"
   },
   "outputs": [
    {
     "data": {
      "text/plain": [
       "0.0"
      ]
     },
     "execution_count": 19,
     "metadata": {},
     "output_type": "execute_result"
    }
   ],
   "source": [
    "y_train[299]"
   ]
  },
  {
   "cell_type": "code",
   "execution_count": 20,
   "metadata": {
    "id": "oTP5nGZFP2me"
   },
   "outputs": [],
   "source": [
    "num_words = 500 # kelime haznemizdeki max kelime sayısı\n",
    "tokenizer = Tokenizer(num_words=num_words)"
   ]
  },
  {
   "cell_type": "code",
   "execution_count": 21,
   "metadata": {
    "colab": {
     "base_uri": "https://localhost:8080/"
    },
    "id": "9a38Qaw_Pvoj",
    "outputId": "3903f851-4d0b-4693-8577-92d588bb53f5"
   },
   "outputs": [
    {
     "data": {
      "text/plain": [
       "list"
      ]
     },
     "execution_count": 21,
     "metadata": {},
     "output_type": "execute_result"
    }
   ],
   "source": [
    "type(data)"
   ]
  },
  {
   "cell_type": "code",
   "execution_count": 22,
   "metadata": {
    "id": "HeVuembWPzS2"
   },
   "outputs": [],
   "source": [
    "data = np.array(data)"
   ]
  },
  {
   "cell_type": "code",
   "execution_count": 23,
   "metadata": {
    "colab": {
     "base_uri": "https://localhost:8080/"
    },
    "id": "pJN_OcEeQDmB",
    "outputId": "08840026-e053-48ec-8185-5ef07c4c1881"
   },
   "outputs": [
    {
     "data": {
      "text/plain": [
       "array(['Kahramanmaraş türkoğlu ilçesi şekeroba köyü çağrı sokak no 4 çadır yatak ısıtıcı ölen insanlae için de kefen ihtiyacı var  iletişim:05435379496',\n",
       "       'Teyitli, ses var, köpekler tepki veriyor.  Her şey var, sadece iki adet #ekskavatör lazım…  Ürgen paşa mah Atatürk cad Gül Apt 87/6  Nasrettin -Müzehher Maruf Ayda - mehmet Altay   Gassan Cilli 05322271102',\n",
       "       '0539 693 27 99 bu arkadaş Kahramanmaraş’ta çadır yokmuş 20 aylık bebeği var yakın olan konumla bilgisi olan varmı yakında çadırken olur çadır getirecek olur arabasının yakıtı bitmiş askerlik arkadaşımdır kendisi',\n",
       "       'Babamın yaşadığı yere henüz yardım ulaşmamış şarjlari çok az güvenligi olmayan bir alandalar kar yağıyor hipotermi gecirebilirler iletişim kurduk ateş yakamıyolar.Erzakları da yok  Kalaycik mahallesi Kalaycik sokak no:33 Islahiye/Gaziantep Elif koyuncuoglu  0539 248 9403',\n",
       "       \"Samsun Atakum'da 18 adet yeni eşyalı daire vardır. 8 aylık kira ve ısıtma masrafları ödenmiştir. Ulaşım için destek sağlanacaktır.  İletişim:  05306684818  Yavuz Bey\",\n",
       "       'Adıyaman merkez Bahçecik mahallesi yeni mezarlık yolu 1845 sokak no 6. Dışarıda yardım bekliyorlar 4 gündür sokaktalar. Arkadaşım ve 15 kişi ailesiyle beraber çok zor durumdalar çadıra oduna kömüre ihtiyaçları var ne olur yayalım',\n",
       "       'YETERSİZMİŞ ACİL YARDIM GİTMESİ LAZIM ( TEYİTLİ )  HATAY / Samandağ yolu üzeri Koyunoğlu mahallesi Çamlık sokak No 19  Arkadaşımın ailesine ve bir çok insana yardım gerekiyor  battaniye, çadır, erzak, bebek bezi, hijyenik ped lazım  NAZLICAN AKSOY / 0539 478 54 45',\n",
       "       'ACİL VİNÇ VE KEPÇE LAZIM SES VAR ‼️  SÜMERLER MAH ASEL APT ŞÜKRÜ GÜÇLÜ BULVARI YEŞİL BEYAZ APT ANTAKYA   enkazda kalan: enes çulhacıoğlu   enkazın başında bekleyenler: ahmet Çulhacıoğlu 05379290473 hazar çulhacıoğlu 0 538 584 81 44',\n",
       "       'TEYİTLİ  6 AYLIK HAMİLE CANSU KAVLAK. VİNÇ LAZIM. DESTEK EKİP LAZIM. HASSAS CİHAZLA SES ALINDI LÜTFEN YARDIM EDİN 📍Ekinci Mh. İnönü Bulvarı No: 124 Elit Apartmanı Kat 5 daire 25 Antakya',\n",
       "       '‼️ARKADAŞLAR YAYAR MISINIZ ‼️  SES VAR AMA SİSMİK DINLEME ARACINA IHTIYAC VARMIS Kahramanmaras Onikisubat Hayrullah mahallesi malik ejder caddesi   altın kösk apartmani no 36 a blok kat 3 daire  5 şevval Gültekin 17 yasinda ',\n",
       "       'K.maraş Türkoğlu Beyoğlu mahallesi yeni Adana yolu lise civarı no55 erzak çadır yardımı acil +905510103613',\n",
       "       \"Hatay Narlıca'ya yeterince gıda,battaniye vs yardımı gitmiyormuş,hava çok soğukmuş bu adreste birçok kişi yardım bekliyormuş oradan biri ile iletişim için: 05523797644  *Bölge(ekte)burası,TüvTürk ve GEK ilaç fabrikası arasında gıda ve battaniye lütfen\",\n",
       "       'AFET BÖLGESİNE MALZEME YOLLAYCAĞIZ AMA TIR BULAMIYORUZ ÇEVRENİZDE ÜCRETİ KARŞILIĞINDA ANTEP NURDAĞINA GİDECEK TIR VARSA YÖNLENDİRİR MİSİNİZ İSTANBULDAN KALKIP GAZİANTEP NURDAĞINA GİDİCEK 0545 572 89 27 BÜNYAMİN BALLI',\n",
       "       'OKAN VE AİLESİ 70 SAATTİR ENKAZDA ÇABALARIMIZ SONUCU EKİPLERİ ORAYA YOLLATTIK AMA MÜDAHELE İÇİN VİNÇ LAZIMMIŞ LÜTFEN ÇOK ACİL  adres:odabaşı mah. uğur mumcu blv. defne sitesi 17. blok antakya/hatay ekipler kontrolü bırakmış. ekip ve vinç  +90 0543 965 70 68 irtibat no',\n",
       "       '-KAHRAMANMARAS  !!!! ÇOK ÖNEMLİ !!!! Kahramanmaraş Döngel köyü (döngel mağaraları) kümeevler kayseri ana yolunun kenarı 100 kişilik çadır lazımTemel gıda en çok çadir çocuk bezi mamalar yok,o civardaki köylerde çok mağdur',\n",
       "       'ADIYAMANDA ARKADAŞIMA ACİL ÇADIR LAZIM  HISNI MANSUR CADDESİ  BATUHAN BATUR :0 539 821 24 25',\n",
       "       'ACİL HALA YAŞAM VAR‼️‼️ Odabaşı Mahallesi. Bektaş Sokak. Farklı Yaşam Rende Sitesi A Blok. HATAY/ANTAKYA İkra Nur Memilli, Songül Memilli, Hasan Memilli, Yavuz Memilli. 3 Gündür enkaz altındalar. Vinç gelmiş fakat ekiplerin gece çalışabilmesi için Flaşör gece lambası lazımmış',\n",
       "       '⚠️⚠️⚠️⚠️Çok Acil‼‼‼‼ Osmaniye kadirli 7 mart mahallesine erzak su ısıtıcı yardımları daha ulaşmamış sınırlı sayida olan markette ki ürünlerde tükenmiş insanlar aç ve susuz orada. Küçük bebek çok mama ve yemek gerekli  Iletişim +90 543 533 01 54',\n",
       "       'Çocuk için acil; Öksürük şurubu, pişik kremi ve 5 numara çocuk bezi ihtiyacı. Adres: Adıyaman/merkez Adıyaman Üniversitesi İletişim: Gökhan sonuç 05442040876',\n",
       "       'ADIYAMAN ÇADIR GEREKİYOR🚨 Bebek var arabalarda kalamıyorlar  Yeşilyurt taziye evi aşağısı ceylan düğün salonuna doğru Adıyaman Merkez Yeşilyurt mahallesi 21188 sokak  0543 682 12 80 Ararlarsa tarif ederiz',\n",
       "       '🚨🚨🚨ACİL🚨🚨🚨ACİL🚨🚨Kahramanmaraş/Onikişubat Şazibey mahallesi Haydar Aliyev bulvarı yunus apartmanına acil termal kamera lazım.',\n",
       "       'CADIR ERZAK TEMEL GIDA ACIL Beyoğlu mahallesi istiklal caddesi Selvi sokak no :9 sağlık ocagı dönüşü köşe başı KAHRAMANMARAŞ Remzi Ercan 05330555658  Çocuk var yanlarında 10 aylık ve 4 yaşında şuanda 15 kişiler tek bir çadıra sığarız biz diyorlar  ACİL‼️‼️‼️‼️‼️‼️',\n",
       "       'Hatay defne toygarlı köyü şehirden gelenler buraya yerleşmiş ancak hiç battaniye gıda su yardımı ulaşmamış. 2000 kişi kadar. Acil ve Teyitli. 0531 372 58 10',\n",
       "       '20 kişilik bir aile Hatay/Kırıkhanda mahsur. Yemek,su,çadır hicbirseyleri yok. Adresleri: Bahçelievler mahallesi 514 sok. No:26  İrtibat: 0538 310 86 32',\n",
       "       'Hatay kırıkhan, ılıkpınar mahallesi, ılıkpınar sokak. Mahmut bey köy muhtarı  05305601936 Köye girdikleri an beni görürler diyor Enkaz altımda kimse yok ama hepsi dışarda yatıyor acil çadır lazım #hatay #hataydeprem #hatayyardimbekliyor #HatayKırıkhanaYardım #deprem #acil',\n",
       "       'Gaziantep 5. O.S.B. Atlantik Halı yemek verilmektedir. İsteyen herkes alabilir.',\n",
       "       '‼️‼️TEYİTLİDİR‼️‼️ YAYALIM‼️‼️  Çobanbeyli mah Mehmet Akif Ersoy cad. No 44 çobanbeyli köyü Afşin/Kahramanmaraş  ACİL ÇADIR VE POWERBANK İHTİYAÇLARI VAR LÜTFEN YAYALIM',\n",
       "       \"Gaziantep Merkez, İslahiye ve Nurdağı'nda insanların su, battaniye ve yiyeceğe ihtiyacı var.   YARDIM ULAŞMIYORMUŞ. LÜTFEN YARDIM EDİN.\",\n",
       "       \"Hatay'da yaşayan arkadaşım paylaşmış bu videoyu. İskenderun/Expo alanında yardım tırı var. Her türlü yardım malzemesi var. İhtiyacı olan araçla gidip alabilir.\",\n",
       "       'Karaköse mahallesi Cumhuriyet caddesi no 21.  (Recep Tayyip Erdoğan parkının üst tarafında)  Yayladağı HATAY.  bir evde 22 kişi kalıyorlar yiyecekleri yok. yardımlar ulaşmıyor.erzak, benzin, bebek bezi, ped ne olursa ihtiyaçları var. 0536 498 32 81- veysel keçeli',\n",
       "       'Malatya Doğanşehir ve köylerine acil ısıtıcı çadır ve erzak gitmesi lazım!!! TEYİTLİ #Malatya #AFAD',\n",
       "       'ÇOK ACİL Rümeysa Çağdar hatay antakya harbiye caddesi defne sokak mozaikler sitesi no22 05342029675 TIBBI YARDIM LAZIM',\n",
       "       '0545 372 22 73 bu numaraya çadır isteyen herkes ulaşsın',\n",
       "       'ACİL YİYECEK VE GİYECEK DESTEĞİ ŞU ANA KADAR HİÇ YARDIM GİTMEMİŞ!! TAVLA MAHALLESİ SAĞLIK SOKAK SAĞLIK OCAĞI YANI DEFNE/HATAY RECEP RENDE 0536 510 96 03',\n",
       "       'Girmana mahalle muhtarlığı Hekimhan/Malatya lütfen yayalım. Acilen çadır, ısıtıcı, kıyafet ve Gıda ihtiyaçları var. Dün gece -13dereceydi soğuktan donarak öleceğiz dediler. lütfen yardım edin.Mahalle muhtarı Cafer Kınık: 536 589 04 87 Adem Kınık: 535 931 26 50',\n",
       "       '05070455426 teyitli numara -Adıyaman merkez eğriçay parkı yakınlarındayız- hamile kadınlar var ISITICI LAZIM ACİL !! Isınamıyorlar !!!',\n",
       "       'ACİL YARDIM!!! 20 AYLIK MİNİK BEBEĞİ VAR LÜTFEN YARDIM EDİN OĞLU EPİLEPSİ HASTASI ACİL ŞU İLAÇLARA İHTİYACI VAR (Sabril, Keppra Topamax, Xamate) AYRICA GIDA VE GİYİM MALZEMELERİ HİÇ YOK ADRES ANTAKYA MERKEZ ALTINÇAY MAH MEHMET KAFADAR CD TOKİ CAMİ 05057337380 MEHMET FATİH TUNÇ',\n",
       "       'gıda yardımına ihtiyaç, çocuk bezi, kuru gıdaya ihtiyaç kahramanmaraş türkoğlu ciceli mah. küme evleri 05382439040 Hatay Antakya ',\n",
       "       '🚨🚨🚨 ACİL AFŞİN 🚨🚨🚨 Aritas mahallesi arıpınarı caddesi no 6 Afşin Kahramanmaraş Hava çok soğuk, ÇADIR YOK. Küçük kızlar donmak üzere. ACİLEN ÇADIR GEREKİYOR!  @ahbap   @DepremDairesi   @AFADBaskanlik   0 531 627 24 48 Selda Gevher 19:30 itibariyle teyitli',\n",
       "       'GAZİANTEP   Yunus Emre mahallesi egemen sk no:8 Nizip/Gaziantep  05366638187 Ali Gürçaylı  Yaklaşık 30 kişilermiş. İçlerinde bebek ve çocuklar da var. Acil soba, battaniye, kuru gıdaya ihtiyaçları var.',\n",
       "       'Ailem Malatya’nın Akçadağ köyündeler. 100 kişilik bir köyde sadece 2 tane çadır var. Acil olarak çadıra ve gıda ihtiyacımız var. Lütfen yardım edin!!!!! İletişim:  Şabettin Cengiz 05379868467',\n",
       "       'ACİL VİNÇ VE KEPÇE LAZIM SES VAR ‼️  SÜMERLER MAH ASEL APT ŞÜKRÜ GÜÇLÜ BULVARI YEŞİL BEYAZ APT ANTAKYA   enkazda kalan: enes çulhacıoğlu   enkazın başında bekleyenler: ahmet Çulhacıoğlu 05379290473 hazar çulhacıoğlu 0 538 584 81 44',\n",
       "       'ACİL! kahramanmaraş göksun tombak mahallesi çadır ve kuru gıda yardımına ihtiyaçları var. yardım geliyor fakat tam olarak ihtiyaca yönelik değil Göksün üzerinden yol yıkılan köprülerden ve kardan dolayi kapali ulasım elbistan üzerinden oluyor. çağrı koca 05307021040',\n",
       "       \"Hatay Kadın Voleybol Takımı'nın bulunduğu bina için çok acil termal ısı kamerası gerekmekte.  Lütfen hala vakit varken kızlarımızı kurtaralım   Adres: Cumhuriyet mahallesi, Bostan sokak, Yeşilyurt apartmanı, No:1 Antakya Spor Salonu karşısı.\",\n",
       "       'Kahramanmaraş Göksun Taşoluk köyü barınma ve erzak ihtiyaçları var lütfen paylasırmısınız teyitli numarasını atabilirim',\n",
       "       'Yemek barınma ihtiyacı vardır lütfen RT yapalım  Orduzu leylekpinari mahallesi çıkmaz sokak veysel Karani camisi yanı / Malatya',\n",
       "       '1. AĞIZDAN TEYİT ETTİRDİM ACİL GIDA YARDIMI Fatma Çamkerten  Mimar Sinan mh. Kızılay cd. Kumeevler no11 Üç gündür gıda ulaşmıyor. Kanser son evrede, yatalak dede Kadın çok zor durumda. Kırıkhan/ Hatay 4 kişilik aile 05541274913 Fatma Hnm.',\n",
       "       'YETERSİZMİŞ ACİL YARDIM GİTMESİ LAZIM ( TEYİTLİ )  HATAY / Samandağ yolu üzeri Koyunoğlu mahallesi Çamlık sokak No 19  Arkadaşımın ailesine ve bir çok insana yardım gerekiyor  battaniye, çadır, erzak, bebek bezi, hijyenik ped lazım  NAZLICAN AKSOY / 0539 478 54 45 @AFADBaskanlik',\n",
       "       '*ACİL YARDIM..!!!*  Arkadaşlar hataydan arkadaşımla konuştum depremden dolayi köylerdeler ve yardim gitmemis suya kiyafete ve yiyeceklere ihtiyaclari var Hatay Altınözü karbeyaz köyü iletişim: 5054172392 merve bayraktar  *TEYİTLİDİR..!!!!*  #deprem #hatay',\n",
       "       'TEYİTLİ!! ACİL YARDIM Altınözü Tepehan Köyü kendi imkanlarıyla hayatta kalmaya çalışıyor. Hiçbir yardım ulaşmamış.  Lütfen destek olalım',\n",
       "       'Acill retweet!!!  Adıyaman donuyor Çadır ihtiyaçları varmış .        Çukurtaş köyü Derebaşı mezrası Kahta/Adıyaman Teyitli bilgi 20.25',\n",
       "       'Narlıca mahallesi cumhuriyet caddesi 227.sokak no 12 aksan düğün salonu arkasındaki apartman tır garajı yanı bina no 12 Antakya  +90 (552) 404 66 88 türkan  Acil gıda ihtiyacı va',\n",
       "       'Ahmet Taner Kışlalı Spor salonuna gıda, battaniye,kefen, ısıtıcı,mont yardımı lazım',\n",
       "       'ADIYAMAN   Adıyaman Çelikhan mestan köyünde gıda ve çadır ihtiyaçlari var hala erzak ulaşamamış kendilerine  +90 545 422 26 44 kemal abi',\n",
       "       'Hatay Antakya Tanışma köyü acil çadır ve erzak yardımı lazım çocuklar bebekler var iletişim numaraları 05326906575 05379976011',\n",
       "       'Teyitli Bilgidir ❗  Adıyaman / Çelikhan ilçesi Kurudere mahallesi. Kıyafet,ayakkabı,mont öncelikli ihtiyaç günlerdir yardım ulaşmamış. Köydeki çocuklar 7-15 yaş arası çocuklar yetişkin Lütfen paylaşalım.',\n",
       "       'TEYİTLİ-MEHMET BALBABA-TELEFON SİNYALİ VAR OTOPARK BOŞLUĞUNDA OLDUĞU DÜŞÜNÜLÜYOR-ŞEKERDERE CADDESİ GO PETROL KARŞISI SEDA APARTMANI KMARAŞ ONİKİŞUBAT  ACİL TERMAL KAMERA',\n",
       "       'KAHRAMANMARAŞ/Kanlıkavak mahallesi bahçepınar caddesi no:20 kanlıkavak yolçatından sol yukarı çıksınlar babam yolda bekliycek ararlarsa bulurum onları dedi. ACİLEN ÇADIR İHTİYACI VARDIR!! FAKAT İSİM YAZDIRILMASI GEREK!!! İletişim No:0507 469 1946 TEYİTLİ BİLGİDİR!!  YAYALIMMM!!',\n",
       "       'Ekipmanları arttırın lütfen‼️ Jeneratör Vinç Hilti ihtiyacı var nolur yardım edin. Altınşehir mah. Bahçeşehir sitesi1 B blok Kat:1 Adıyaman/Merkez Serkan İnal ve ailesi enkaz altında 4 gün oldu',\n",
       "       'Hatay/iskenderun Gürsel mahallesi Teknik üniversitesi arka giriş kapısı karşısında Alina cafe var önlerinde afad çaldırı var Battaniye ve ısıtıcı lazım elektrikli soba kuru gıda ihtiyacı İletişim: 0 (507) 792 78 09',\n",
       "       'MALATYA  Battalgazi mahallesi düzen sok no 33  Ali Süngü Telefon 0538 834 95 78  *Kalabalık bir aile, çadır haricinde gıda ve yakacak eksikleri var*',\n",
       "       'Merkez / Derekoyu Kahramanmaraş  Adı: Ali İletişim no: 0536 715 29 24                                         Köydeler yardım ulaşmamış soğuktan donmak üzereler. Kıyafet gıda odun kömür ihtiyaçları var lütfen yardım ulaştıralım. Teyitli bilgidir yayalım.',\n",
       "       'Maraş Elbistan bölgesinde gıda yiyecek içecek vs vardır. Acil en temel ihtiyaçlar soba kömür piknik tüpü iç çamaşırı çadır tencere katalik benzin ve mazot ulaşmamıştır. Bunlara şu an çok ihtiyaç vardır. Teyitlidir avukat Tarık Şahin  İletişim: 0 505 070 16 46',\n",
       "       'TEYİTLİ arkadaşlar annemin akrabası lütfen yardımcı olun  8 aylık bebek için bez,mama ve kıyafet ihtiyacı var.   Malatya Kuluncuk Kızılhisar Fatoş Boyraz 05397987977',\n",
       "       'Hızlıca yayar mısınız?  Kahramanmaraş acil çadır ısıtıcı gıda yardımı lazım🙏🏻🙏🏻🙏🏻🙏🏻 İstiklal mah. Cumhuriyet CAD. Kahramanmaraş Çağlayancerit +90 541 728 08 27  Sevim Yiğit Dışarıda bekliyolar acil yardım gerekiyor',\n",
       "       'ÇOK ACİL 🚨 EKSKAVATÖR- BÜYÜK BOMLU KEPÇE KISKACI LAZIM  Lütfen yayalim cok acil lütfen  HATAY-ANTAKYA, Odabaşı, Kanguru sokak, Özgür apartmanı 5 kişilik KARACA ailesi hala enkaz altında çok acil destek lütfen ',\n",
       "       'KAHRAMANMARAŞ, TÜRKOĞLU İLÇESİ BEYOĞLU MAHALLESİNDE ARKADAŞLARIMIZIN ÇADIRA İHTİYACI VAR. ÇOCUKLAR SOĞUKTA BEKLİYOR😞 BU CİVARDA BİR YARDIM HABERİ GÖRÜRSENİZ İLETİN LÜTFEN.   CEP TELEFONU 0537 209 3590',\n",
       "       'Hatay yayladağı leylekli köyü  kuru gıda bebek malzemeleri bez vs battaniye ihtiyaçları var Antakya da evleri yıkılanlar da köye gelmişler yardım tırı ulaşmamış (enkazlar ulaşımı zorlaştırdığı için) zor durumdala',\n",
       "       'Malatya Battalgazi hidayet mah. Çalıkuşu sokak no 4 neşe Sarıkaya  0538 342 13 31  Gıda su battaniye ev hasarlı lütfen elden ele yayalim belki bir yardım getiren olur lütfen yayalım',\n",
       "       'KAHRAMANMARAŞ  ACİL VİNÇ LAZIM  Yenişehir mah/cumhuriyet bulvarı/köker sitesi No:4 B blok dulkadiroğlu/ iş bankasının olduğu site/   Gizem toprak 05545530467   vinç lazım',\n",
       "       'Nurdağı sakçagözü köyü bisküvi yemekten halsiz olmuş insanlar çadırlar kurulmuş Kuru gıda gelirse kendi yemeklerini yapabilme imkanları var  0536 739 7027',\n",
       "       'KAHRAMANMARAŞ‼️ Molla gürani mah. 61001/ 1.sok no: 20 Sümbüllü Karacaoğlan Parkı üstü ONİKİŞUBAT/KAHRAMANMARAŞ İsim soyisim: volkan musa aksakal  No: 538 878 9180 İhtiyaçlar:  Gıda  Su',\n",
       "       'Antakya DEFNE \"Harbiye BP\" (benzin istasyonu) ye çadır lazım\" 15 20 kişi açıkta. Çadır lazım olan kişilerin telefonu: Semir MANSUR +90 535 584 16 00 Edip Mansur +90 532 365 18 96 9.02.2023 saat 20,30 da  tel.ile konustum dışarıdalar ateş yakarak korunuyorlar ACİL ÇADIR duyuralım',\n",
       "       'Karaali mahallesi Antakya/Hatay ihtiyaçları gıda su ve çadır. Hiçbir yardım ulaşmamış . Gelen yardımlar yolda yağmalanmış.',\n",
       "       'Allah rızası için şunu da yayın ne olur ya   KAHRAMANMARAŞ ACİL ÇADIR İHTİYACI ‼️  Dulkadiroğlu/ Kahramanmaraş  Ballıca Mahallesi Şeref Eroğlu Caddesi   0530 083 21 68',\n",
       "       'ALİTAŞI MAHALLESİ 1248 SOKAK UMUT APARTMANI B BLOK NO 1 KAT 3 NO 15 ADIYAMAN/MERKEZ  TERMAL KAMERA LAZIM LÜTFEN ACİLLL!!!!!',\n",
       "       'TEYİTLİDİR SES VAR VİNC LAZIM    HÜRRİYET 17. SK NO:14 46050 KAHRAMANMARAŞ MERKEZ EBRAR SİTESİ   POYRAZ AVCI (12 YAŞ) AKIN AVCI  DİLEK AVCI  İrtibat No:0552 547 3864',\n",
       "       'HATAY SAMANDAĞ İLK GÜNDEN BERİ YARDIM GİTMEMİŞ lütfen  Tekebaşı mahallesi Sutaşı Mahallesi Kuşalanı mahallesi Yeşilada mahallesi Favvar Mevki ve caddesi  ÇOK ACİL SU ERZAK BATTANİYE VE ÇADIR LAZIM LÜTFEN YAYIN ÇOK ACİL!!!!! 05358572832 0533 039 39 31 0530 065 03 44 0532 401 55 74',\n",
       "       '‼️TEYİTLİDİR‼️ VİNÇ VAR IŞIK VAR  ACİL EKİP VE TERMAL KAMERA GEREK  Begüm Ciritci 88 saattir enkaz altında.  Hava boşluğu var ⚠SESLERİ GELİYOR EKİP LAZIM⚠  Antakya/HATAY Cebrail Mahallesi, Fatih Caddesi, No:13, Katipoğlu Apartmanı  Özkan Uçar: 5323638123 Ümit Ciritçi:5346577770',\n",
       "       'ihtiyaçlar aynı çadır su gıda Altın ova mahlesi altın ova sokak no 265 ONİKİŞUBAT ilcesi kahramanmaraş ferhat çalışkan 05459418220',\n",
       "       'Abdülkerimyorgun caddesi yenimahalle şok ev no 76 hatay samandağ  0537 783 5198 bu adreste ciddi sayıda evsizler var ve hala vinç yardımı enkaz yardımı gelmemiş gıda yardımı var fakat çadır yok ısınamıyorlar bu numarada şebeke sorunu var arada bir tekrar deneyin',\n",
       "       'TEYİTLİ ÖLÜM TEH. ACİLİYETLİ  Malatya Doğanşehir Karaterzi köyü ve çevre köylerinde evler yıkılmış insanlar kar altında dışarda derme çatma yaşamaya çalışıyor. Öncelikli ihtiyaç jeneratör , temel gıda ve barınma ekipmanları  05373889473 Mahmut Çakır  0 (537) 890 39 38 Hasan Basri',\n",
       "       'Erkan kocaoğlu 05334776882 Karataş, 103410. Cd. 1-3, 27470 Şahinbey/Gaziantep Battaniye, Gıda, Su',\n",
       "       '“Acil yardım!!!!! yemek, bez, çocuk kıyafeti lazım!!!!!   Türkoğlu kaymakamlığına yakın, Gaziler 3013 sokak no 31 TÜRKOĞLU/MARAŞ”  Ümmühan sarı 0553 387 9773 @AFADBaskanlik @DepremDairesi @BabalaTv #depremsondakika #Kahramanmaras',\n",
       "       '‼️ACİLL TEYİTLİ‼️ ‼️KAHRAMANMARAŞ EKİNÖZÜ  ‼️+90 544 572 66 90 said  ⚠️yüyeceği içeceği geçtim millet soğuktan ölücek nerde bu millet  Nolur yardımedin çadırlarda millet dondu acilen battaniye ısıtıcı gitmeli',\n",
       "       'İletişime geçildi.  6 aile var toplam 20 kişi var. Gıda ihtiyacı varmış. Köy merkezine gıda desteği gelmiş ama yetişememişler.  Battaniye ve ısıtıcı ihtiyacı  Kıyafet ulaşmış, ama çadır yok çatı alında kalıyoruz dendi.  Maraş Afşin Altaş mahallesi',\n",
       "       'MALATYA- ARKADAŞLAR ÇOK ACİL. 2 gündür  YEMEK YEMEMİŞLER ÇOK KOTÜ durumdalar.  Köye ulaşılması gerek Bebek mama, kuru gıda vs iletilmesi gerek. MALATYA AKÇADAĞU GÜZYURDU KOYÜ İBRAHİM DİLGİN 05378274986',\n",
       "       'YARDIM : Malatya Akçadağ İkinciler Köyü  yardım yetersiz koca köye 2 koli gitmiş gıda bot mont kıyafet atkı bere çorap battaniye yorgan ÖZELLİKLE ÇADIR lazım bir an önce yardımın ulaşması gerekiyor İKİNCİLER KÖYÜ DAĞINIK VE ÇOK BÜYÜK   Malatya Akçadağ İkinciler Köyü  05539064244',\n",
       "       'Hatay Hassa ardıçlı Bu adrese lütfen gıda , elbise , temek ihtiyaç ne varsa yardım gönderebilirmisiniz ?????? Lütfen yardım ulaşmıyormuş.',\n",
       "       'Adıyaman merkezde evleri enkaz olan aile gidecek yer bulamıyor. Barınma, gıda desteği çok acil lazım  İletişim Numarası: 0(543) 619 40 53',\n",
       "       'ADIYAMAN ‼️  gölbaşı civkur tavuk çiftliği lojman evleri  Cumali Tokgöz 0 (539) 322 54 30  Acil olarak elektrikli ısıtıcı, ufo, gıda  Ve büyük beden kıyafet yetiskin için mont vs. Isıtıcı ufo en acil olanıymış',\n",
       "       'O RH (+) Kana acil ihtiyaç var trombosit  500 yataklı devlet hastanesi ŞANLIURFA  İrtibat numarası 0552 074 69 11‼‼‼ Acil kan ihtiyacı var!!!',\n",
       "       'ANTAKYA TEYİTLİ  2 yetişkin 1 BEBEK SESLERİ GELİYOR KEPÇE lazım Lütfen sesimizi DUYUN! Ekinci Mahallesi İnönü Bulvarı Alya Uçar Apt. No:128 TUTKU PASTANESİ İrtibat;Yusuf Yonca: 0532 744 96 46 Zafer Demirdöven: 0536 244 73 09',\n",
       "       'Teyitli:  Kahramanmaraş, Köseli Mah. Müdürler Sok. Küme Evleri No: 60/1  Acil çadır ihtiyacı var. Aynı zamanda battaniye, gıda ihtiyacı var, elektrik olmadığı için de powerbank ihtiyaçları olduğunu belirtiyorlar.  İletişim bilgisi: 0546 578 39 44',\n",
       "       '‼️bu adreste 3 4 tane bebek varmıs ‼️ bebeklere gıda yardımı gelmiş köy halkına gıda ve çocuklar için giysi gerekiyormuş yardım edelim Büyük Hasancık köyü ilkokulu merkez Adıyaman iletisim: +90552 814 5232',\n",
       "       'Arkadaşlar Hatay hassa mevkinde bebek maması,bebek bezi, bebek maması,su,gıda,biberon,battaniye gibi ihtiyaçları olan tanıdığınız varsa 05073499301 telefon numarası üzerinden iletişime geçebilirsiniz. İletip yayalım lütfen.',\n",
       "       'Hatay/İskenderun Numune mah. 186 sokak No: 14  05349164014 = Görkem Duman Erzak özellikle kuru gıda su giysi bebek bezi 5 numara bebek maması 3 numara fener',\n",
       "       'Yeşilyurt mah. Fatihsultan mehmet cad. No=35 a onikisubat k.maraş  Gıda, kıyafet ve ısınmak için odun kömür sıkıntısı yaşanıyor. Acil destek bekliyorlar. Köye çadır bile ulaşamamış arabada yaşamaya çalışıyorlar. Bebekler var. İletişim: +90 (538) 337 36 56 / Sultan Parlak  acil!',\n",
       "       \"RT❗ TEYITLI, güncel 9 şub 21:50  ‼️Kahramanmaraş'ın Nurhak ilçesi ve köyleri  Yakacak, Gıda, Yakıt, Mazot, Isınma, Barınma ihtiyaçları var. YOLLAR YIKILMIŞ, ulaşım zormuş ama oraya ACİL YARDIM istiyorlar  terk etmek isteyenler var ama benzin bulamıyorlar\",\n",
       "       'Göksun yağmurlu köyü Abdurrahman Kolukısa 05427173346 gıda ve  çadır ihtiyaçi vardır şimdiden teşekkürler',\n",
       "       'Kahramanmaraş, Köseli Mah. Müdürler Sok. Küme Evleri No: 60/1  Acil çadır ihtiyacı var. Aynı zamanda battaniye, gıda ihtiyacı var, elektrik olmadığı için de powerbank ihtiyaçları olduğunu belirtiyorlar.  İletişim bilgisi: 0546 578 39 44 ACİL',\n",
       "       'Kuzenim Aliye Ayfer Geçmen -Öfkeli, kizi :Rabia Öfkeli ve esi Metin Öfkeli göcük altinda! Bölgeye vinç gerekli Armutlu mahallesi Haci durmus sokak Öfkeli apartmani Taksi duraginin, pazartesi pazarin karsisi. AFAD: 03261120000 Iletisim/duyan/gören: +90 537 780 54 17',\n",
       "       'Gazidemircioğlu caddesi kayabaşı mahallesi atabey apartmanı kat:4 no:10 dulkadiroğlukahramanmaraşta enkaz altında. Bulunduğu konuma acil termal kamera gerekiyor.#depremsondakika #Turkey #earthquakeinturkey',\n",
       "       '-KAHRAMANMARAS  !!!! ÇOK ÖNEMLİ !!!! Kahramanmaraş Döngel köyü (döngel mağaraları) kümeevler kayseri ana yolunun kenarı 100 kişilik çadır lazımTemel gıda en çok çadir çocuk bezi mamalar yok,o civardaki köylerde çok mağdur',\n",
       "       'ACİL YARDIM (TEYİTLİ‼️‼️)  Taşoluk köyü Göksun/Kahramanmaraş acil yardım gerekiyor. Kendi imkanlarıyla çadır kurmuşlar ama hava çok soğuk çadırlar yeterli değil. Gıda ve su ihtiyaçları var. Çok kötü durumdalar lütfen. Bebekler, küçük çocuklar varmış. Lütfen acil yardım!!!!',\n",
       "       'Hatay kırıkhan kamberli köyü oda arkadaşım +90 533 091 12 94 ismail lütfen o tarafta olan ulaşsın kendi aracı var kırıkhana gelip alabilirim diyor  11 aile var  kuru gıda elibse ihtiyaçları var yardımcı olur musunuz ',\n",
       "       'Değirmenyolu mahallesi 6823. Sokak 4/2/3  Defne/Hatay  Hayattalar ama gıda, bataniye, ısıtıcı vs yardıma ihtiyaçları var',\n",
       "       '🔴TEYİT🔴 Bu adrese acil kadın kıyafeti, iç çamaşırı, ped, su, gıda ve çadır ihtiyacı var.  Adres: Kürecik köyü, Daraca Mahallesi, Akçadağ/MALATYA İletişim: 0545 530 24 21 (Hivda) 0546 225 17 59 (Beritan)',\n",
       "       \"Diyarbakır'da bebek bezi, mama ve gıda ihtiyacı olan aileler şu numaralar ile iletişime geçsin: 05327275717 05326801242 📌Bizim market şubeleri tarafından adreslere en kısa sürede teslim edilecektir.\",\n",
       "       'Defne belediyesi Koçören mahallesi yukarı Koçören sk. Gül villaları  Çok fazla sayıda çadır lazım çoğu insan dışarda kalıyor   Islak mendil, ped, su, bebek bezi, temel gıda, iç çamaşırı, çorap, mont ya da kalın ceket vb   +90 (536) 594 53 94',\n",
       "       '*TEYİTLİ BİLGİ* Az önce arkadışımla konuştum. Hatay Defne ilçesi , Dursunlu mahallesi acil çadır ve battaniye ihtiyaçları var özellikle çadır hava çok soğuk çocuklar soğuktan üstlerine poşet vb. ne bulsalar serecek duruma gelmişler.  İletişim Ahmet Uygun +905355488676',\n",
       "       'Elbistan cumhuriyet mahallesinde yakacak odun kömür ihtiyacı varmış. Acil bi şekilde ısıtıcı malzeme ihtiyacı var.',\n",
       "       'AKEVLER MAHALLESİ 4.AKEVLER SOKAK IRAZ APARTMANI ANTAKYA/ HATAY  AYAKLI IŞIK EL FENERLERİ KOVALAR TERMAL İÇLİK  ÇORAP  HAYDAR&MERVE&ADA MURSALOĞLU YARDIM BEKLİYOR!',\n",
       "       'Defne belediyesi Koçören mahallesi yukarı Koçören sk. Gül villaları  Çok fazla sayıda çadır lazım çoğu insan dışarda kalıyor   Islak mendil, ped, su, bebek bezi, temel gıda, iç çamaşırı, çorap, mont ya da kalın ceket vb   +90 (536) 594 53 94',\n",
       "       'Kahramanmaraş / Afşine ACİL gıda,ilaç,ısıtıcı,battaniye ve yatak ihtiyaçları var. Özellikle ısıtıcı ihtiyaçları var çünkü afşinde hava şuan çok soğuk. Bölgede afad çalışıyor fakat koordinasyon sorunu var ve yardımlar ulaşamıyor. LÜTFEN ACİL DESTEK 0539 204 4682 Eren Erkan',\n",
       "       'Malatya hekimhan ilçesi girmana mahallesi akpinar küme evler, Yahyali küme evleri gokceler küme evleri / hiç yardım ulaşmadı. Yiyecek kuru gıda yakacak kömür  ve giyecek & battaniye tel: +90 530 200 04 89 Yücel bey',\n",
       "       'ACİL!  Asker arkadaşım kardeşim Emin Güngör ve ailesi depremde evlerini kaybetti.. Bulundukları köye acilen ÇADIR desteği verilmesi gerekiyor! Temel ihtiyaçları ne durumda bilmiyorum.. LÜTFEN DESTEK OLALIM ARKADAŞLAR ACİL!!!  Malatya Yeşilyurt bindal köyü Cep; +90 (544) 964 52 03',\n",
       "       'Malatya Akçadağ bölüklü köyünde insanlara soğukta ölecekler bütün köy halkı yaşlı ilaçları yok aç susuz ısınacak bişey yok yardım edin köyün bütün yolları kapalı kar ve fırtınadan dolayı lütfen yardımcı olun tel :053-504-92043 Hasan kiraz',\n",
       "       'Beyoğlu mahallesi, şehit İsmail Orçan bulvarı no:32 Türkoğlu / Kahramanmaraş +905388623929  Tanju Ulu  Acil çadır desteğine ihtiyaç vardır. Yardımcı olun lütfen. Belirtilen adrese yardım gitmemiş. Güncel bilgidir. İletişim halindeyiz.',\n",
       "       '4 GÜNDÜR SU YOK Güneysöğüt mahallesi Defne ilçesi / Hatay adresine 500 kişilik çadır ve gıda yardımı gerekiyor. 4 gündür su dahi ulaşmamış.   Emre Kaplan Telefon: 0537 431 28 06',\n",
       "       'KAHRAMANMARAŞ ‼️  30 kişi, bebekler var, komple hiçbir yardım gitmemiş her türlü gıda, kıyafet ihtyiacları mevcut   Türkoğlu uzunsöğüt mahallesi yeşilyöre yolu kayapınar mevki küme evleri  türkoğlu  Mehmet kelepir 0553 416 35 46',\n",
       "       'ÇOK ACİLLLL ÇOCUKLAR DONARAK ÖLMEK ÜZERE ÇADIR ERZAK GİYİSİ İHTİYACI VAR Kahramanmaraş merkez/Onikişubat dadağlı mah. merkez sok. No:415',\n",
       "       'Kahramanmaraş /onikişubat /Döngel mahallesi/Döngel küme evler  05530136428 Abdullah Gök Çadır, yetişkin bezi, gıda ihtiyacı çok acil aynı zamanda battaniye ve ısıtıcı ihtiyacı var teyitli hiç yardım ulaşmamış insanlar açlık ve soğuktan neredeyse ölmek üzereler. Yardım acil',\n",
       "       'MUHTAR NUMARASI TEYİTLİ YAYALİM YENİ  Battaniye yetiskin bezi cadir Çocuk kiyafeti  Gida maddesi Su Çocuk bezi Ayakkabı Engelli birey(yürüme engelli) İlaç gerekiyor   Hatay/Altınözü/Oymaklı köyü Muhtar  Fadıl Balsever 05365093743 En doğru şekilde muhtarla iletişime geçebilirsiniz',\n",
       "       '#Hatay /Kirikhan Resatli Koyu   Hiç yardım gitmemiş   O bölgede olan lütfen arkadaşlarımız gıda su battaniye yardımı götürsün   Teyitli beni aradılar   +90 530 503 65 31',\n",
       "       'KIRIKHAN/HATAY ‼️  4 kişilik aile, üç gündür gıda ulaşmamış. kanserin son evresinde yatağa bağımlı bir yaşlıları var.  Fatma Çamkerten: 0 554 127 49 13 (ulaşılmazsa abisinin numarası: 05533050121) Mimar Sinan Mh. Kızılay cd. Kumeevler No: 11',\n",
       "       'Hayrullah mah. 27.sok. hisar apt. Kat:5 no:14 Onikişubat/Kahramanmaraş İnce bir çocuk sesi geldi. Bölgeye TERMAL KAMERA VE SES DEDEKTÖRÜ LAZIM. İletişim +90 551 061 89 36 +90 507 499 94 36  ALLAH RIZASI İÇİN YARDIM EDİN ÖLÜME TERK ETMEYİN NOLUR çocuk sesi geliyor',\n",
       "       'Güncel teyitli:  7 kişi ısı alınmış Cebrail mah. 3203 sk. Kent apartmanı Antakya HATAY  İhtiyaçlar ekskavatör jenaratör kablo',\n",
       "       '❗️❗️❗️ ACİL YARDIM ❗️❗️❗️ 📍 Türkoğlu/Kahramanmaraş  Şekeroba Mahallesi soğuk ve açlıkla mücadele ediyor. Yiyecek, kıyafet, çadır, battaniye, powerbank ihtiyaç.  Türkoğlu/Maraş  İletişim Ahmet Süt: 0538 620 69 69',\n",
       "       'Hatay Toprakhisar köyü ACİL Çocuk kıyafetleri  Battaniye Çadır Su  Yemek Hiçbir şeyleri yokmuş  Acil yardım gerekiyor  @BabalaTv   @PincTivi   @FratAlbayram',\n",
       "       'Teyitli Şanlıurfa eyyübiye ilçesi buhara mahallesinde bulunan camiye sıgınan arkadaslar ve aileler cocukları için ve kendileri için yiyecek ve ısınma yardımı istiyorlar teyitli bilgidir. İrtibat no 0543 414 88 34 Muhittin Akdemir  @ProfDemirtas    @ahbap    @AFADBaskanlik',\n",
       "       '❗️AMBULANS❗️ Cumhuriyet Mahallesi 302 Sokak Gökkuşağı Sitesi B Blok Hatay/Kırıkhan.  ❗️AMBULANS❗️ Yine Hatay/kırıkhanda lütfen paylaşalım',\n",
       "       'Kırıkhan için acil çadır lütfen yardım edin çadır yardımına çok ihtiyaçları var lütfen  @AFADBaskanlik   @OguzhanUgur   @haluklevent   @BabalaTv',\n",
       "       '-KAHRAMANMARAŞ- 0 543 368 86 96 Kahramanmaraş Çağlayancerit ilçesi helete (Düzdağ) köyü köy sağlam çok sayıda insan var insanların sığındığı bi köy hiç gıda yok su bitmek üzere acil yardım destek gerekli',\n",
       "       'HATAY KIRIKHAN  az önce gönderdi yardım gönderilmemiş bebek maması, bezi, ısıtıcı gıda gerekiyormus',\n",
       "       'KAHRAMANMARAŞ orman bölge kavşağı imam hatip ortaokulu bahçesinde 9 aile derme çatma çadırlar içinde hayat mücadesi veriyoruz4 TANE BEBEĞİMİZ VAR 8 tane çocuğumuz var.  Lütfen çok acil çadır ısıtıcı battaniye kıyafet gıda gerekli!!!! Durdu Babur 0541 630 6872',\n",
       "       'ANKARA AHMET TANER KIŞLALI SPOR SALONU  öncelikli olarak gıda ihtiyacı varmış yardım götürebilecekler için sabaha kadar açık',\n",
       "       'TEYİTLİ BİLGİ ÇOK ACİL ‼️🚨‼️🚨  Defne belediyesi ÇÖKEK KÖYÜ Hatay/Antakya Dört gündür yardım gitmiyor. Çadır battaniye su bebek bezi gıda her türlü yardıma ihtiyaçları var  İletişim: 05339788608➡️Ertuğrul @AFADHatay   @AFADBaskanlik   @DepremDairesi   @Haydi_Ahbap  #deprem #ACİLYARDIM',\n",
       "       '-HATAY  Çadir battaniye mont 12 ve 9 yasinda Çocuklarim var ayakkabi Çorap powerbang  jenarator kuru gida su Çocuklar iÇin süt islak mendil kadin pedi. yag kahvaltilik 37,36, 39, 40 numara botlar giyecek beden L. Adres, güzelburÇ Mahallesi,Istiklal cad. 14 no.25 .tel. 05058534697',\n",
       "       'Mesaj   HALA ÇADIR GİTMEDİ   Adıyaman cumhurıyet mahallesi 25107.sokak  Sığınacak yerimiz yok sokakta kalıyoruz çadırlar için millet savaş veriyor burada. #adıyaman   Lütfen duyuralım',\n",
       "       '🚨🚨TEYİTLİ🚨🚨  GÖKSUN ESENKÖY MAHALLESİ KÜME EVLERİ NO 108 KAHRAMANMARAŞ  SEZER SÖYLER: 0535 043 5912  🚨🚨 MAHALLENİN TAMAMI ERZAK SIKINTISI ÇEKİYOR ÇOK ACİL YARDIM GİTMESİ LAZIM 🚨🚨 @DepremDairesi @AFADBaskanlik @ahbap @haluklevent @ProfDemirtas @gutitoli @JrokezFTW #MARAS',\n",
       "       '🚨 ÇOK ACİL‼️ YARDIM‼️ HATAY📍  500 kişilik çadır ve gıda yardımı gerekiyor. 4 gündür su dahi ulaşmamış.   Güneysöğüt Mahallesi, Defne/Hatay  İletişim: Emre Kaplan: 0537 431 28 06',\n",
       "       'Antakya Hatay Hüseyli köyü gıda su ihtiyacı var merkezden buraya yardım çok az geliyor burda 3 köy var acil destek gerekli  iletişim: 05312882789',\n",
       "       \"Teyitli:  Kahramanmaraş/Kırıkkilise Köyü'ne acil olarak çadır ve temel gıda, giyecek ihtiyacı var. Dağ köyü olması nedeniyle yardımlar çok kısıtlı kalmış, insanların acil olarak yardıma ihtiyacı var.  İletişim numarası: Eren Boyer - 05354623676\",\n",
       "       'Hatay-Kırıkhan/Ceylanlı Köyüne destek bekliyorlar. Acil olan ihtiyaç listesi; -Battaniye, ısıtıcı, jeneratör,su,çadır,bebek maması,bebek bezi,bakliyat,kuru gıda,ekmek,kışlık kıyafetler, konserve gıdaları Yayalım lütfen!',\n",
       "       'Diyarbakır/Kayapinar KENT MEYDANI  Çadır başına yalnızca 1 battaniye düşüyor. Çok acil gıda ve battaniye yardımına ihtiyaçları var lütfen duyurun!! tam adres: Mezopotamya mahallesi Kayapinar/Diyarbakır',\n",
       "       'YAYALIM! HİÇBİR AYNİ YARDIM ULAŞMAMIŞ.   acilen gıda ve ayni yardımlar buraya da yönlendirilebilir mi? Ve acil çadır ihtiyacı var.   Alsancak mahallesi.216 sokak ayasofya market no 26 Kırıkhan hatay. Hülya Kurt 0542 4070972',\n",
       "       'Açık adres: Mehmet Hayri Özkeçeci Spor Kompleksi  (Selahattin eyyubi,sanayi nolu caddesi no:1 27080 şehitkamil/gaziantep)  İsim Soyisim: Mustafa METE  Kişi sayısı: 3 yetişkin, 4 çocuk  İhtiyaç listesi: Çadır, gıda, su, süt, battaniye, ısıtıcı  @BabalaTv    @haluklevent',\n",
       "       'TEYİTLİ *Hatay:Kırıkhan* *Delibekirli mah. Tepe sokak 295 taksim 1* *15 kişiler kuru gıda,hijyen malzemesi,hijyenik ped 5 kadın için iç çamaşırı,çorap,battaniye, el feneri,pil,powerbank*  *Aşşağı yukarı 5 aile var* *Sadullah Kal +90 505 486 77 15* *Oğlu Ali Bura+90 543 498 50 65*',\n",
       "       'Gaziantep Vatan mahallesi bölgesine hiç bir yardım gelmiyor. Aileler araç içinde perişan. Aracı olmayanlar sabaha kadar dışarılarda soğukla savaşıyor. Acill çadır , battaniye, gıda, bebek bezi ve bebek maması lazım.  Yer : Gaziantep Vatan Mahallesi Doğu Eczanesi Yanı.',\n",
       "       'HASSA/AKBEZ bölgesine yardım gitmiyormuş arkadaşımdan haberini alıyorum. Gelen yardımlar da yağmalanmış. Çok az çadır olduğu için birçok insan dışarda kalmış, çocuklar sokakta kalıyormuş. Başta çadır olmak üzere gıda, çadır ve kıyafet yardımı gerekiyor. Lütfen destek olalım.',\n",
       "       '🔴TEYİT🔴 200 kişilik depremzede grubu, bebek maması, bebek bezi, hasta bezi, ped, temizlik malzemeleri, ısıtıcı ve gıda yardımı bekliyor. Adres: Maraş Selçuklu mah. 58016 Sk. ali riza ve seher zeybek taziye evi ve civarı İletişim: Özlem Hanım: 0 (505) 544 80 89',\n",
       "       \"Arkadaşlar az önce Ayşe Duygu Sabır'la görüştüm Kırıkhan Ceylanli köyündelermis gıda yardımi gitmiş ama çadirlari hiç yokmuş dışarda kalıyorlarmiş arablara da evden kurtardiklari eşyaları koyuyorlarmis lütfen yayabildigimiz kadar yayalım Çadir , taşınabilir tuvalet, ısınmak için+\",\n",
       "       'Kahramanmaraş/Türkoğlu  Hopurlu Mahallesi Işık Markete Isıtıcı Çadır ve gıda ihtiyacımız var. SEMANUR AKYOL : 05356937319 LÜTFEN BİLGİSİ OLANLAR YAZABİLİR Mİ YA DA YUKARDA Kİ NUMARAYA ULAŞSIN  ACİLLLL 🚨❗⚠️ #Kahramanmaraş #Türkoğlu',\n",
       "       'Kahramanmaraş/Türkoğlu  Hopurlu Mahallesi Işık Markete Isıtıcı Çadır ve gıda ihtiyacımız var. SEMANUR AKYOL : 05356937319 LÜTFEN BİLGİSİ OLANLAR YAZABİLİR Mİ YA DA YUKARDA Kİ NUMARAYA ULAŞSIN  ACİLLLL 🚨❗⚠️ #Kahramanmaraş #Türkoğlu',\n",
       "       'KAHRAMANMARAS   MARAŞ 12şubat Piri Reis Mah. 17. sok.  11 çocuk 25 kişi su,gıda ve çadır yardımı bekliyor.  Güler Ak: 05067803764',\n",
       "       'Kahramanmaraş/Elbistan hacı Hasanlı mahhalesi aşılık sokak no 20  0541 606 37 53 hasan boran  Bu adrestekiler hepsi yaşlı temel gıda ve battaniye lazım, çok zor durumdalar  +90 344 445 11 53 bulundukları yerin sabit telefonu',\n",
       "       \"LÜTFEN ACİL 🚨🚨🚨  Gaziantep Şahinbey'de BEBEKLİ bir aile için gıda, bebek maması ve bebek bezine ihtiyaç var. DIŞARIDALAR..  İLETİŞİM SEFA: 0552 613 80 78\",\n",
       "       'Gelen Mesaj:  Adıyaman merkez Doğanlı köyü ve mezralarına çadır gıda yaşamsal malzeme ısınma soba bekliyoruz köy muhtarı Hasan Nergiz 05336316923',\n",
       "       'RTDEN EL AŞINMAZ DESTEK VERELİM  Gaziantep Şahinbey sirasogut mahallesi En çok gerekenler çocuk bezi ıslak mendil temel gıda malzemeleri çorap iç çamaşır battaniye çadır acilen lütfen Sinan Özdemir 0530 468 68 62',\n",
       "       '⚠️Adıyaman için Yeşilyurt mahallesi 2165.sokak No :63 kadın hijyen malzemesi  Yemek öncelik battaniye Hazır yemek tarzı gıda  el feneri aquamentin1000 ilaç  Bir de kefen istiyorlar Ölüler var diye  +90 (551) 212 40 09',\n",
       "       'ACİL YARDIM ÇAĞRISI🚨  Hatay Altınözü AKDARI KÖYÜ  Saadettin Zan ile görüştüm az önce Gıda yardım tırları yollamak için çabalayın sadece burada insanlar perişan. Bunu yaymaya çalışın dedi +90 535 373 52 46',\n",
       "       'ACİL YARDIM ÇAĞRISI🚨  Hatay Altınözü AKDARI KÖYÜ  Saadettin Zan ile görüştüm az önce Gıda yardım tırları yollamak için çabalayın sadece burada insanlar perişan. Bunu yaymaya çalışın dedi +90 535 373 52 46',\n",
       "       'ERZAK LAZIM🚨  Temel Gıda, Bebek Bezi lazımmış.   Güneş evler mahallesi,Dulkadiroğlu ilçesi, kahramanmara. Muhtarlık binasındaymış. Sait Alcı-0541 141 16 96   Arkadaşlar lütfen.',\n",
       "       'Antakya Hatay Hüseyli köyü gıda su ihtiyacı var merkezden buraya yardım çok az geliyor burda üst üstte 3 köy var ben burdayım 05312882789 benim numaram irtibat kurabilirsiniz arkadaşlar dostlar Allah rızası için   @AFADBaskanlik   @DepremDairesi',\n",
       "       'Maraş göksün esen köy acil çadır ve gıda ihtiyaçları var teyitli dün kayseriye gelen bir depremzede bugün yardım için tekrar geri döndü hiç bir yardım ulaşmamış 0533 508 5259 benim numaram bana ulaşılırsa ben yardımcı olurum iletilmesi için iletişim için bütün köy aynı durumda',\n",
       "       'Teyitli bilgi Malatya Göztepe mah. Tutoğlu sok no 29 /1.  Epilepsi hastası çocuk var. İlacı bitmiş. İlacın adı frisum. Gıda ve giyim konusunda kötü durumdalar. Arkadaşlar yardım edebileceklere elden ele. Tanıyorum bu yardım istediğim kişileri gerçekten zor durumdalar. RT leyelim.',\n",
       "       \"Teyitli:  Kahramanmaraş/Kırıkkilise Köyü'ne acil olarak çadır ve temel gıda, giyecek ihtiyacı var. Dağ köyü olması nedeniyle yardımlar çok kısıtlı kalmış, insanların acil olarak yardıma ihtiyacı var.  İletişim numarası: Eren Boyer - 05354623676\",\n",
       "       'Gelen Mesaj:  Adıyaman merkez Doğanlı köyü ve mezralarına çadır gıda yaşamsal malzeme ısınma soba bekliyoruz köy muhtarı Hasan Nergiz 05336316923',\n",
       "       'Defne belediyesi Koçören mahallesi yukarı Koçören sk. Gül villaları  Çok fazla sayıda çadır lazım çoğu insan dışarda kalıyor   Islak mendil, ped, su, bebek bezi, temel gıda, iç çamaşırı, çorap, mont ya da kalın ceket vb   +90 (536) 594 53 94 1 17 3 177 ',\n",
       "       'Malatya Doğanşehir Karaterzi köyü ve çevre köylerinde evler yıkılmış insanlar kar altında dışarda derme çatma yaşamaya çalışıyor. Öncelikli ihtiyaç jeneratör , temel gıda ve barınma ekipmanları  05373889473 Mahmut Çakır  0 (537) 890 39 38 Hasan Basri',\n",
       "       '🔴TEYİT🔴 50 kişilik bir depremzede grubunun, gıda, yakacak ve su ihtiyacı var. Adres: karşıyaka eydibaba mahallesi  bademci sokak no/90 Şehitkamil/Gaziantep İletişim: GAMZE KARAYILAN : 05305444514 DİDEM KARAYILAN 05333117457',\n",
       "       'Kahramanmaraş Onikişubat demrek köyü ve etrafındaki bütün köyler için çadır ve gıda yardımı hala ulaşmamış zor durumdalar çadır olan bir yer bilen ulaşsın ! RT yapıp yayalım lütfen 🤲😥 @AFADBaskanlik   @DepremDairesi',\n",
       "       '🚨ERZAK LAZIM🚨  Temel Gıda, Bebek Bezi lazımmış.   Güneş evler mahallesi,Dulkadiroğlu ilçesi, kahramanmara. Muhtarlık binasındaymış. Sait Alcı-0541 141 16 96   Arkadaşlar lütfen.',\n",
       "       'Gıda, kıyafet ve çocuklar için soğuk algınlığı ilacına ihtiyaç varmış.  Adıyaman/Besni/Atmalı Köyü Züleyha Bozkurt 0545 357 9862',\n",
       "       '#hatay #deprem Çölyak hastaları glütensiz gıda - Şule Hanım 0539 953 53 41 - Kudret Özbakış 0532 337 01 63',\n",
       "       'Ferdane Tombul 05426970606 toplanma yerindelermiş şu an evde olmadıklarından telefon bırakıldı Dulkadiroglu/Kahramanmaras, gıda - battaniye - powerbank yardımı lazım 10 kişilik aile',\n",
       "       'ACİL YARDIM (TEYİTLİ‼️‼️)  Taşoluk köyü Göksun/Kahramanmaraş acil yardım gerekiyor. Kendi imkanlarıyla çadır kurmuşlar ama hava çok soğuk çadırlar yeterli değil. Gıda ve su ihtiyaçları var. Çok kötü durumdalar lütfen. Bebekler, küçük çocuklar varmış. Lütfen acil yardım!!!!',\n",
       "       '200 kişilik depremzede grubu, bebek maması, bebek bezi, hasta bezi, ped, temizlik malzemeleri, ısıtıcı ve gıda yardımı bekliyor. Adres: Maraş Selçuklu mah. 58016 Sk. ali riza ve seher zeybek taziye evi ve civarı İletişim: Özlem Hanım: 0 (505) 544 80 89',\n",
       "       'Hızlıca yayar mısınız lütfen   “Teyitli. Hatay Madenboyu köyü acil yardım malzemesi lazım. Su, gıda, kadın ve çocuk hijyen malzemeleri, battaniye.  HÜSEYİN OKUTAN 0538 773 99 79”',\n",
       "       '🚨 Yardım çağrısı:   Gaziantep Şahinbey sirasogut mahallesi En çok gerekenler çocuk bezi ıslak mendil temel gıda malzemeleri çorap iç çamaşır battaniye çadır acilen Sinan Özdemir 0530 468 68 62',\n",
       "       'TEYİTLİ  0 (542) 745 05 79   elektrik gıda su ped  ELMALAR KÖYÜ GÖKDAŞLAR MAHALLESİ MERKEZ KAHRAMANMARAŞ',\n",
       "       'Teyitli:  Tavla Mahallesi, Sağlık Sokak, Defne Beldesi Sağlık Ocağı yanı, Defne/Hatay  Deprem sonrası araçta kalıyorlar. Gıda ve su ihtiyaçları var.  İletişim: 05365109603 (Necip Rende)',\n",
       "       'Kahramanmaraş’ta terminalin 200 m ilerisinde tır parkında, 6 aylık bebeği ve 4 yaşındaki oğullarıyla beraber bir ailemiz var. Çocuklar üşüyorlar ve öksürüyorlarmış. Öncelikli ilaç ve 4 numara bebek bezi, mum/fener, gıda ihtiyaçları var. 0 (531) 687 23 02 Mehmet ali çetin kaya',\n",
       "       \"DM'DEN GELEN  Dilek Yakar +90 544 955 69 69 Gaziantep Nurdağı acil yardım gerekiyor 30 kişiye yakın bekliyorlar ilaç, kıyafet, çadır, battaniye gıda yardımı gerekli çok acil küçük çocuklar yaşlılar var soğukta dışarıdalar.\",\n",
       "       'Doğanşehir söğüt 5 çadır ve gıda 0 545 273 15 27 Baki güneş Malatya  05384651641 Söğüt mah şehit er Hasan Kubat caddesi Doğanşehir Malatya 3 çadır ve gıda',\n",
       "       'Teyitli!  #Samandağı ihtiyaç.   Yaşar Bey, 05057587714.   Malzemeler gelirse dağıtım yapabilirlermiş.   İhtiyaçlar : iç çamaşırı, kuru gıda, mum, geceleri çok karanlık diyor.   Varsa takviye çadır da lazım',\n",
       "       'Arkadaşlar Adıyaman Merkezde 3.5 yaşında Çölyak hastalığı olan bir çocuk için gıda lazım.  Bölgeye ulaştırabilecek olanlar lütfen benimle iletişime geçin.',\n",
       "       'ÇOK ACİL ÇADIR LAZIM!!   25-30 kişi çoğunluk yaşlı ayrica engelli çocuk var soğuktan hasarlı eve girmek zorunda kalmışlar. Ayrıca temel gıda, powerbank ve odun ihtiyaçları var. Dulkadiroğlu doğukent Aslan bey mahallesi 7077 sok no 26 Maraş  Tel 05305720168 Osman alıç  RT LÜTFEN🙏🏻',\n",
       "       \"Kahramanmaraş Türkoğlu İlçesi HACIBEBEK KÖYÜ  Ölülerini kendileri enkazdan çıkarmış.  Henüz hiçbir yardım gitmemiş!  500'e yakın insan var, çocuk ve bebekler dahil.  Gıda ihtiyaçları var.  ACİL  @AFADBaskanlik   @ahbap\",\n",
       "       'Çölyak hastaları glutensiz gıda : Şule Hanım 0539 953 53 41  Kudret Özbakış 0532 337 01 63  iletişime geçebilir  ‼️ HATAY ‼️ #hatayantakya #hatayacil  @melinastro   @kelbratz   @TarotLinera   @kalbimviran',\n",
       "       '🚨⚠️ Arkadaşlar, MALATYA / POLATLI ilçesinde 1000 kişiye yakın vatandaşımızın gıda ve giysi ihtiyacı varmış.   🙏 Yakın olan dostlar ilgilenirseniz sevinirim.',\n",
       "       'Murat arkadaşımın ailesi bu adresteler,gıda ve battaniye ihtiyaçları varmış arkadaşına iletebilir misin onlara ulaşırsa çok iyi olur  ❗️Siteler mahallesi kavi caddesi merve apartmanı no 18 merkez adıyaman❗️ İLETİŞİM 05302620246 HARUN DEMİR',\n",
       "       'Bebekli bir aile var. Su dahi yokmuş. Acil gıda, su, kıyafet ihtiyacı varmış.  Karadurmuşlu Mah, Karadurmuşlu Sok, No: 112, Kırıkhan/Hatay   İletişim: 05052316747',\n",
       "       'Kahramanmaraş / Pazarcık Çocuk bezi - Mama - Gıda - Çocuk montu ihtiyacı var. İletişim ve detaylı konum bilgisi için  ; 0 542 211 93 65',\n",
       "       'Teyitli:  Hatay/Kırıkhan, Camuzkışlası Köyü / Mecco Mah.  ACİL OLARAK çadır, gıda, battaniye, kıyafet, çamaşır ve bunun yanında bebek mamasıyla bebek bezi ihtiyacı var. İnsanlar soğuk sebebiyle çok zor durumda.  İletişim bilgisi:  Şükrü Kahraman - 0541 676 02 56',\n",
       "       'HATAYDAN ARKADAŞIM YAZDI. TEYİTLİ  \"Hatay/Hassa ilçesinde köylerde çadır, gıda gibi sorunlar var. Geceleri burayı -\\'lerde gösteriyor. Özellikle dağ köyleri kötü durumdaymış.\"  YÜKLENELİM',\n",
       "       'BİZZAT GÖRÜŞTÜM TEYİTLİ  Gaziantep Şahinbey sirasogut mahallesi En çok gerekenler çocuk bezi ıslak mendil temel gıda malzemeleri çorap iç çamaşır battaniye çadır acilen lütfen Sinan Özdemir 0530 468 68 62',\n",
       "       '-ADIYAMAN   iç çamaşırı, ped, kıyafet ihtiyacı var. Adıyaman Erdemoğlu mahallesi fen lisesi   İLETİŞİM: HÜLYA ÇULCU 05374405286',\n",
       "       'Adrese çadır, battaniye, bebek bezi ve ped yardımı lazım. Adres: Gözene Köyü, Doğanşehir/Malatya ve Yeşilyurt/Malatya İletişim: 0535 564 68 55(Levent Günay)',\n",
       "       'Defne belediyesi Koçören mahallesi yukarı Koçören sk. Gül villaları  Çok fazla sayıda çadır lazım çoğu insan dışarda kalıyor   Islak mendil, ped, su, bebek bezi, temel gıda, iç çamaşırı, çorap, mont ya da kalın ceket vb   +90 (536) 594 53 94',\n",
       "       \"Adıyaman Yusuf'a Köyü Tokat köyu Hacıhalil köyü  Çadır, Biberon, Ped , Battaniye ,  Termal Battaniye gibi ihtiyaçları var lütfen yardım edin 0555 046 49 66 Şükrü Alıcı\",\n",
       "       'bu adreste erzaklar bitmiş ❗️❗️❗️❗️❗️❗️  osmaniye merkez karaçay mah. 6032. sk. no:1 mehmet güneş   biberon, bebek bezi, bebek maması, hijyenik ped kıyafet (özellikle bebekler icin)  odun-kömür *özellikle',\n",
       "       'NILGUN DONER SAMANDAG KÜÇÜK KARAÇAY HUZURLU MAHALLESI-HATAY ARKADASIM HAMILE, KUCUK ÇOCUGU VAR, 30 KISI BIR SERADA KALIYOR, YARDIM GITMEMIS YERLERINDEN AYRILAMIYORLAR, YARDIM EDIN NE OLUR. Bez, ped, biberon, mama, eldiven, battaniye, ısıtıcı vs. NİLGÜN - 0538 383 37 05',\n",
       "       'ADIYAMAN MERKEZ  Adı: Pınar İslamoğlu  Fatih mahallesi Sakarya Caddesi 2295 Sokak No 10  05434756552  Açlar, çocuk bezi, erzak, kadın kıyafeti, ped lazım  YARDIMCI OLABİLECEK KİMSE VAR MI?',\n",
       "       'Güncel!! ‼️Diyarbakır Kent Düğün Salonu Battaniye, ilaç, ıslak mendil, peçete, kolonya, ped gibi malzemelere ihtiyaç var. çocuklar ve gençler hasta ve özellikle battaniye ve ilaç desteği lazım. LÜTFEN ACİL YARDIM GİTMESİ GEREKİYOR!! 📌İletişim numarası: 0552 938 4372 - Hülya Unsu',\n",
       "       'Kayseri istikametinde bucak ilçesinde çağlayan köyü Kahramanmaraş Kıyafet,iç çamaşırı,ped,gıda lazım acil ÇADIRDA KALIYORLAR hiçbir şeyleri yok arkadaşlar 6 aile toplam 40 kişi kadınlar ve çocuklar var iletişim reyyan taşır:05376799713 #AhbapDernegi #AHBAP #OguzhanUgur #deprem',\n",
       "       'Ekinci mahallesi cengiz caddesi Antakya/Hatay   Yakıt  Çakmak  Ağrı kesici Hijyenik ped    Arkadaşımın yardım malzelerine ihtiyaçları var lütfen yardım edin 🙏🏻  İletişim numaraları :   Esin Bilgin    +90 552 995 69 90 +90 505 043 81 07  #deprem  #antakyadeprem',\n",
       "       'Deprem bölgesinde kadınların hijyenik ped ihtiyacı sürüyor. İhtiyacı olanların rahatça dile getirmesi kolay olmayabilir çünkü toplumumuzda regl olmaktan bahsetmek maalesef ayıp sayılabiliyor.  @orkid   @KotexTurkiye   @turkiyemolped',\n",
       "       'Bilge Yücel Aytaç   +90 542 179 36 00   Yakınca mahallesi Kenan ışık caddesi yakınca spor salonu MALATYA   Kadın kıyafet- Kadın İç Çamaşırı   Çocuk kıyafet 7-8-9 yaş   Çocuk İç Çamaşırı   Kadın ped',\n",
       "       'Adrese çadır, battaniye, bebek bezi ve ped yardımı lazım. Adres: Gözene Köyü, Doğanşehir/Malatya ve Yeşilyurt/Malatya İletişim: 0535 564 68 55(Levent Günay)',\n",
       "       'Güncel!! ‼️Diyarbakır Kent Düğün Salonu Battaniye, ilaç, ıslak mendil, peçete, kolonya, ped gibi malzemelere ihtiyaç var. çocuklar ve gençler hasta ve özellikle battaniye ve ilaç desteği lazım. LÜTFEN ACİL YARDIM GİTMESİ GEREKİYOR!! 📌İletişim numarası: 0552 938 4372 - Hülya Unsu',\n",
       "       'ADANA ALPASLAN TÜRKEŞ BİLİM VE TEKNOLOJİ ÜNİVERSİTESİ -kuru bakliyat -su, kek, meyve suyu -paketli gida -ped İHTİYACI VAR iletişim 05070923541 05436167163 instagram: atuogrencikonseyi',\n",
       "       'Kahramanmaraş merkez elmalar köyü gökdaşlar mahallesi  elektrik, yemekleri, suları, ped vs temel ihtiyaçları yok. Enkaz yerinde mağdur bekliyorlar yardım götürebilirler mi yaşlılar ve çocuklar var acil Melike Gökdaş 05427450579',\n",
       "       '🔴TEYİT🔴 Bu adrese acil kadın kıyafeti, iç çamaşırı, ped, su, gıda ve çadır ihtiyacı var.  Adres: Kürecik köyü, Daraca Mahallesi, Akçadağ/MALATYA İletişim: 0545 530 24 21 (Hivda) 0546 225 17 59 (Beritan)',\n",
       "       'Defne belediyesi Koçören mahallesi yukarı Koçören sk. Gül villaları  Çok fazla sayıda çadır lazım çoğu insan dışarda kalıyor   Islak mendil, ped, su, bebek bezi, temel gıda, iç çamaşırı, çorap, mont ya da kalın ceket vb   +90 (536) 594 53 94',\n",
       "       '🔴TEYİT🔴 Adrese çadır, battaniye, bebek bezi ve ped yardımı lazım. Adres: Gözene Köyü, Doğanşehir/Malatya ve Yeşilyurt/Malatya İletişim: 0535 564 68 55(Levent Günay)',\n",
       "       'Yardım Göndermek İsteyenler Ulaşabilir  Ped, iç çamaşır, alt kıyafet, peçete, çocuk bezi ihtiyaçları Urfa da çadırda kalanlar için acil ihtiyaçlar   iletişim  Talha Yavuz 0 533 507 12 23',\n",
       "       'TEYİTLİ *Hatay:Kırıkhan* *Delibekirli mah. Tepe sokak 295 taksim 1* *15 kişiler kuru gıda,hijyen malzemesi,hijyenik ped 5 kadın için iç çamaşırı,çorap,battaniye, el feneri,pil,powerbank*  *Aşşağı yukarı 5 aile var* *Sadullah Kal +90 505 486 77 15* *Oğlu Ali Bura+90 543 498 50 65*',\n",
       "       'İhtiyaç listesi:  - Biberon  - Bebek bezi - Bebek maması - Hijyenik ped  - Kıyafet özellikle bebekler için  - Odun ve kömür   Adres: Karaçay Mah. 6032. Sokak NO:1 / Osmaniye MERKEZ  İletişim: +90 542 294 06 11 Doğukan Ede',\n",
       "       'Reşaybet mahallesi muhtarlığı önünde bekleyen vatandaşlar var.  Hijyenik ped, bebek bezi, bebek maması, kuru ve konserve gıda ihtiyaçları varmış. Teyitli bilgi Oradaki arkadaşın iletişim numarası: 0 (533) 162 70 72 Sude  #SONUMUT120SAAT #AHBAP #adana',\n",
       "       'TEYİTLİ  0 (542) 745 05 79   elektrik gıda su ped  ELMALAR KÖYÜ GÖKDAŞLAR MAHALLESİ MERKEZ KAHRAMANMARAŞ',\n",
       "       'MARAŞ ELBİSTAN halkı için: Erkek kadın kalın çorap Bere eldiven Kışlık iç çamaşırı Hasta kadınlar için özellikle ped istiyorlar Yakacak odun kömür !! Erzak olarak bakliyat sıkıntısı yok!! Makarna felan fazla fazla var merkezlerde. Afad Görevlisi İsmail Bey:0551 268 14 66',\n",
       "       'Kayseri istikametinde bucak ilçesinde çağlayan köyü Kahramanmaraş  Kıyafet, iç çamaşırı, ped, gıda lazım acil ÇADIRDA KALIYORLAR hiçbir şeyleri yok arkadaşlar 6 aile toplam 40 kişi kadınlar ve çocuklar var iletişim reyyan taşır: 05376799713  @ahbap   @haluklevent   @DepremDairesi  ‼️‼️',\n",
       "       'Kırıkhana’a gelen yardımlar yağmalanmış. Kırıkhan’a acil battaniye, yemek ve su yardımı lazımmış.  İletişim: Umut - 0 531 361 31 15',\n",
       "       'Çadır battaniye lazım  Emek mahallesi ümit sokak Antakya İletişim: 0539 226 2043',\n",
       "       'KAHRAMANMARAŞTA ACİL ÇADIR ‼️  onikişubat ilçesi hacıbudak köyü  10 kişiler yaşlı ve çocuk var. acil çadıra, ısıtıcıya, battaniye, erzak ihtiyaçları var BURHAN KÖSE: 0551 164 42 25',\n",
       "       'Hızlıca yayar mısınız lütfen   “Teyitli. Hatay Madenboyu köyü acil yardım malzemesi lazım. Su, gıda, kadın ve çocuk hijyen malzemeleri, battaniye.  HÜSEYİN OKUTAN 0538 773 99 79”',\n",
       "       'Süt şeker 5 numara çocuk bezi battaniye Mimar Sinan mahallesi 8543 sokak 9A OSMANİYE Evde de abi çadır isteyeceğim inşallah Karocu kemal tarafında Elektrikli soba da lazım Aracım yok 5 kişiyiz   0543 740 32 51',\n",
       "       'Güncel!! ‼️Diyarbakır Kent Düğün Salonu Battaniye, ilaç, ıslak mendil, peçete, kolonya, ped gibi malzemelere ihtiyaç var. çocuklar ve gençler hasta ve özellikle battaniye ve ilaç desteği lazım. LÜTFEN ACİL YARDIM GİTMESİ GEREKİYOR!! 📌İletişim numarası: 0552 938 4372 - Hülya Unsu',\n",
       "       'Adana Ceyhan Modern Evler 706 sk no 25  Bu bölgeye asla yardım ulaşmıyor ve insanlar hasarlı binalarda kalıyor çok zor durumdalar. 05464671598  Numaranin sahibinin psikolojisi uykusuzluktan ve zor şartlardan dolayı bozulmuş durumda.⚠️ Çok acil battaniye, gıda ve özellikle çadır',\n",
       "       'Hatay defne toygarlı köyü şehirden gelenler buraya yerleşmiş ancak hiç battaniye gıda su yardımı ulaşmamış. 2000 kişi kadar. Acil ve Teyitli. 0531 372 58 10',\n",
       "       'Çukurova belediyesi tesisler müdürlüğü cok fazla yaşlı ve çocuk var kışlık kıyafet ve battaniye ihtiyacımız var 544 926 74 46',\n",
       "       'Kahramanmaraş pazarcık mülk köyleri aşağı mülk köyü, çadır su battaniye lazım  0538 596 25 27 Eren Dudak',\n",
       "       'Yardım tırları köye gelmeden yağmalanıyormuş. Köydeki insanlara battaniye çadır ve odun talep ediyor Pazarcık ördek dede köyü ne acil yardım istedi 0506 505 28 35 ismail Bey',\n",
       "       'Kahramanmaraş/Elbistan hacı Hasanlı mahhalesi aşılık sokak no 20  0541 606 37 53 hasan boran  Bu adrestekiler hepsi yaşlı temel gıda ve battaniye lazım, çok zor durumdalar  +90 344 445 11 53 bulundukları yerin sabit telefonu',\n",
       "       '-HATAY   !!! BEBEKLER AÇ ACİL !!!   YALANGÖZ KÖYÜ/KIRIKHAN/HATAY Berivan Durkal +905392409764 battaniye çadır ilaç ısıtıcı battaniye bebek maması hijyen kitleri kıyafet',\n",
       "       'Arkadaşlar çok acil Adıyaman aile tipi çadır, mat, uyku tulumu, battaniye ihtiyaçları var. Şehir tamamen enkaz, ara sokaklar dümdüz ve insanlar dışarda kendilerine branda germişler. Çok acil lütfen bunu yayalım etiketleyelim önemli insanları. Buranın talebi bu arkadaşlar',\n",
       "       'Tahtaköprü mahallesi antakya hatay Hala yardım gitmemiş kalabalık bir aile var battaniye, çadır, kıyafet, yiyecek, ısıtıcı, çorap lazım çok acil 0531 435 29 95 Aysegul vurucu',\n",
       "       'Kahramanmaraş pazarcık mülk köyleri aşağı mülk köyü, çadır su battaniye lazım  0538 596 25 27 Eren Dudak',\n",
       "       'Yardım tırları köye gelmeden yağmalanıyormuş. Köydeki insanlara battaniye çadır ve odun talep ediyor Pazarcık ördek dede köyü ne acil yardım istedi 0506 505 28 35 ismail Bey',\n",
       "       'Hatay Orhanlı köyündeki serada yaklaşık 20 kişi var. Soğukta donuyorlar ve suları yok.   Çadır, battaniye ve suya ihtiyaçları var.',\n",
       "       'Sinan Bıkmaz 0544 591 96 99 Hatay İskenderun, Arsuz Hüyük Köyü,10kişiler, çadır,battaniye,erzak yardımı.',\n",
       "       'Malatya Merkez, Selçuklu Mahallesi, Çehre Sokak  0543 115 63 46  Göknur Karakaş. Yakacak gerekli, yiyecek ve battaniye ihtiyaçları var.',\n",
       "       'Çok acil, çok soğuk!   Teyitli:  Adıyaman/Merkez, Siteler Mah. Karamusa Cad. No:127/1  7 aile için ÇOK ACİL çadırlara ihtiyaç var. Aile nüfusları kalabalık. Ayrıca insanlar için battaniye, iç çamaşırı ve su gerekiyor.   İletişim: 0538 370 14 61 - Yılmaz Erdoğan',\n",
       "       ' Yardım çağrısı:   Hocam güncel paylaşır mısın lütfen. Battaniye ve yiyecek ihtiyaçları varmış.+90 543 957 44 20 Nazlı. Sanayi Mh. 60018 sokak - no:117 Şehitkamil Gaziantep.',\n",
       "       'Kahramanmaraş / Afşine ACİL gıda,ilaç,ısıtıcı,battaniye ve yatak ihtiyaçları var. Özellikle ısıtıcı ihtiyaçları var çünkü afşinde hava şuan çok soğuk. Bölgede afad çalışıyor fakat koordinasyon sorunu var ve yardımlar ulaşamıyor. LÜTFEN ACİL DESTEK 0539 204 4682 Eren Erkan',\n",
       "       'COK ACİLL GÜNCELL ‼️‼️🚨🚨🚨  Dulkadiroğlu aslanbey mahallesi 77. Sokak Kahramanmaraş Mervenur karaboğa 05510266551 çadır battaniye ihtiyaçları var 5 aylık bebek var hasta lütfen yardım edin lütfen',\n",
       "       '!!!ACİL!!! Hatay Hassa Buhara Köyü burası sağlam olduğu için depremzedeler buraya sığındı. 2000-3000 kişi var! Çadır-yorgan-battaniye-gıda gerekiyor! İletişim: Ali Çakmak - 0507 704 16 83',\n",
       "       'ACİL  Kahramanmaraş Onikişubat yörük selim mahallesi jandarma üstü sosyete kebab karşısı boş arsa  Çadır, gıda ve powerbank ihtiyaçları var.',\n",
       "       'DE VAR İŞ MAKİNESİ VE KEPÇE NOLURSUNUZ 0533 665 31 83 BARIŞ BEY POWERBANK İHTİYACI DA VARMIŞ',\n",
       "       'ERAY MERT KAYA VE AİLESİ- TAHLİYE EDİLECEK KALACAK YER HAZIR, MADDİ DESTEK VE POWERBANK İLETİŞİM  0535 743 06 46 KAHRAMANMARAŞ',\n",
       "       \"Antakya'da Bulunan Doktordan Duyuru  Naciye Hanım  Yardım tırları ulaşıyor fakat dağıtım çok kısıtlı. Halk perişan, hava çok soğuk, yardımları ulaştırmamız gerekiyor. Elektrik yok, powerbank ihtiyacımız bulunmaktadır.  İletişim: 0543 349 23 34\",\n",
       "       \"❗HATAY BİZZAT ARANDI❗  ACİL Çadır ve ısınma ihtiyacı var! Çocuklar için mont ve bot gibi kıyafetler ve powerbank lazım. 25 kişi var 4'ü çocuk.  👉Hatay/Arsuz Hüyük mahallesi İstiklal caddesi no:19  📞 Büşra Reyhani: 0531 495 59 21 ❗Muhtar: Rıdvan Dural  #depremsondakika #ACİL\",\n",
       "       'Mazot benzin jeneratör projektör el feneri toz maskesi powerbank lazım ACİLL!!  Antakya akevler mahallesi 4. Akevler sokak ıraz apartmanı no 9 +90 (533) 604 30 32 LÜTFEN ÇOK ACİL YARDIM BEKLİYORLAR!!!',\n",
       "       'Dm:  Buluttepe mahallesi 1723 sokak no 11 Hatay/İskenderun  Powerbank   Bölgedeki insanların şarjı kalmamış maalesef',\n",
       "       'Yusuf Çolak Telefon:05510503364(depremzede Yakını) Kişi Sayısı:4 kişi Adres:Hatay-İskenderun Mustafa Kemal Mah 1013 no 6 İhtiyaç:bebek bezi,battaniye,Powerbank,Isınma teyitli',\n",
       "       '05382373994Gamze küçük 05416581691onur küçük 05362572094kısmet yıldırım şebeke ve şarj sıkıntılı olduğu için en ulaşılabilir 3 kişi bunlar Hatay akcurun köyünde akcurun sk. 39. 31060 Hatay  (kırsal kesimdeler )36.206196, 36.253631konumunda Powerbank,erzak battaniye çadır lazım!',\n",
       "       \"Teyitli ve acil:  Adıyaman, Bahçelievler Mah., 951. Sk, Beyaz Saray Otel'in olduğu aradan girince soldan ilk büyük mavi kapı.  Kömürlükte yaşlı bir kadın ve 2'si bebek 4 çocuk var. Çok üşüyorlar. Acil odun, kömür ve yakınlarına ulaşabilmesi için powerbank lazım.  05393618068\",\n",
       "       'TEYİTLİ  ACİL🚨  ARKADAŞIM GAZİANTEPTE 1. Battaniye 2. Fener 3. Powerbank 4. Type C şarj aleti  5. Küçük de olsa jeneratör  6. 42-43 erkek ayakkabı (4 adet) 7. 40 kadın ayakkabı (4 adet)  temin edebilirseniz bizzat gelip alacak. bulunduğu yerdeki acil ihtiyaçlar.  542 894 77 79',\n",
       "       'ACİL!  Hatay Antakya-Bozhöyük köyü İhtiyaç:Kıyafet ve hasta bezi,pilli el feneri,powerbank,kadın iç çamaşırı  Kişi:15 kişi brandalardan çadır yapmışlar. 05053487731 Halil Çelikyürek arkadasımızın babası suan bölgedeymis emekli polis 0534 883 88 84 hatice çelikyürek bu da kuzeni',\n",
       "       'Hatay’dan yazıyorum. İhtiyaç Listesi!!  - Araçlar için akaryakıt  - Pilli ve tüplü aydınlatma ve ısınma araçları - Yedek pil, yemek yapmak için küçük büyük tüp - Powerbank - Çadır, mümkünse birkaç tır dolusu - Jeneratör ve acil iletişim araçları',\n",
       "       'TEYİTLİ  Bostanbaşı hocalar mahallesi mazlum sokak Bostanbaşı okulunun hemen arka tarafı Yeşilyurt Malatya  - Isıtıcı, powerbank, 2 yaş bebek bezi, yiyecek, giyecek bir çocuk 4 yaşında annesiyle - Feyza Kutsal +90 543 329 16 00    @AFADBaskanlik   @AKUT_Dernegi  @DepremDairesi   @ahbap',\n",
       "       '-HATAY   Hatay Antakya  Güzelburç mah A5 çıkmaz sokak  Ihtiyaclari olan malzemeler Mum  Battaniye jeneratör iç çamaşır powerbank  Yiyecek mazemesi   Akan Şahıtoğlu: 531 698 76 21',\n",
       "       '-HATAY  Çadir battaniye mont 12 ve 9 yasinda Çocuklarim var ayakkabi Çorap powerbang  jenarator kuru gida su Çocuklar iÇin süt islak mendil kadin pedi. yag kahvaltilik 37,36, 39, 40 numara botlar giyecek beden L. Adres, güzelburÇ Mahallesi,Istiklal cad. 14 no.25 .tel. 05058534697',\n",
       "       'HATAY çadır, ısıtıcı, powerbank, el feneri ihtiyaları var Hatay/ dursunlu dağı bölgesi/Sumerler mah. Ziraat bankası karşı.   Nadide sezin: 05352628800',\n",
       "       'gelen mesaj: ‼️ERZAK LAZIM ACİL‼️ Ballıca mahallesi 10030sokak no:13/2 Dulkadiroğlu/ Kahramanmaraş Mehmet esenceli caddesi üzeri yan taraftaki arsadayız-Zeliha Yıldız Bilal  0530 770 78 27 Powerbank - Hijyen malzemesi',\n",
       "       \"Teyitli:  Çevre illerden gelen 4 kişilik sağlıkçı grubumuz arabalarında çok üşüyorlar. Battaniyeye ve powerbank'e ihtiyaçları var.   Adres: Mustafa Kemal Üniversitesi Gemicilik Binası yanındaki otopark İletişim: 05077927809 - Oğulcan Bayramoğlu\",\n",
       "       '⚠️ ACİL TEYİTLİ BİZZAT GÖRÜŞTÜM  Sokakta kalmışlar şu an acil ısıtıcı çadır erzak bere mont çorap powerbank gerekli donuyorlar. 35-40 kişiler çok fazla çocuk bir de bebek var!!!  EKİNCİ MAH ESKİ SSK KAVŞAĞI GÖKKUŞAĞI KINA EVİ KIR BAHÇESİ ANTAKYA/HATAY CANAN DOKSÖZ 0535 822 79 35',\n",
       "       'Adıyaman Besni Kesmetepe Köyünde benzin ve mazot ihtiyacı var. Hamile bir kadının acil bir şekilde çıkarılması gerekiyor. İLETİŞİM NO: 0536 560 82 91 FADİME KOCA',\n",
       "       'Mazot benzin jeneratör projektör el feneri toz maskesi powerbank lazım ACİLL!!  Antakya akevler mahallesi 4. Akevler sokak ıraz apartmanı no 9 +90 (533) 604 30 32 LÜTFEN ÇOK ACİL YARDIM BEKLİYORLAR!!!',\n",
       "       'KAHRAMANMARAŞ !!! Piazza Avm arkası Ebrar Sitesi Z blok   Çalışmaların devam etmesi için jeneratör ve mazot lazım lütfen yardımcı olalım arkadaşlar.',\n",
       "       'ARKADAŞLAR ACİL⌛️⌛️  30 KİŞİLİK GRUP #ADIYAMAN BÖRGENEK KÖYÜNDE  DURUMLARI ÇOK KÖTÜ  ACİL Erzak,Bebek ve yaşlı bezi, Battaniye Mazot lazım lütfen yayın  İletişim : +90 534 289 42 38 (Berivan) Konum: Börkenek',\n",
       "       'Teyitlidir Elbistan’da Yardımların insanlara ulaşması için mazot desteği lazım çadırlara vs götürülmesi için insanları alabilmek için lütfen Avukat Tarık Şahin +90 505 070 16 46',\n",
       "       'Aşağıokçular mahallesi çiçek sokak no:8 Hatay defne Şeval İrem Gücel  05312825298 acil mazot lazım aciil',\n",
       "       'KAHRAMANMARAŞ  Bayazitli mahallesi guzlek caddesi no 12 kahramanmaras. Arabada kaliyorlarmis bot mont ve mazot yardimina ihtiyaclari oluyormus.+90 (546) 811 35 16 Ali Mert Pekmezci',\n",
       "       'Ailesini enkazda kaybeden Aysima bebeği doktor görmesi gerekiyor. Bebek hiçbir mamayı ve süt anneyi kabul etmiyor. Ağzında yaralar oluşmuş. Suyla besleniyor. Bulundukları yerde mazot yok sağlık çalışanı yok. Acil yardım gerekiyor. Adres 5 nisan mah. 2009 sk: no 54 12şubat/K.Maraş',\n",
       "       'BELEN HATIRA ORMANI CİVARI Arkadaşlar  aile dostumuz İskenderun’a giderken mazot boruları patladığı için yolda kalmışlar yardım edebilicek birileri varsa lütfen ulaşsın bana ya da bu numaraya ulaşsın. Lütfen yayalım yardım için gidiyorlardı.  0535 623 3465 Murat Taş',\n",
       "       'Adiyamandayım lütfen acil çok acil çadir kefen bezi mazot yardımı 😢😢🙏iletişim tel 0530 425 1421 İsa tas',\n",
       "       'Börgenek köyü  Erzak yardımı gerekli  Bebek ve yaşlı bezi  Battaniye kışlık  Mazot vs 30 kişiler  adı Berivan arkadaşımın +90 534 289 42 38 numarası',\n",
       "       'Bayazitli mahallesi guzlek caddesi no 12 kahramanmaras. Arabada kaliyorlarmis bot mont ve mazot yardimina ihtiyaclari oluyormus.+90 (546) 811 35 16 Ali Mert Pekmezci',\n",
       "       'Acil Powerbank, gıda, mazot ve ilaç lazım. Maşuklu mahallesi, aydınlık sokak, Vahit Bıyıklı apartmanı No:9  Antakya / Hatay 0 (507) 631 99 24',\n",
       "       '‼️ACİL MAZOT‼️  16 EFY 85-Mehmet Akar  AŞAĞIDAKİ ADRESE MAZOT ULAŞTIRILMASI LAZIM   Cebrail Mahallesi, Fatih Caddesi, Şensöz Apartmanı, No: 15, Antakya/Hatay.  İrtibat: 0 507 319 31 45',\n",
       "       'Adıyaman Besni Kesmetepe Köyünde benzin ve mazot ihtiyacı var. Hamile bir kadının acil bir şekilde çıkarılması gerekiyor. İLETİŞİM NO: 0536 560 82 91 FADİME KOCA',\n",
       "       'ARKADAŞLAR ACİL⌛️⌛️  30 KİŞİLİK GRUP #ADIYAMAN BÖRGENEK KÖYÜNDE  DURUMLARI ÇOK KÖTÜ  ACİL Erzak,Bebek ve yaşlı bezi, Battaniye Mazot lazım lütfen yayın  İletişim : +90 534 289 42 38 (Berivan) Konum: Börkenek https://maps.app.goo.gl/Aqy8s7gBf4sBjMr76…  @BabalaTv   @ProfDemirtas   @haluklevent',\n",
       "       'MAZOT İHTİYACI 16 EFY 85 - Mehmet Akar  AŞAĞIDAKİ ADRESE ACİL MAZOT ULAŞTIRILMASI LAZIM !  Adres: Cebrail Mahallesi, Fatih Caddesi, Şensöz Apartmanı, No:15 Antakya/Hatay  İletişim: +90507 319 3145',\n",
       "       'HATAY ACİL ACİL ACİL ‼️  Rönesans Rezidans   Isıtıcı  Seyyar tuvalet Battal boy çöp poşeti Mazot ve Ameliyat Eldiveni LAZIM  +0507 744 74 94 - ELİSA ŞAHİN',\n",
       "       'TEYİTLİ Hatay / Yayladağ merkeze acil yardım gerekli mazot yok ısınmayı sağlayamıyolar yanlarında çocuk ve bebek var aşırı açlar ve soğuk battaniye gıda , bebek bezi bebek maması ihtiyaçları var hijyenik ped ihtiyaçları +90 544 969 56 90   @OguzhanUgur   @haluklevent   @AFADBaskanlik',\n",
       "       'TEYİTLİ ‼️  #Hatay #Kırıkhan   Battaniye, Çadır, Mazot, Isıtıcı Acil İhtiyaç var o bölgede olup temin edecek olanlar lütfen acil olarak iletişime geçsin aile mağdur durumda!  Songül koyuncu - 05550796930 - Aydınlı mahallesi 617 sokak no 14 Kırıkhan Hatay',\n",
       "       'Acil mazota ihtiyacımiz var!!!  İş makinası için. SADECE MAZOT.   Merve Över  05077637676,   Esentepe mah.nuri konuralp CAD.cinar partmani b blok.  Enkaz kaldırımı yarım kalacak!!',\n",
       "       'Güncel🔴 HATAY Defne Güneysöğüt mah. 3628. Sok.(samandağa giderken sağda) bir aile günlerdir soğukta, mazotları bittiği için gidemiyorlar. Bekleyecek durumda değiller.Mazot takviyesi için yardım bekliyorlar. İletişim: 05374312806 @OguzhanUgur   @haluklevent   @DepremDairesi  #hatay',\n",
       "       'KAHRAMANMARAŞ  Bayazitli mahallesi guzlek caddesi no 12 kahramanmaras. Arabada kaliyorlarmis bot mont ve mazot yardimina ihtiyaclari oluyormus.+90 (546) 811 35 16 Ali Mert Pekmezci',\n",
       "       '-ADIYAMAN   Siteler mah 20127. Sk no8 merkez Adıyaman 5078744529 ömer turan   ısıtıcı benzin ve çadır ihtiyaçları var 4 gündür arabadalarmış',\n",
       "       'Karaağaç konaklı mahallesi 99 sokak no:8 hatay samandağ 8 kişiler erzak bekliyorlar  05352537449  Antakya merkez sümerler acil benzin lazım engelli çocuklar ve bebekler var.',\n",
       "       'HATAY/HASSA   çay mahallesi hürriyet cad. no 78  Hakan ÇAM 0536 630 15 50  ÇADIR, benzin, ısıtıcı ama elektrik yok. erzak.  acil ısınmak için çadır cocuklar donucak! -teyitli-',\n",
       "       '-KAHRAMANMARAS   afadda gonulluyum, burada hilti, jenerator, soba, benzin gerekli Elbistan Organize Sanayi  :0507 939 51 85',\n",
       "       'Adıyaman Besni Kesmetepe Köyünde benzin ve mazot ihtiyacı var. Hamile bir kadının acil bir şekilde çıkarılması gerekiyor. İLETİŞİM NO: 0536 560 82 91 FADİME KOCA',\n",
       "       'Yüzlerce kişi Hatay / Antakya Rönesans Rezidans enkazında sıkışmış.  Arama çalışmalarının gece durmadan devam edebilmesi için aydınlatma (Fener/kafa lambası vb.), vinç, benzin/mazot, megafon ve maskeye ihtiyaç var!',\n",
       "       'Nardüzü mah. Hürriyet Cad. 80 sok. no:3 Hatay /Arsuz Evde 7 çocuk 13 yetişkin varmış.Gıda ve su ihtiyaçları varmış. İletişim çiğdem akkaya 0536 291 36 96 #hatayafad #hatayafad #deprem',\n",
       "       'Bir var bir yok  Onlar öğrenci tam anlamı ile çalışmadı  Bir çalışma yaptırıyorum bir yok  Nedir bu ya çocuk oyuncağı yaptınız. Ummadığınız staj mağdurları ve ailleri sandıkta deprem etkisi yaratacak  Biz çocuk değiliz seçmeniz  Sigorta geçersiz olsa da oyumuz geçerli  #OyumStaja',\n",
       "       'Bu Ülkenin Vatandaşlarına ve Halkın Benimseyip  Değer Verdiği Canlılara Zarar Veren ve O Kişilere  Emir Veren Yetkili veya Yetkisiz Her Kim Varsa.. DÜŞÜNEREK HAZIRLADIKLARINIZI, YAŞAYARAK TADARSINIZ.!! 🤲❤🙏İNŞAALLAH🙏❤🤲 #GeceyeBirNot  #Konyadakatliamvar  #deprem',\n",
       "       'Benim kurduğum şeyleri bozmaya çalışmak acemilik işi birinin hayatında bir yer edindisem o merkezden çıkarsan beni mazallah deprem olur çilesini ben değil siz çekersiniz o burnuzu çekin hayatımdan',\n",
       "       'Muğla’nın Marmaris ilçesinde saat: 23.09’da 4.4 şiddetinde meydana gelen depremden etkilenen tüm vatandaşlarımıza geçmiş olsun dileklerimizi iletiyor, can ve mal kaybı olmamasını temenni ediyoruz.  #MarmaristeDeprem #marmaris #deprem',\n",
       "       'İçişleri Bakanımız Sn. Süleyman Soylu, Düzce’de meydana gelen #deprem sonrası barınma faaliyetlerine yardımcı olmak amacıyla bölgede görev yapan Silivri Arama Kurtarma (SAK) ekiplerimiz ve Destek AFAD Gönüllülerimizi ziyaret etti.',\n",
       "       'Muğla Marmaris açıklarında meydana gelen deprem sonucu herhangi bir can ve mal kaybı olmamasını temenni ediyorum. Çok geçmiş olsun. Rabbim beterinden korusun inşallah.',\n",
       "       'Deprem konusunda en büyük ciddiyetsizliklerden biri de 5’in altındaki 3’lük 4’lük depremleri medyanın son dakika diye vermesi. Ayıp. 4’lük depremde de geçmiş olsun demezsin bi zahmet. Kaç kişinin kıçı sismograf da, hissetti de geçmiş olsun diyorsun. Konunun ciddiyeti tavsıyor.',\n",
       "       'Sinirlerim altüst oldu yazmam lazım konsantre olamıyorum deprem ve sonrası yasadığım şeyleri üzerimden atmaya çalışıyorum ve bunun için dokuz aydır ugrasıyorum amainsanların dilinin kemiği olmadığı için kimi nasıl üzerim diye düşünmeden konuşuyorlar o kadar cok sustuklarım varki',\n",
       "       'Buda devletti, Deprem yerine üç gün sonra gitmişti  , deprem zedeler kendi  yaralarını kendileri sarmıştı . Toplanan paralarda memur maaşları ödebdi... Heyy gidi günler heyyyy birdaha  bunların eline   bırakmasın  Rabbima',\n",
       "       \"Istanbulda deprem olsa da olmasa da Istanbul'un merkezi bosaltiliyor, göcler tasraya yani hep Kentten uzaklasiyorsunuz. Deprem sadece Dolar kazanan Azinliklarin Kentten atilmasini saglayacaktir. Merkez Istanbul depremsiz kendiliginden bosaldi zaten.\",\n",
       "       'Marmaris açıklarında meydana gelen 4,4 büyüklüğündeki deprem sonrası ekiplerimizden herhangi bir olumsuzluk yaşanmadığı bilgisini almak bizleri rahatlattı.  Depremden etkilenen tüm vatandaşlarımıza geçmiş olsun dileklerimi iletiyorum.',\n",
       "       'su an ailemde bazi saglik sorunlari disinda ilginctir bi problemim yok. ama ben surekli beynimde kotu senaryolar kuruyorum. ya gece deprem olursa ya sabaha cikamazsm ya yolda araba carprsa ya soyle olursa vs vs kendi kendimi yiyorum. bu dusunceleri nasl susturucam gercekten imdat',\n",
       "       'Düzce\\'de artçı depremler devam ediyor bunlar normal olağan olması gereken artçı depremler yeni farklı depremler değil \"neden sürekli deprem oluyor\" demek depremi halen öğrenememiş olmaktır artçı depremler sürecek 4\\'den büyük artçı deprem de olabilir normaldir 5\\'den büyük olmaz',\n",
       "       'Rant uğruna bina yoğını yaptığınız şehre karşı kendinizi nasıl affettireceksiniz? Deprem toplanma alanlarını neden ranta açtınız akepe döneminde. 20 milyondan fazla insan deprem anında nerede toplanacak. 20 milyon insan aklın hayalin alıyor mu',\n",
       "       \"Geçmiş olsun #Muğla  #Deprem  Muğla'nın Marmaris ilçesi açıklarında 4.4 büyüklüğünde deprem meydana geldi.\",\n",
       "       \"Hükümet,  Ev kredi faizlerini düşürür ev fiyatları artar. Otomobil vergisini düşürür araba fiyatları artar. Gıda ürünlerinden aldığı vergiyi yüzde 1'e düşürür gıda fiyatları artar.  Deprem, sel, yangın olur ev kiraları artar.  Para kazanmanın bir limiti bir insafı olmalı...\",\n",
       "       'Gezici Aşevi projemizin ilk amacı deprem sonrasında yaşanabilecek sıcak gıda temini sorununa çözüm oluşturmaktı, fakat gördük ki derinleşen yoksulluk şu anda Gezici Aşevimizi kullanma mecburiyetini yarattı. Komşularımızla her lokmamızı paylaşacağız, zor günleri birlikte aşacağız.',\n",
       "       'Pandemi  ✔️ Gıda krizi  ✔️ Enerji krizi ✔️ İklim krizi 📝📈 (deprem vs)   Durmayacaklar, en olmadı Savaşlar çıkartacaklar Rabbim, hiç bir zalime fırsat vermesin ',\n",
       "       'Deprem olur kiralar artar Yangın olur yangın malzemeleri artar Kar yağar zincir fiyatları artar Ramazan ayı gelir gıda fiyatları artar  Kurban Gelir fiyat artar  Okul sezonu gelir kırtasiye fiyatları artar  Toplum olarak çok büyük bir ahlak sorunumuz var...! #KiralarZulümOldu',\n",
       "       'Başımızda ne kadar çok bela var değil mi? Plandemi var, 5G var, nükleer ve deprem tehdidi var, havadan üstümüze zehir yağdırıyorlar, gıda ve su kıtlığı tehlikesi var, ekonomik çöküntü tehlikesi vs.. yani var oğlu var. Tabi en önemlisi a$hılarla insanlara yapmak istedikleri var.',\n",
       "       'İstanbul  a  bir takım gemiler  gelmiş. Savaş gemileri  değil  ama  haberleşme   HAARP  aktarıcısı   iletişimi   elektrikleri kesme  belki  deprem.. Korkutmak için  değil Tedbirli olalım . Su  kuru gıda  piknik tüp  biraz  para filan  kenarda köşede  bulunsun ..',\n",
       "       'Deprem olur kira artar , salgın hastalık olur tıbbi malzeme fiyatları artar , Mübarek Ramazan ayı gelir gıda  fiyatları artar, yangın olur yangında kullanılan eldiven ve teçhizat fiyatları artar....   Fakat ülkenin %98 i Müslüman..!',\n",
       "       'Deprem olur, kiralar artar! Salgın hastalık olur, tıbbi malzeme fiyatları artar! Ramazan ayı gelir, gıda fiyatları artar! Yangın olur, yangına dayanıklı ekipman fiyatları artar! Patlama olur, taksiler milleti soymaya kalkar! Ama sorsan ülkenin %98i müslüman!..  Yaaaa bi si...',\n",
       "       'Genel Başkanımız Muharrem İnce : Bu ülkenin 5 ciddi problemi var. İlaç, su krizi kapıda. Gıda krizini zaten yaşıyoruz, sığınmacılar ve bir de deprem problemi var. Enerjide yüzde 70 oranında dışa bağımlıyız. Vana başkasının elinde olmaz bu doğru değil.',\n",
       "       'Türkiye iklim değişikliğinin en sert yaşanacağı, deprem kuşağında, su fakiri, yoğun göç alan, eğitimsiz bir nüfusa sahip, gıda ve teknolojide dışa bağımlı kendi kendine yetemeyen bir ülke.Son 1 hafta HESAPLANAMAYACAK kadar fakirleştik.  Bu haliyle olası bir DEPREM yönetilemez.',\n",
       "       'Deprem olmuş Düzce \\'de. Yok canım ne depremi,yalan- dolan. Depremler olurken, Sular azalırken, Gıda fiyatları uçarken, Ortada bir şey yokmuş gibi davrananların YALAN-DOLAN yorumlarını izliyoruz.  Aslında deprem olmadı. Sadece depreştik. \"Titre ve Kendine dön\" demek,UYAN demektir.',\n",
       "       \"İNSAN BOZULMUŞ. HÜKÛMET  Ev kredi faizlerini düşürür ev fiyatları artar. Otomobil vergisini düşürür araba fiyatları artar. Gıda ürünlerinden aldığı vergiyi yüzde 1'e düşürür gıda fiyatları artar. Deprem sel yangın olur ev kiraları artar İNSANLAR ŞEREFSİZ OLMUŞ   DEVLET NE YAPSIN\",\n",
       "       \"🔴 Sizi Artık 2022'e Hazırlıyalım.  ▪️ 2022 senaryoları,   - Gıda Kıtlığı Tüm Dünya'da Artacak Stok Yapın - Yeni Virüsümüz Nu Virüsü Kapanmalara Neden Olacak - Küresel Isınma Artacak Ülkemizde ve Dünyada Değişik İklimler Göreceğiz - Ege ve Marmara'da İstenilen Deprem Yapılacak\",\n",
       "       'Dünyada ve Türkiye’de 3 yıldır yaşanan Salgına,Enerji ve Gıda krizine,ülkedeki yangın,deprem, kuraklık gibi afetlerin verdiği sıkıntıya,üstüne birde bundan nemalanmak isteyen muhalefetin yalan ve iftiralarına rağmen ORC’nin anketi sizi çıldırtmasında ne yapsın? CUMHUR KAZANACAK',\n",
       "       'Muharrem İnce iki yıldır tarım diyor, gıda diyor, su diyor, enerji diyor, deprem diyor. Toplumun temel sorunlarına proje üretiyor. Eğer ki toplum önceliklerini önceleyeni seçemezse, son pişmanlık fayda etmez.',\n",
       "       'Deprem , Gıda Egemenliği , Tarım , Sığınmacılar.. Hepsine  #ÇözümMemlekette  @GayeUsluer  ; \"Türkiye Bir Gıda Kriziyle Karşı karşıya Acil çözüm\" “Gıda Egemenliği”',\n",
       "       \"Afet Bilinci ve Farkındalık Eğitimlerine bugün Saadet Gıda Fabrikası'ndan başladık.  Deprem, sel, yangın gibi afetlerin öncesinde ve sonrasında yapılması gerekenler Afet Koordinasyon Merkezi eğitmenlerimiz tarafından anlatıldı.   (1)\",\n",
       "       \"Türkiye'nin gerçek sorunları: Tarım, gıda, su, enerji, deprem.Ama biz baş örtüsü meselesini konuşuyoruz. Başı açık anne de başı örtülü anne de çocuğuna süt içirmek istiyor.\",\n",
       "       \"Hükümet, Ev kredi faizlerini düşürür ev fiyatları artar. Otomobil vergisini düşürür araba fiyatları artar. Gıda ürünlerinden aldığı vergiyi yüzde 1'e düşürür gıda fiyatları artar. Deprem, sel, yangın olur ev kiraları artar. Para kazanmanın insafı olmalı. #market #ZamZulumİskence\",\n",
       "       \"Marmara Depremi'ne ilişkin yapılacak en önemli şey, riskli konut stoğunu derhal tamir etmek. Kriz deprem anında değil, depremden sonra yaşanacak. Açlık, susuzluk, salgın hastalıklar, gıda krizi, ekonomik çöküş, toplu mezarlar vs vs. Deprem sonrasının da tatbikatı da yapılacak mı?\",\n",
       "       'Türkiye\\'nin KÖYSÜZ bir toplum haline gelmesi \"radikal modernleşme\" örneği olarak kabul edilmelidir.  Türkiye KÖYSÜZ TOPLUM yapısıyla coğrafyasında boşluklar imal etmiş, gıda krizlerine, deprem yıkımına açık hale gelmiştir.',\n",
       "       'Ramazan ayında gıda,deprem bölgesinde çadır,battaniye,yangın felaketinde maske,eldiven vs.fahiş fiyata satılan bir \"MÜSLÜMAN\"ülkede normal hareketler bunlar!!!Utanır mı bu insanlıktan nasip alamamışlar!!!???',\n",
       "       'Kovid-19 ile işlemeye başlayan süreç,sağlık-ekonomi/işsizlik-yangılar/gıda ve su -deprem ve sel felaketleri temelinde yürütülen yeni düzen tasarımı ,tarihin kaydettiği gerçeğe karşı açılmış en kapsamlı ahlaksız/vicdansız yeni para-insan-din savaş operasyonudur.',\n",
       "       'İKTİDARIN 20 YILDA BIRAKTIĞI YÜKLER  EĞİTİM * Üniversite mezunu işsizler * Hocası olmayan üniversiteler  TARIM * Gübre, mazot ve sulama fiyatları * İthalat sevdalısı bakanlıklarımız  ALTYAPI * Yolcu garantili köprü ve otobanlar * Uçak inip kalkmayan havalimanları  #deprem',\n",
       "       'Bugün itibariyle dünya çapında Covid-19’dan ölümlerin sayısı 6 milyonu aştı.   mazot 20 Mekke Deprem Anı Esenyurt Pera palas elif',\n",
       "       \"Dikkat ! -Emekliler -Emekli olacaklar -Özellikle  2008 yılından sonra SGK'lı olanlar  Bakın geleceğimiz nasıl yok edilmiş  Flood okumadan geçmeyin.  #EmeklilikteYaşaTakılanlar #ABO #ZKuşağı #ALTIN  #dolar #elektrik #doğalgaz #deprem #yağmur #benzin #mazot #vergi #zam\",\n",
       "       'Şuna artık çokça inanmaya başladım..  Ülkede gündemi Kemal Kılıçdaroğlu belirliyor. Diğer siyasi liderlerin işi gücü Kılıçdaroğlu. Sürekli ona laf yetiştirme ve karalama kampanyası güdüyorlar.  #mazot #deprem',\n",
       "       'İzmit otoban çıkısında en az 20 araba birbirine girdi. Yer sırf mazot. Deprem oluyor sandık. Direksiyon hakimiyetini sağlamak imkansızdı. Arkadaşım kullanıyordu arabayı, ben yanındaydım. Tır çarptı bize. Şanslılardan biriydik. Herkes ağız ağıza, şokta ve kimsede maske yok.',\n",
       "       'şahan ve o kafanın tek sorunu sadece ama sadece kendilerini; doğasever, hayvansever, vatansever, hayırsever, insansever zannetmeleridir. diğer insanların bir işe yaramayıp hepsine düşman olduğunu düşünmeleridir. kısaca bilmediğini bilmemek çok zor! 8 TOMA 2 İHA #deprem #mazot',\n",
       "       'Bu ülkede imar için tarihi binalar, otel için ormanlar, güya sevgi için kadınlar yakılıyor.  Bu ülkede tuttuğu parti ve çıkarları için insanlar yanlışları savunuyor.  Bu ülkede düzelmesi gereken çok şey var!   8 TOMA #donat #Mazot #deprem #Marmaris',\n",
       "       'Merkez üssü Buca .. Ne 4.9 u Uykudan uyandık .. #deprem insanın psikolojisini bozuyor telefon baş ucumda şarjda , powerbank yanımda 1.5 litre su yanımda kafamızda binbir türlü seneryo .. Allah ölümlerin bile hayırlısını nasip etsin ..',\n",
       "       'Alttakiler ve üsttekiler  Görevi arama kurtarma olan bir kişi, bakana powerbank tutuyor, takım elbiseli bir kişi bakan telefonla konuşurken onu çekiyor. Bunlar, deprem sonrası altında yaşam mücadelesi veren insanların olabileceği yıkılmış bir binanın üstünde gerçekleşiyor.',\n",
       "       'BOYNER de hiç vakit kaybetmeyip 915 LİRALIK DEPREM ÇANTASI hazırlamış. Sizin felaketiniz onların kârı. Radyo, powerbank, yağmurluk, battaniye, gerisi beş lira etmez ıvır zıvır. İnsanlar hala göçük altında. Hiç utanmadın mı bunu ürünleştirirken? #Boyner',\n",
       "       'Deprem Çantasında Olması Gerekenler:  -Çadır -Battaniye -Giysi -Bolca su -Konserve -Para -İlaç -Yardım çantası -Çakmak -Düdük -Yağmurluk -Önemli Evrak -Islak mendil -Tuvalet kâğıdı -El feneri/Pil -Kesici alet -Kalem/Kâğıt -Maske -Radyo -Powerbank ve şarj kablosu',\n",
       "       \"Herkese, özellikle İzmir'e gün aydın olsun💚 #deprem Lütfen çantanızı kapıda hazır bulundurun -Kimlik -Battaniye -Powerbank -Su -Yüksek kalorili, enerji veren gıda -Ağrı kesici, yara bandı -Diş macunu, sabun, ped  -İç çamaşırı, çorap, kıyafet -Makas, pil -Hayvanlar için mama\",\n",
       "       'PAYLAŞIN !  DEPREM ÇANTASINDA NELER OLMALI? Battaniye Islak mendil Çakı Fener Düdük Kafa lambası Yağmurluk Powerbank ve Sarj aleti Pil Su Bozulmayan gıdalar İlk yardım kiti, ped, maske, kolonya Cüzdan (nakit para ve önemli belgeler) Radyo #deprem #izmir #izmirdepremi',\n",
       "       'Küçük bir hatırlatma! Sadece bugünler için değil ; her zaman evinizde : \"Deprem, savaş, doğal afet, toplumsal olaylar, elektrik, su şebekesine yapılacak hertürlü sabotajı düşünerek; en az 40 lt su, şarj ve pille çalışan fener, ışıldak, powerbank, en az 2-3 hafta yetecek kuru',\n",
       "       'Bu deprem öğretti ki powerbank olmazsa olmazımız..herkes başucuna teliyle birlikte koysun 🙏🏻',\n",
       "       'Canım, kalbim şehrim Hatay 1. derece deprem bölgesinden biri olduğundan bugün deprem çantama powerbank aldım. Ne olur ne olmaz... Ege coşmuş mesela bu aralar. Naci abi söyledi hem de okudum. Daha birkaç bir şey daha almalıyım. Hoş ev dayanıklı ama yine de tedbir şart!',\n",
       "       'Merkez üssü Buca .. Ne 4.9 u Uykudan uyandık .. #deprem insanın psikolojisini bozuyor telefon baş ucumda şarjda , powerbank yanımda 1.5 litre su yanımda kafamızda binbir türlü seneryo .. Allah ölümlerin bile hayırlısını nasip etsin ..',\n",
       "       'Arkadaşlar üşenmeyin deprem çantası hazırlayın önümüz kış ve her an deprem olabilir. Normal bi sırt çantanızda ise cüzdan gibi önemli şeyleriniz her zaman dursun. Ve bence en önemlisi her telefon için powerbank lazım',\n",
       "       'Android telefonu olanlar play store da \"whistle\" ya da \"düdük\" olarak aratıp uygulamayi telefonlarına yüklesinler lutfen. Allah korusun deprem veya baska bir zor durumda işe yarayabilir. Bir de yaninizda hep bir powerbank bulundurun',\n",
       "       'Kapılarınızı kilitlemeyin (en azından deprem unutulana kadar) Yatak başınıza su ve varsa fener koymayı unutmayın. Telefonlarınızı şarja takın ve powerbank gibi cihazlarınızın tam şarjlı olduğundan emin olun. Yatmadan önce sevişmeyin (burası önemli)',\n",
       "       '#deprem deprem çantası olması gerekenler  * düdük 1-2 adet  *telefon *   *elfeneri  *sargıbezi  *su  *bisküvi *çakı *ip *ilkyardım seti *kağıt kalem  *çamaşır (ihtiyaç ) *radyo ve pil *powerbank *maske  ağrı kesici (devamlı kullanılan ilaçlar) *kibrit &çakmak (HERKESİN OLMALI)',\n",
       "       'güncellenmis deprem cantası kiti 25 cl etil alkol( yara falan olursa dökmek icin) 4 kutu ritalin (bana güvenin) 1 adet havalı şaka kornası 2 litre su ( ağız ıslatmalık) 20k mAh powerbank  1 kutu damla sakızı 1 kutu karamel nikotin bandı',\n",
       "       \"İzmir'de çadırlar için olan ihtiyaç listesi Çadırlara serilecek kalın herhangi bir şey yatak Battaniye Işıldak Powerbank  Gribal ilaçlar (hasta olanlar için) Isıtıcı(soba ya da ateş yakmak için kova) Yastık  \",\n",
       "       '#PakkanLive  @nasuhmahruki  \"Tatbikatlar önemli doğalgaz, su ve elektrik vanalarını kapamamız gerekiyor. Deprem çantasında su, kuru gıda, mevsimlik kıyafetler ve mesela bir powerbank işimize yarıyabilir. Acil durum için kritik numaralar kayıt alınabilir, yedek ev, araba anahtarı.\"',\n",
       "       'Korona çıktı kolonya ve maske fiyatları uçar, deprem olur ev ve battaniye fiyatları artar, yangın olur ısı eldiveni ve gerekli araçların fiyatı artar.   Türk milletinin içindeki çürük elmalarsınız.',\n",
       "       'Deprem olduğunda battaniye, çadır fiyatları el yakar. Yangın çıktığında eldiven, maske borsası oluşur. İşte ölümden ve yıkımdan rant devşiren Anadolu irfanı...',\n",
       "       'Afet olunca battaniye fiyatları 2 katına  Deprem olunca kiralar 2 katına  Yangın olunca yangın eldiveninin fiyatı 3 katına  Kar yağınca kar zincirinin fiyatı 4 katına  Korona olunca kolonyanın fiyatı 5 katına   SİZCE DE BİZ GÜZEL BİR MİLLET MİYİZ ?',\n",
       "       \"Aksaray Valiligi ile Aksaray Belediyesi koordinasyonunda İzmir'de yaşanılan deprem sonrasında gıda kolisi ve kullanılmamış battaniye ihtiyacına binaen yardımlarınızı Aksaray 15 Temmuz Milli İrade Meydanı veya Aksaray Belediyesi binasında görevli personellere teslim edebilirsiniza\",\n",
       "       'DEPREM ÇANTASINDA NELER OLMALI? Battaniye Bolca Su İlaç Konserve Çakmak Düdük Islak Mendil Yağmurluk Kıymetli Evraklar(fotokopileri) Çok Amaçlı Çakı',\n",
       "       \"İzmir'de deprem sonrası bölgeye yapılan yardım faaliyetleri AFAD koordinasyonunda yürütülmektedir.  ➡️ Gıda kolisi ve yeni battaniye yardimlarini ulaştırmak için SYD Vakiflarina,  ➡️ Beslenme ile ilgili destek olmak isteyenler Türk  Kızılayına,  Başvuruda bulunabilirler.\",\n",
       "       'Bunlar neden hiç deprem afet gibi kötü  günlerde battaniye çorba gıda kolisi dağıtarak iyilik yapıp sevap kazanmayı düşünmüyor? 🙄',\n",
       "       'YANINDAYIZ İZMİR!  30 Ekim Cuma günü İzmirde meydana gelen deprem sonrası depremzedelere battaniye ve gıda gönderiyoruz. Yardımda bulunmak isteyen kişiler için;  Battaniye Ücreti: 33 TL Iletişim; Burak Özçelik: 0554 515 64 48',\n",
       "       'Sayın Bakan, biz sarayda mı yaşıyoruz ki klimayı sonuna kadar açalım? Evimizde kazakla montla oturuyoruz. Yeri gelip üzerimize battaniye alıyoruz. Vatandaşın halinden haberiniz var mı? #deprem #36SaatZulmüBitmedi #BeindenBeşiktaşaSansür',\n",
       "       \"Düzce'de meydana gelen depremin ardından, dışarıda bekleyen vatandaşlarımıza beslenme ve battaniye desteği sağlamaya devam ediyoruz. #deprem  🔴 #DaimaHazır\",\n",
       "       \"zmir'in #Seferihisar ilçesinde meydana gelen depremin ardından 60 ilden 250 kişilik arama kurtarma ekibimiz ve mobil aşevimiz erzak, battaniye, hijyen ve gıda malzemelerinden oluşan ilk yardım malzemeleriyle Reyhanlı’dan #deprem bölgesine hareket etti.\",\n",
       "       'Sayın Bakan, biz sarayda mı yaşıyoruz ki klimayı sonuna kadar açalım? Evimizde kazakla montla oturuyoruz. Yeri gelip üzerimize battaniye alıyoruz. Vatandaşın halinden haberiniz var mı? Derhal İstifa Enerji Fonu Oyun Büyük #Deprem',\n",
       "       'İzmir’de meydana gelen deprem nedeniyle, 15 Temmuz Şehitler Meydanı’nda kurulan çadıra bağışta bulunabilirsiniz.  Teslim edeceğiniz, “Sıfır battaniye, kuru gıda, ısıtıcı ve hijyen malzemeleri”, deprem mağduru vatandaşlarımıza ulaştırılacaktır.  Şimdi İzmir için birlik vakti!',\n",
       "       'İÇİNDE AŞAĞIDAKİ MALZEMELER OLAN DEPREM ÇANTASI HAZIR OLANLAR KİMLER? Battaniye Mevsime Uygun Giysi Bolca Su İlaç Konserve Çakmak Düdük Yağmurluk Kıymetli Evrak belge fotokopileri Çok Amaçlı Çakı El Feneri Pil Hijyen malzemeleri İlk Yardım Çantası Kâğıt, kalem Para Ayakkabı',\n",
       "       'Eczacıbaşı, hayat kimya, trendyol, english home yardım göndermişler. 💙 kolonya, temizlik malzemeleri, bebek bezi, kadın pedi, yetişkin bezi, maske, battaniye.. Deprem mi olmuş diyenler var bir de. Allah ıslah etsin. Yaralar sarılır umarım...',\n",
       "       'DIŞ İŞLERİNE YALAN VE İFTİRA KAMPANYASI YAPANLARIN POP STARI  İSTANBULU SEL BASINCA  ŞOKOkREM BODRUMDA  DEPREM BÖLGESİNE İŞ OLSUN DİYE GİDER  BİR BAKARSIN KAYKAYA KAÇAR İSTANBUL  KAR KAOS YAŞAKEN  ŞOKOkREM  HİSARDAKİ RAKI BALIK KOORDİNASYON MERKEZİNDE 3SAAT YEMEK YER  AYEM OKEYYY',\n",
       "       'Milletimizin Hizmetindeyiz🇹🇷  Jandarma Genel Komutanlığı olarak, Düzce’de meydana gelen deprem sonrası vatandaşlarımızın barınma ve yemek ihtiyacını karşılamak maksadıyla yapmış olduğumuz çalışmalar devam ediyor.',\n",
       "       'Yetimler vakfı ekibi deprem bölgesinde yardımlara devam ediyor.  Hergün 500 aileye sıcak yemek dağıtımı yapılacak. Destek olmak isteyenler Yetimler vakfına ulaşabilir.',\n",
       "       'Ve insanlar Ah, benim insanlarım Yalanla besliyorlar sizi Halbuki açsınız Etle,ekmekle beslenmeğe muhtaçsınız Ve beyaz bir sofrada bir kere bile yemek yemeden doyasıya Göçüp gidersiniz bu her dalı yemiş dolu dünyadan Nazım Hikmet  Aysun Kayacı Deprem #faizkararı Tuğrul #Dolar15TL',\n",
       "       '📍Yangın çıkar uçak yok 📍Hesler taşar mesuliyet alan yok 📍Deprem olur üzerine para alınır  📍Sanayide elektrik,doğalgaz kesilir sesleri çıkmaz  📍Marmaray çalışmaz bilgi veren yok  📍Tarım,hayvancılık,üretim bitmiş  ses çıkaran yok 📍İmamoğlu yemek yemiş trollerin gündemi bu',\n",
       "       'Yemek yerken yorulan annesinin kuzusu 🤍🌹 ___ Leonardo Di Caprio Hadsiz #deprem #bodrum Doğu Perinçek',\n",
       "       'Deprem olduğunda kiralar çıkartan, Covid başladığında maskeler tavan fiyat yapan, Yangın çıktığında yangına müdahale malzemelerine zam yapan ne kadar kansız, şerefsiz varsa kazandığınız paraların hayrını görmeyin, yemek nasip olmasın inşallah.',\n",
       "       'Deprem olur, kayağa gider, \"tatil bana yakışır\" der Koca metropol karla boğuşurken özel bir mekanda özel bir yemekli görüşme yapar \"yemek molası\" der  Madem çalışmamaya bu kadar meraklısınız, niye o hizmet makamlarını işgal ediyorsunuz?',\n",
       "       \"HER ŞEY SANA GÜZEL  Elazığ da deprem olur Palandöken'de kayak yapmaya gidersin, Sel geldiğinde Bodrum'da tatile gidersin, İstanbul halkı yolda kar çilesi çekerken Sarıyerde balıkçıya gidip İngiliz Büyükelçi ile yemek sefası sürersin.   @ekrem_imamoglu\",\n",
       "       'Çalıntı akım alert!  Benimle aynı evde yaşar mıydın ?  Adım: Burak Yaş: 23 Boy: 1.78 Burç: Akrep Fav içecek: Fark etmez Fav renk: Kırmızı, siyah Fav kelimeler: Bağlaç olan amk, canım, yarram Hobilerim: Müzik dinlemek, müzik yapmak, motor sürmek, yemek yapmak ve yemek Fobi: Deprem',\n",
       "       'Ülkemin bişey olduğunda el birliğiyle birbirine tutunmasına bayılıyorum. Bizden başka kimsemiz yok çünkü. Karda kalanlara ekipler yemek dağıtıyor. Deprem oluyor herkes sahada. Sel oluyor herkes orda. Dayanışmayla her şeyin üstesinden geliyor bu millet evelallah💪',\n",
       "       'Hasta olan sensin.İstanbul felç olmuş iken sarıyerde balıkcıda ne işin var.Baska türlü yemek yenmiyormu???Musakka?antrikot falan??? Deprem olur kayaga gider.Sel basar taile cıkar.İstanbul felç olur rakı balık sefası sürer. Hayırdır?Eğlenmeyemi oldu ibb baskanı?',\n",
       "       \"Nagehanla Karadeniz gezisi?  Vız gelir tırıs gider? Tüm yollar kapalıyken kendine 3 kar küreme aracı alıp büyükelçiyle? balık yemek? Deprem enkazını ziyaret edip kayak yapmaya gitmek? İstanbul'da sel varken Bodrum'a gitmek? Kapısını açan korumanın kapısını açan koruma?\",\n",
       "       \"Deprem demişken şu rakamları bir kere daha hatırlayalım   İBB'nin 2022 yılı  ▪️Deprem bütçesi 492 milyon TL  ▪️Reklam bütçesi  849 milyon TL \",\n",
       "       'bir gün o büyük deprem gelip her yeri yıkacak. enkaz altında çaresizce kurtarılmayı beklerken, cılız bir ışık karanlığı yaracak. son bir umutla ışığa doğru sürüneceksin. ışığın telefonundan yayıldığını anlayacaksın ve ekranında şu yazıyı okuyacaksın; \"geçmiş olsun postu çıkalım\"',\n",
       "       'Deprem nedeniyle berbat haldeyim 09.55’te banka temsilcisi arıyor. Faiz oranları şu kampanyaya katılın, diyor. Eğer çok yakınınız değil ve acil bir şey yoksa sabah 10.00’dan önce gece 22.00’dan sonra kimse aranmaz. Genel görgü kuralıdır.',\n",
       "       'Prof. Dr. Celal Şengör: Bu deprem müthiş kötü bir haberdir. Bunun anlamı şu, İstanbul depremi bayağı yakınlaşmış. Sana (Fatih Altaylı) tavsiyem, İstanbul’dan şehir içindeki evinden taşın.',\n",
       "       'Daha petekler açılmadan #doğalgaz 225₺ #elektrik 395₺ #Su 159₺ gelmiş  Geçim sıkıntısı #deprem den daha çok etkiliyor sanırım beni.',\n",
       "       '#kararverin Gerçek olan şu: AKP\\'ye Türkiye\\'nin tapusu verilmedi. Bu ülkenin sahibi 85 milyon vatandaştır. AKP iktidardan 18 HAZİRAN 2023 seçimlerinde yolcudur. Türkiye bugün ağır bir sıkıntı altındadır. Vatandaş \"imdaat\" diye bağırıyor ama aldırış eden yok.! R.Turan #deprem 🙏🙏',\n",
       "       \"Deprem gece 4:08 de oldu.  Sabah saat 7:30 itibariyle halkın toplandığı her yerde mobil mutfak, baz istasyonu, tuvalet, su, çorba, ekmek, jeneratör, battaniye, ilaç, sağlık ekipleri ve çadırlar hazırdı. İşte ERDOĞAN'LA Sosyal DEVLET  #YaşaSOYLUdevletim\",\n",
       "       'jeoloji müh uzm değerli hocalarımıza sorup duruyorsunuz, şu saatte deprem olacak deseler ne yapacaksiniz? Önce kentinize sahip çıkın, afet hazırlıklarını sorun, şehir plancıları ile iş birliği yapıp, afete dayanıklı kentleşmeyi, bütçenin nereye harcandığını sorun.',\n",
       "       'Arkadaşlar !!! -Her deprem sonrası, şu sürekli 4.0, 5.0 #deprem bekliyorum diyen üfüren üfürdemikleri, -Karınca, bulut, yıldız, gezegen, güneş/ay turtulmasından tutulanları, -Deprem parametrelerine dayanmadan şu fay 6.8, 7.2 üretir diyenleri takip etmeyi bırakın. #izmirdeprem',\n",
       "       \"Deprem demişken şu rakamları bir kere daha hatırlayalım;   İBB'nin 2022 yılı  ▪️Deprem bütçesi 492 milyon TL  ▪️Reklam bütçesi  849 milyon TL  Celal Şengör / Genel Başkanımız Halk TV / Nazilli / Siren / Talimat  Devlet Milletinin Yanında    HAİNLERE GEÇİT YOK\",\n",
       "       'Sel olunca Bodrum\\'a tatile, deprem olunca Erzurum\\'a kayağa, müsilaj olunca Antep\\'e baklava açmaya giden birisi boş kaldığı zamanlarda \"Kanal İstanbul felaket\" diyor.  Senden büyük felaket mi olur zottirik?',\n",
       "       'Antep-Maraş-İslahiye fay hattı uyandı. Deprem Master Planı acil hayata geçmeli. Depremde sahra hastanesi yerinde şimdi devasa rant binası var. Toplama yeri belirlenmeli, yerel yönetimler, asker çantası, market çantası yerine deprem çantası dağıtmalı, bilgilendirici broşür ile.',\n",
       "       'İzmirlilere takma isim ve çakma profil fotoğrafı ile deprem üzerinden hakaret eden kişi, Antep’te tutuklanmış ...  Bunu yapan bırakın başörtülü filan olmasını, kadın bile değil !  Sosyal medyada her gördüğüne atlayıp nefret yazıları döşenenler utanır mı bilmem.',\n",
       "       'Sel olunca Bodrum\\'a tatile, deprem olunca Erzurum\\'a kayağa, müsilaj olunca Antep\\'e baklava açmaya giden birisi boş kaldığı zamanlarda \"Kanal İstanbul felaket\" diyor.  Senden büyük felaket mi olur tekfur .?',\n",
       "       'Arkadaşım lcw de ise girme testini gecememis ve adam mimarlik okuyor. Allahtan Antep deprem bolgesi değil...',\n",
       "       'Maraş’ta fay hattı ve bataklık üzerine yapılan Şehir Hastanesi, deprem sonrası boşaltıldı. Yıkılması bekleniyormuş',\n",
       "       'Antep-Maraş-İslahiye fay hattı uyandı. Deprem Master Planı acil hayata geçmeli. Depremde sahra hastanesi yerinde şimdi devasa rant binası var. Toplama yeri belirlenmeli, yerel yönetimler, asker çantası, market çantası yerine deprem çantası dağıtmalı, bilgilendirici broşür ile.',\n",
       "       'AA:\"K.Maraş\\'ta düşen Rus yangın söndürme uçağındaki 8 kişiden kurtulan olmadı.\"  Şimdi bu olay; 1-Kaza değil 2-Elektromanyetik saldırı 3-Türkiye\\'ye mesaj   4-Rusya\\'ya mesaj 5-Biz kendimizi Tanrı yerine koyduk,istediğimiz yer ve zamanda yangın,sel,deprem ,kaza yapabiliriz.',\n",
       "       'Her gün yüzlerce mikro ya da daha büyük depremler oluyor. Her gün dünyanın geçiciliği hatırlatılıyor bize. Güne dua ile başlayalım. İyiliklerle, sevgiyle dolduralım🙏💕 Allah her yönden bereketli bir gün versin.  #deprem Maraş Pakistan  İzmir',\n",
       "       'Malatya fay zonu ile Maraş Türkoğlu ve pazarcık segmenti oluşturabiliceği maksimum Yer sarsıntısı(Deprem) 7.2 ve bunun için acilen o bölge için gerekli tedbirlerin alınması gerek.',\n",
       "       '2 gecedir Maraş’ta deprem olmuyor, çok şükür. Bugün nöbeti bırakıyorum, yoksa uykusuzluktan ölücem.',\n",
       "       'Geçmiş olsun #Maraş #Pazarcık. Deprem oldu. Umarım ciddi bir hasar yoktur.',\n",
       "       'Maraş da yine deprem en garibi en lüks binalar şehrin riskli bölgesinde .Maraş isminin arapça Raşe \"titreyen\" kelimesinden geldiği çok deprem olduğu için bu adla anıldığı soylenir',\n",
       "       \"Osmaniye'de 4.1 şiddetinde deprem olmuş; biz Maraş'ta hissetmedik. Çok ilginç çünkü Burkina Faso'da deprem olsa Maraş sallanır öyle bir Maraş.\",\n",
       "       'hocam eskiden orası komple haydar bey olarak geçiyordu boş arazi idi sonra bölünmüş mahalleler kayseri yoluna yakındı alt tarafında küçük bir mezarlık var zeminini bilmiyorum dediğiniz gibi olabilir maraş deprem bölgesi yukarılar daha sağlam olur',\n",
       "       \"Pazarcık ilçemizde saat 14.34'te gerçekleşen 4,5 büyüklüğünde #deprem #Elbistan’ımızda da hissedildi, çok şükür herhangi bir olumsuz durum bulunmamaktadır.  Hemşehrilerimize geçmiş olsun.\",\n",
       "       \"Elazığ Sivrice'den kuş uçusu 150 km uzakta Elbistan'da deprem anında bir hocamızın çekip benimle paylaştığı bir video.  Avizecide neler olduğunu dikkatle izleyin...\",\n",
       "       \"Elbistanda deprem oldu... Allah'ım korusun.. Rabbim yar ve yardımcımız olsun... Geçmiş olsun #Elbistan\",\n",
       "       \"Osmaniye 'de 5. Deprem oluyor. Elbistan,İskenderun, Dörtyol, Afşin korkuyor. Allah korusun 7.lik deprem olduğunda neler olacağını tahmin etmemek aptallık olur.  Türkiye 'de binalar kartondan yapılmış sanki.\",\n",
       "       'pariste deprem olsa bizde hissedilecek aq elbistan simülatörü sıkmaya başladı',\n",
       "       'Bu elbistan ın yollarının halıı nolucu ola bugün bi cukara düştüm arabanın içinde 3.1 şiddetinde deprem oldu mk',\n",
       "       'Kahramanmaraş,ın Elbistan ilçesinden Deprem nedeni ile gönderilen yardım kolilerinin içinden çıkan yavrularimizin ;Gözlerimizi dolduran bizim çoçuklarimiz olmalarindan şeref duymamızı sağlayan altin kalplilerin duygu dolu temenni ve dilekleri.iyiki varsınız.',\n",
       "       'Kahramanmaraş’ın Elbistan ilçesinde 1.7 büyüklüğünde deprem meydana geldi.  Afet ve Acil Durum Yönetimi Başkanlığı Deprem Dairesi Başkanlığı (AFAD) verilerine göre, saat 16.19’da Elbistan ilçesinde yerin 7 kilometre derinliğinde 1.7 şiddetinde deprem meydana geldi.',\n",
       "       'Konum elbistan. Deprem oldu mu? Maraşlı hemşolarım, paranoya oldum sanırım',\n",
       "       'Elbistan deprem bölgesi. Bu yönde nasıl bir kat sınırlaması var. Bilgi verir misiniz. Kaç kata kadar yapılabiliyor. Ayrıca bu yönetmelikte kat sayısının artması söz konusu oyle anlıyorum. Bununla mı övünüyoruz',\n",
       "       \"SON DAKİKA: Muğla'nın Marmaris ilçesi açıklarında 4.4 büyüklüğünde deprem meydana geldi.\",\n",
       "       'Kızılay Balıkesir Merkez, Bandırma, Edremit, Gönen Şubeleri ile Gençlik ve Kadın kolları Düzce’de meydana gelen deprem dolayısıyla topladıkları bağışları teslim ettiler.   Teşekkürler 🙏👏',\n",
       "       'Gelecek Partisi İstanbul İl Başkanlığı’nda “Sistemik Deprem ve Yeni Dünya Düzeni Arayışları: 21. Yüzyıla Bakış” adlı ilk semineri düzenledik.  Darısı, yeni seminerlere…   @umityardim1961   @ibrahimmturhan2   @fovundur ',\n",
       "       'Deprem Marmaris’te değil. Karpathos adasının doğusunda ama böyle yazılsa tıklanmaz tabii..',\n",
       "       '23 Kasım sabahına uyanmak üzere iken şehrimiz Düzce merkez üslü bir deprem meydana geldi. Deprem bize her defasında aynı şeyi anlatıyor: Sünnetullah  Bir bina dere yatağında ise onu über mühendislik yöntemleri ile dahi kurtaramıyorsunuz. İki kere iki dört eder. Bu çaba neden?',\n",
       "       \"Istanbulda deprem olsa da olmasa da Istanbul'un merkezi bosaltiliyor, göcler tasraya yani hep Kentten uzaklasiyorsunuz. Deprem sadece Dolar kazanan Azinliklarin Kentten atilmasini saglayacaktir. Merkez Istanbul depremsiz kendiliginden bosaldi zaten.\",\n",
       "       'Deprem konusunda en büyük ciddiyetsizliklerden biri de 5’in altındaki 3’lük 4’lük depremleri medyanın son dakika diye vermesi. Ayıp. 4’lük depremde de geçmiş olsun demezsin bi zahmet. Kaç kişinin kıçı sismograf da, hissetti de geçmiş olsun diyorsun. Konunun ciddiyeti tavsıyor.',\n",
       "       'Çünkü  -her #deprem sonrası, bu deprem şu fayı tetikler.. -Bu fayın doğusu/batısı, kuzeyi/güneyinde deprem bekliyorum -Bu deprem Marmara depremini tetikler -Bu deprem şu faya sıçrarsa 6.8, 7.2 üretir gibi açıklamaların bilimsel bir altlığı ve bunları ispatlayacak formülleri yok.',\n",
       "       'Sinirlerim altüst oldu yazmam lazım konsantre olamıyorum deprem ve sonrası yasadığım şeyleri üzerimden atmaya çalışıyorum ve bunun için dokuz aydır ugrasıyorum amainsanların dilinin kemiği olmadığı için kimi nasıl üzerim diye düşünmeden konuşuyorlar o kadar cok sustuklarım varki',\n",
       "       'Rant uğruna bina yoğını yaptığınız şehre karşı kendinizi nasıl affettireceksiniz? Deprem toplanma alanlarını neden ranta açtınız akepe döneminde. 20 milyondan fazla insan deprem anında nerede toplanacak. 20 milyon insan aklın hayalin alıyor mu',\n",
       "       'İSTANBULDA BÜYÜK DEPREM OLMAYACAK. SEN NE GÜZEL KONUŞUYORSUN. 🤔🤔🤔🤔🤔🤔🤔🤔🤔🤔🤔🤔🤔🤔🤔#Erzurum #GüldürGüldürShow Soytarı\"SüfyaniÇıktı BelaYağıyor\" Peygamber\"Mansur Yavaş\" İçişleri Yanlış Mareşal Rakı İkizler Sokak\"Pençe-Kilit Operasyonu\"',\n",
       "       'Kadınlar sevişti diye deprem olmaz! Kadın mini giydi diye deprem olmaz! Kadın başını açtı diye deprem olmaz! Kadın çocuk aldırdı diye deprem olmaz! Kadın kahkaha attı diye deprem olmaz!  Kadını bahane edip deprem yaratan bir Tanrıyı reddediyorum.',\n",
       "       '#deprem Selçuk Tepeli Hadise Meteorolojik uyarı 👉Adam olacak çocuk ve haklı isyanı',\n",
       "       \"1 milyon suriyeli geldi 700 bin çocuk yapmışlar. Bunlar 20 milyona ulaştıklarında yılda 10 milyona yakın çocuk yapacaklar demeki...  İlber ortaylı #faiz melih gökçek  #deprem fethiye'de #MuratYildirim  F-35 vurmayın öldüm bilal\",\n",
       "       \"HD'nin hazırladığı 2021 HAK İHLALLERİ RAPORU:  ▪️Cezaevlerinde 57 insan öldü  ▪️Kötü muamele ve işkenceye uğrayanların sayısı 1114  ▪️Şu an 326.243 tutuklu var. Kapasite 288.798  ▪️Tutukluların 12.995'i kadın. 2.447'si ÇOCUK  #deprem AdaletinKelepçesini Çözün #osmaniye\",\n",
       "       'Bir var bir yok  Onlar öğrenci tam anlamı ile çalışmadı  Bir çalışma yaptırıyorum bir yok  Nedir bu ya çocuk oyuncağı yaptınız. Ummadığınız staj mağdurları ve ailleri sandıkta deprem etkisi yaratacak  Biz çocuk değiliz seçmeniz  Sigorta geçersiz olsa da oyumuz geçerli  #OyumStaja',\n",
       "       \"AKP'li Üsküdar Belediyesi'nin Küçüksu Mahallesi'nde 2 park alanını imara açtı. Deprem toplanma alanı da olan Sedirli Parkı, belediye tarafından ihale ile satıldı. Bir sitenin kamuya yeşil alan olarak terk ettiği çocuk parkı da konut imarına açıldı  #SonDakika\",\n",
       "       'KIŞIN RENGARENK TUNİKLERLE  ENERJİK FORMUNU KORU  ❣️🌸  🌸1.Sınıf triko kumaştır  🌸 80 CM BOY  📍 STD BEDEN (38/44)  Ürünler sınırlı adettir 🛍🛍 sipariş için 👉👉Dm ye bekleriz 😊😊',\n",
       "       'Tozkoparanda Skandal Bitmiyor #deprem olacak bahanesi ile  İnsanları zorla evlerinden atan Güngören belediyesi yardımcısı  @ucan_za   Bu çocuk daha 8 yaşında Bunun hesabını kim verecek Zulmü durduramıyorsanız, bari paylaşın Tozkoparan Bizimdir',\n",
       "       'HERKES KAÇTI O ARKADAŞINI BIRAKMADI  Tayvan’da meydana gelen 6.8’lik deprem sırasında bir okulda tüm sınıf kaçarken ayağı sakat arkadaşını kurtaran çocuk sosyal medyanın gündemine düştü.',\n",
       "       'ğer bu asil ve gururlu Afganistan çocuğu, Nazici zihniyetin söylemi ile sarışın mavi gözlü bir çocuk olsaydı DEPREM konusunda baş yıldız yapılır,çarşaf çarşaf yardım geceleri düzenlerlerdi. Afganistan depremi ve yıkımını sadece Aydınlık yazdı. Tarihe not düşülsün.',\n",
       "       'Başkalarının ayıpları ile meşgul olan, hayat boyu hep ayıp yapar..  #deprem Çocukla çocuk olmak...',\n",
       "       'Ağzına sağlık Enes Sokaklarda sürü halinde gezen başıboş köpek görmek istemiyoruz İki çocuk kuduz ölümü bekliyolar resmen O kadar çok istiyosanız alın evinize besleyin. Devlet yetkililerine sesleniyorum köpeklerden halkınızı koruyun artık #BaşıBoşKöpeklerToplansın #kuduz #deprem',\n",
       "       '17 Ağustos 1999 Depremini 03:02 de iliklerine kadar yaşayan bir çocuk olarak ömür boyu en ufak deprem de bile tedirginlik yaşıyoruz Ve deprem öldürmez çürük binalar öldürür  #deprem sesimi duyan var mı  #17AgustosDepremi  #17Agustos1999 #17Agustos #Sakarya #1999Depremi',\n",
       "       '\"Bir ülkeyi tanımak istiyorsanız, o ülkede “KADINLARIN ve HAYVANLARIN” nasıl öldüğüne bakın\". Albert Camus  #katliamadurde',\n",
       "       \"📌Vatandaşlarımızın sağlık hakkı kutsaldır.   📌Bu hakkı savunacağız.   📌Geri adım atmak yok!  📌27 Kasım 2022 Pazar günü Ankara'dayız.\",\n",
       "       'Kahramanlar sesleniyor Kahramanların evlatları sesleniyor Milletimiz sesleniyor Diyorlarki;Vatan Savunmasının sözleşmesi olmaz Vatan için can verenler mesleki endişe duyamaz Uzman Çavuşlara kadro verilsin',\n",
       "       'Kurtuluş Kuş Burak Bulut konserine o kadar çok ihtiyacım var ki..😔',\n",
       "       'Hiç bilmediğim bir hikayedeydim',\n",
       "       'bu ışıltılı hayatı biz seçtik:d',\n",
       "       'Bütün partilerin  Çırak ve Meslek Liselinin hakkına sahip çıkması gerekirken bu yaşta twitterda STAJ SSK BAŞLANGICI OLSUN DİYE  hak arıyoruz  Yeter artık Allah şahit mağduriyeti çözmeyene öteleyene ailecek  verecek oyumuz yok  #OyumStaja',\n",
       "       \"Taze cerrahi asistanı olarak gecenin 3'ünden bildiriyorum; İLK TEK BAŞIMA TUTTUĞUM GECE NÖBETİME KOLİK BİR AT VE SEZARYEN GELDİ\",\n",
       "       'Haber doğru ise, Rus istihbaratı beni takip ediyor 🤭  Hep yazarım ya; Her eve bir kedi lazım 😊  ▪️Şaka bir yana, nedir bu? Neler oluyor?',\n",
       "       'cabaladikca batiyorum duzeltmeye çalıştıkça batiriyorum ne haliniz varsa görün',\n",
       "       'Yalanla dönen çarkların birinde yazıyo aşk',\n",
       "       'Büyük Türk Milletinin  büyük şehitleri…  Rahmet ve ışıklar içinde uyuyun. Uğruna şehit düştüğünüz bu vatana sahip çıkacağız.  Başımız sağolsun.   Pençe-Kilit’ten acı haber: Şehitlerimiz var',\n",
       "       'Onun en ufak bir cümlesi bir kelimesi içimi sıcacık yapmaya yetiyor hiç birinize ihtiyacım yokk',\n",
       "       'daha fazla hüzünlü bir şey duymak görmek bilmek istemiyorum kalbim yeteri kadar hüzünlü zaten',\n",
       "       'Alt komşunun kızı öksürükten boğuluyor adam  yatağındankapıyı kapat diye eşine bağırıyor. Benim gidip ilgilenesim geldi, neyse siz uyuyun rahatça! El kadar bebenin ciğerini alırsınız yarın bir zahmet halının üstünden',\n",
       "       '+ Durduk yere değil.  + Bu kaosu aylar öncesinden öngürdüm.  + Çocuklar, hayvanlar karşısında değersizleştirildikçe zararı hayvanlar görecek diye yazdım belirttim.  + Kıskançlık paradoksu bu. + Maalesef benzer görüntüler artabilir. Şahsen bahçemdeki köpeği evin içine aldım.',\n",
       "       'Gerçekten toplumdan toplanmanız gerektiğini düşünüyorum birçoğunuzun',\n",
       "       'Alt komşunun kızı öksürükten boğuluyor adam  yatağındankapıyı kapat diye eşine bağırıyor. Benim gidip ilgilenesim geldi, neyse siz uyuyun rahatça! El kadar bebenin ciğerini alırsınız yarın bir zahmet halının üstünden',\n",
       "       'Uykusuz her gece.. yorgun ölesiyee',\n",
       "       'Eee chp iyi parti vs onca sene khk ve osuruktan suçlara boşuna sessiz kalmadı. Ya da koşa koşa Avrupada akpye boşuna mı kefil oldu. Adamlar uzun vadeli yatırım yaptı meyvesini alacaklar elbette.',\n",
       "       'Bütün bunlar yaşanırken yapılacak yorum bu mu? Tek bir can bile gidip kurtarana Allah razı olsun demek yerine bilip bilmeden oturduğun yerden hedef göstermek algı oyunu yapmak! Gazeteci olarak siz de gidip görüp yerinde haber yapsaydınız bir tane de can kurtarsaydınız anca laf',\n",
       "       'Kendinden küçük bir çocuğu kafasına iskemle vurmak ile tehdit eden, buna engel olana hakaret eden vuran biri ister kadın olsun ister erkek. Kavgaya devam edemeyecek duruma getirmek zorundasınız. Aksi halde o zırdelinin ne yapacağını, hele amerikada, bilemezsiniz.',\n",
       "       'Staj mağdurlarını sayıca çok az bir kesim olduğunu sanıp yine çözümsüzlük yanlısı ve başka bir zaman bakarız düşüncesi var ise pişmanlık duyacaklarına emin olsunlar #OyumStaja',\n",
       "       'Olsun be 2.ligde de 6-7 defa kongre yapılıp Niyazi Dedem başkan seçilir ,orda da kümede kalma savaşı veririz. Canın sağolsun  @kirmizikara',\n",
       "       'a ben bır sarılma temas bagımlısıyım ve yakın arkadaslarımın hıc bırı yanımda degıl ne olurdu kız bırınız yakınımda olsaydınız cıkıp geleydınız.. su an o kadar ıhtıyacım var kı sıze sarılmaya..',\n",
       "       \"Tüm soysuzlara bir SOYLU yeter.  Ekrem paniklemiş. Türkiye Cumhuriyeti'nin  gelmiş geçmiş en çalışkan içişleri bakanı Süleyman Soylu'dur. Onun düşmanları'da bellidir.  Chp+ip+hdp+pkk+ feto= ABD.\",\n",
       "       'Emekli öğretmenim, okuyan,sorgulayan bir insanım. Ayın sonunu getiremiyorum. Bin tane oyun olsa \"lider\" dediğin adama bir tanesini vermem. Enflasyon %200 olmuş kurduğun cümleye bak.',\n",
       "       'Bu Rüya gibi İtalyan Kasabası, Oraya Taşınmanız İçin Size devlet 30.000 Dolar Ödeyeceka',\n",
       "       'sevgilisi olmasına rağmen hayatıma almayı düşündüğüm insanlara benden daha samimi yaklaşıyo aşırı kıskanıyorum ve hiçbi şey diyemiyorum çünkü YAKIN ARKADAŞIM AMK',\n",
       "       'ceylo foto gösterdi biraz önce gerçekten vermişsin',\n",
       "       'Bir gün  Yaşayan hiç kimsenin  Anısı olmayacağız.  Yine de  Sonsuzluk bizmişiz gibi  Yaşayacağız dünyayı.  Unutmak ey  Tanrının anlaşılmaz bağışı  Sensin hepimizin büyük hayatı.',\n",
       "       \"Bizim bir olma, birlikte hareket etme, birlikte güçlü olma ve bu 2023 zaferini Allah'ın izniyle sayın Cumhurbaşkanımız Recep Tayyip Erdoğan  liderliğinde birlikte kutlama gibi hedefimiz, ilk günkü gibi heyecanımız var.  İstanbul sen ne güzelsin 🇹🇷\",\n",
       "       'Başa gelemeyeceğini bildiği için bol keseden sallamak güzel olur.  Ben de başa gelirsem asgari ücreti en az 100.000₺yapacağım.Biraz gerçekçi ve çözüm odaklı vaatler vermek lazım. Çözüm işçinin maaşını arttırmak değil, aldığı maaş ile geçimini sağlayabileceği enflasyonu yaratmak.',\n",
       "       'gelir gelir seni utanırım misin herhangi #çerkezköy   ümit degildir beni senden yeterli kalmakbeni edecektin koydugumu onu',\n",
       "       'Muazzam bir hevesizliğin tam ortasındayım .',\n",
       "       'Keza Sinan Hoca da primat derken,insan olarak muhatab dahi almamıştır.Satır aralarını okuma gayretinizde başarılar.',\n",
       "       \"Daha ne kadar sürecek iğrençlikleriniz Daha ne kadar çekeceğiz sizden? Daha ne kadar Allah'a ölmeniz için el açacağız? Daha ne kadar susacağız? Daha ne kadar suçlanacağız siz tarafından? Daha ne kadar namusumuza, anamıza, atamıza küfredeceksiniz? Bizler sizi var etmeseydik keşke\",\n",
       "       \"Şimdi taşlar oturdu Pereira ordan Crespo ruhuyla oynayan Kim kalitesinde bonservisi düşük oyuncu çıkarıcak , dedem engin bağlarıyla ordan topçuları bize getirecek bizden Avrupa'ya geçmek için oyuncu gelicek arada hem güzel para kazancaz hem de kadro kalitemiz yüksek olucak\",\n",
       "       'ailesinin bile sevmediği insanları baş tacı yaptık ondan bu kaybedişlerimiz..',\n",
       "       'Bir yerlerden ses duyulur Gören yok duyan yok Sanki gök gürlemiş yüreğimde Tam on ikiden vurmuş ok Sussam çare değil  Konuşsam fayda etmez Gel dinlen biraz Bu gönül telaşı bitmez ESKİCİ ...',\n",
       "       'Bana üye ayrımcılığı yapmıyorum demesin kimse bal gibi yapıyorsunuz ve hatta bazen bende yapıyorum fark etmeden. Bu konuda kendimizi geliştirmeliyiz dostlar, onlar sadece bir boy band değil, her üye aynı zamanda birer sanatçı ve onların sanatına burun kıvırmak yakışı kalmaz.',\n",
       "       'Bi kere bana sen rahat ol ben halleşeceğim denmedi, Ben ne varsa kendim hallettim. Bu dünyadan çok yorgun ayrılacağım.',\n",
       "       'Yani oradalar bir süredir. Bir anda kısa süre içerisinde toplatılmaları ortaya bir gap çıkaracaktır. Bu sefer de o gapi farklı bir predator canlı alacaktır. Bu olayın düzgünce hallolması gerekiyor ise EKOLOGLARLA çalışılmak zorunda',\n",
       "       'Şimdide yeni hastalık çıkardılar Lassa 😀  D.S.Ö terör örgütünün elemanı sıvıcı Uğur yarın öbürgün konuşmaya başlar aşılanın diye kapanma şart MASKE mesefa v.s yok abi bu halk artık ayaklanmalı bu küreselcilerin sonları gelmeli.',\n",
       "       'ALLAH IÇIN KALBI GÖNLÜ TEMIZ DÜRÜST OLAN INSANLARA SELAM OLSUN',\n",
       "       'Ulaşılmaz olan herşey daha fazla zevk veriyor',\n",
       "       'İlla konya barınağı olmasına gerek yok. Herkes kendi ilindekine gitse, oradakine elini uzatsa, inanın bu düzen çok daha fazla değişir. Lütfen elinizin yettiğine değin.',\n",
       "       'karnımdaki çocuk senin dese eline bile dokunmadığım halde inanacak kadar çok seviyorum onu diyen girdapın ağzından okuyacağımız bir bölüm geliyor ağzımıza sıçılacak',\n",
       "       'Biz bugün gittik, numaramızı verdik, çarşamba günü yerel hayvan koruma görevlisi oluyoruz. Her hafta en az 2-3 kez gideceğiz. Hastaların takibini yapacağız. Hayvanların mamaları, suları, durumları nasıl ona bakacağız. Siz de yapın.',\n",
       "       'Bırak herkes hak ettiğini yaşasın bırak kendini vazgeçilmez sananları bırak ki herkes ne kaybettiğini de neyi mahvettiğini de anlasın',\n",
       "       'Kendi imkanlarıyla ailesine bakan gencecik bi çocuk yasamayı öyle hak ediyorsun ki umarım sağsalim çıkarsın yoksa iyi olamayacağım'],\n",
       "      dtype='<U292')"
      ]
     },
     "execution_count": 23,
     "metadata": {},
     "output_type": "execute_result"
    }
   ],
   "source": [
    "data"
   ]
  },
  {
   "cell_type": "code",
   "execution_count": 24,
   "metadata": {
    "id": "vSQloEdxP2me"
   },
   "outputs": [],
   "source": [
    "tokenizer.fit_on_texts(data)"
   ]
  },
  {
   "cell_type": "code",
   "execution_count": 25,
   "metadata": {
    "colab": {
     "base_uri": "https://localhost:8080/"
    },
    "id": "Fx-lDcDrP2mf",
    "outputId": "03637abf-ae98-4623-ea82-381c7789e98a"
   },
   "outputs": [
    {
     "data": {
      "text/plain": [
       "{'ve': 1,\n",
       " 'deprem': 2,\n",
       " 'var': 3,\n",
       " 'gıda': 4,\n",
       " 'bir': 5,\n",
       " 'battaniye': 6,\n",
       " 'çadır': 7,\n",
       " 'çok': 8,\n",
       " 'mahallesi': 9,\n",
       " 'acil': 10,\n",
       " 'hatay': 11,\n",
       " 'için': 12,\n",
       " 'no': 13,\n",
       " 'yardım': 14,\n",
       " 'lütfen': 15,\n",
       " 'su': 16,\n",
       " 'bu': 17,\n",
       " 'aci̇l': 18,\n",
       " 'köyü': 19,\n",
       " 'kahramanmaraş': 20,\n",
       " 'bebek': 21,\n",
       " 'lazım': 22,\n",
       " 'çocuk': 23,\n",
       " 'bezi': 24,\n",
       " '90': 25,\n",
       " 'sokak': 26,\n",
       " 'ihtiyaçları': 27,\n",
       " 'yok': 28,\n",
       " '4': 29,\n",
       " 'powerbank': 30,\n",
       " 'da': 31,\n",
       " 'i̇letişim': 32,\n",
       " 'mah': 33,\n",
       " 'ihtiyacı': 34,\n",
       " 'ped': 35,\n",
       " 'de': 36,\n",
       " 'mazot': 37,\n",
       " 'antakya': 38,\n",
       " '1': 39,\n",
       " 'olur': 40,\n",
       " 'ne': 41,\n",
       " 'merkez': 42,\n",
       " 'yardim': 43,\n",
       " 'malatya': 44,\n",
       " 'ısıtıcı': 45,\n",
       " 'kadar': 46,\n",
       " 'teyitli': 47,\n",
       " 'yardımı': 48,\n",
       " 'en': 49,\n",
       " 'kıyafet': 50,\n",
       " 'artar': 51,\n",
       " 'adıyaman': 52,\n",
       " 'erzak': 53,\n",
       " 'her': 54,\n",
       " 'kişi': 55,\n",
       " '0': 56,\n",
       " '5': 57,\n",
       " 'ile': 58,\n",
       " 'kadın': 59,\n",
       " 'olan': 60,\n",
       " 'caddesi': 61,\n",
       " 'yemek': 62,\n",
       " 'çocuklar': 63,\n",
       " 'teyi̇tli̇': 64,\n",
       " 'gerekiyor': 65,\n",
       " 'fiyatları': 66,\n",
       " '3': 67,\n",
       " 'o': 68,\n",
       " '2': 69,\n",
       " 'maraş': 70,\n",
       " 'çadir': 71,\n",
       " 'temel': 72,\n",
       " 'aile': 73,\n",
       " 'kuru': 74,\n",
       " 'arkadaşlar': 75,\n",
       " 'iç': 76,\n",
       " '20': 77,\n",
       " 'lazim': 78,\n",
       " 'ama': 79,\n",
       " 'adres': 80,\n",
       " 'ihtiyaç': 81,\n",
       " 'olarak': 82,\n",
       " 'defne': 83,\n",
       " 'daha': 84,\n",
       " 'değil': 85,\n",
       " 'çamaşırı': 86,\n",
       " 'büyük': 87,\n",
       " 'gelen': 88,\n",
       " 'ya': 89,\n",
       " 'gibi': 90,\n",
       " 'olsun': 91,\n",
       " 'vs': 92,\n",
       " 'şu': 93,\n",
       " 'çorap': 94,\n",
       " 'türkoğlu': 95,\n",
       " 'destek': 96,\n",
       " '15': 97,\n",
       " 'yangın': 98,\n",
       " '7': 99,\n",
       " 'hiç': 100,\n",
       " '30': 101,\n",
       " 'sk': 102,\n",
       " 'mont': 103,\n",
       " 'mendil': 104,\n",
       " 'el': 105,\n",
       " 'meydana': 106,\n",
       " 'iletişim': 107,\n",
       " '6': 108,\n",
       " 'ulaşmamış': 109,\n",
       " 'az': 110,\n",
       " 'gaziantep': 111,\n",
       " 'ilaç': 112,\n",
       " 'kişilik': 113,\n",
       " 'benzin': 114,\n",
       " 'elbistan': 115,\n",
       " 'özellikle': 116,\n",
       " 'insan': 117,\n",
       " 'diye': 118,\n",
       " '8': 119,\n",
       " '‼️': 120,\n",
       " 'kırıkhan': 121,\n",
       " 'varmış': 122,\n",
       " 'ev': 123,\n",
       " 'maması': 124,\n",
       " 'fazla': 125,\n",
       " 'ilçesi': 126,\n",
       " 'sadece': 127,\n",
       " 'mehmet': 128,\n",
       " 'zor': 129,\n",
       " '25': 130,\n",
       " 'küçük': 131,\n",
       " 'gerekli': 132,\n",
       " 'sok': 133,\n",
       " '16': 134,\n",
       " 'geçmiş': 135,\n",
       " 'sel': 136,\n",
       " 'apartmanı': 137,\n",
       " 'enkaz': 138,\n",
       " 'insanlar': 139,\n",
       " '12': 140,\n",
       " '9': 141,\n",
       " 'köy': 142,\n",
       " 'soğuk': 143,\n",
       " 'afadbaskanlik': 144,\n",
       " 'ali': 145,\n",
       " 'allah': 146,\n",
       " '53': 147,\n",
       " 'elektrik': 148,\n",
       " 'sonrası': 149,\n",
       " 'yeni': 150,\n",
       " 'diyor': 151,\n",
       " 'dışarda': 152,\n",
       " 'jeneratör': 153,\n",
       " 'malzemeleri': 154,\n",
       " 'numarası': 155,\n",
       " 'mı': 156,\n",
       " 'şey': 157,\n",
       " 'cad': 158,\n",
       " 'kar': 159,\n",
       " 'bey': 160,\n",
       " 'gündür': 161,\n",
       " 'durumdalar': 162,\n",
       " 'yayalım': 163,\n",
       " 'hijyenik': 164,\n",
       " 'kahramanmaras': 165,\n",
       " '36': 166,\n",
       " 'varsa': 167,\n",
       " 'yeşilyurt': 168,\n",
       " 'biz': 169,\n",
       " '0538': 170,\n",
       " 'herkes': 171,\n",
       " '0536': 172,\n",
       " 'kendi': 173,\n",
       " 'bebekler': 174,\n",
       " 'telefon': 175,\n",
       " 'oldu': 176,\n",
       " 'odun': 177,\n",
       " 'önce': 178,\n",
       " '35': 179,\n",
       " 'belediyesi': 180,\n",
       " 'koçören': 181,\n",
       " 'islak': 182,\n",
       " 'bi': 183,\n",
       " 'yaşlı': 184,\n",
       " 'hijyen': 185,\n",
       " 'hasta': 186,\n",
       " 'i̇stanbul': 187,\n",
       " 'çantası': 188,\n",
       " 'olunca': 189,\n",
       " 'ses': 190,\n",
       " '0539': 191,\n",
       " '44': 192,\n",
       " 'blok': 193,\n",
       " '17': 194,\n",
       " 'hava': 195,\n",
       " 'hala': 196,\n",
       " 'hasan': 197,\n",
       " 'fakat': 198,\n",
       " 'gece': 199,\n",
       " 'ki': 200,\n",
       " 'adiyaman': 201,\n",
       " 'termal': 202,\n",
       " '10': 203,\n",
       " 'an': 204,\n",
       " 'yardımlar': 205,\n",
       " 'afad': 206,\n",
       " 'edin': 207,\n",
       " 'küme': 208,\n",
       " 'evleri': 209,\n",
       " 'ahbap': 210,\n",
       " 'depremdairesi': 211,\n",
       " 'altında': 212,\n",
       " 'kömür': 213,\n",
       " 'yiyecek': 214,\n",
       " '505': 215,\n",
       " '46': 216,\n",
       " '14': 217,\n",
       " 'adrese': 218,\n",
       " 'yer': 219,\n",
       " '40': 220,\n",
       " 'bile': 221,\n",
       " 'geldi': 222,\n",
       " 'feneri': 223,\n",
       " 'ben': 224,\n",
       " 'olmaz': 225,\n",
       " 'düşürür': 226,\n",
       " 'para': 227,\n",
       " 'maske': 228,\n",
       " '27': 229,\n",
       " 'yakın': 230,\n",
       " 'kat': 231,\n",
       " 'afet': 232,\n",
       " '68': 233,\n",
       " 'numara': 234,\n",
       " 'sağlık': 235,\n",
       " 'kişiler': 236,\n",
       " 'köye': 237,\n",
       " '21': 238,\n",
       " 'doğanşehir': 239,\n",
       " '96': 240,\n",
       " 'acilen': 241,\n",
       " 'i̇hti̇yaci': 242,\n",
       " 'soba': 243,\n",
       " 'oluyor': 244,\n",
       " 'barınma': 245,\n",
       " 'sinan': 246,\n",
       " 'son': 247,\n",
       " 'durumda': 248,\n",
       " 'hiçbir': 249,\n",
       " 'köyünde': 250,\n",
       " 'yukarı': 251,\n",
       " 'gün': 252,\n",
       " '39': 253,\n",
       " 'aynı': 254,\n",
       " 'desteği': 255,\n",
       " 'kötü': 256,\n",
       " '94': 257,\n",
       " 'pil': 258,\n",
       " 'olanlar': 259,\n",
       " 'bugün': 260,\n",
       " 'ilçesinde': 261,\n",
       " 'pazarcık': 262,\n",
       " 'olsa': 263,\n",
       " 'nasıl': 264,\n",
       " 'milyon': 265,\n",
       " 'gelir': 266,\n",
       " 'apt': 267,\n",
       " 'bekliyorlar': 268,\n",
       " 'vinç': 269,\n",
       " 'mama': 270,\n",
       " '543': 271,\n",
       " 'onikişubat': 272,\n",
       " 'gida': 273,\n",
       " 'insanların': 274,\n",
       " 'malzemesi': 275,\n",
       " 'cumhuriyet': 276,\n",
       " 'tam': 277,\n",
       " 'salonu': 278,\n",
       " 'olduğu': 279,\n",
       " 'yakacak': 280,\n",
       " 'yardımcı': 281,\n",
       " '31': 282,\n",
       " 'dulkadiroğlu': 283,\n",
       " 'olmuş': 284,\n",
       " 'çadırlar': 285,\n",
       " 'tel': 286,\n",
       " '0530': 287,\n",
       " 'sayıda': 288,\n",
       " 'evler': 289,\n",
       " '544': 290,\n",
       " 'isıtıcı': 291,\n",
       " 'fener': 292,\n",
       " 'güncel': 293,\n",
       " '11': 294,\n",
       " 'kalın': 295,\n",
       " 'vb': 296,\n",
       " 'çünkü': 297,\n",
       " 'insanlara': 298,\n",
       " 'ediyor': 299,\n",
       " 'süt': 300,\n",
       " 'haluklevent': 301,\n",
       " '0535': 302,\n",
       " 'mi': 303,\n",
       " 'i̇leti̇şi̇m': 304,\n",
       " 'çamaşır': 305,\n",
       " 'önemli': 306,\n",
       " 'bunlar': 307,\n",
       " 'devam': 308,\n",
       " 'marmaris': 309,\n",
       " 'adet': 310,\n",
       " 'gül': 311,\n",
       " '99': 312,\n",
       " 'aylık': 313,\n",
       " 'vardır': 314,\n",
       " 'arkadaşım': 315,\n",
       " 'gi̇tmesi̇': 316,\n",
       " '54': 317,\n",
       " 'vi̇nç': 318,\n",
       " 'çulhacıoğlu': 319,\n",
       " 'ahmet': 320,\n",
       " 'a': 321,\n",
       " 'malzeme': 322,\n",
       " 'sitesi': 323,\n",
       " '0543': 324,\n",
       " 'döngel': 325,\n",
       " '24': 326,\n",
       " 'gelmiş': 327,\n",
       " '533': 328,\n",
       " '80': 329,\n",
       " 'kamera': 330,\n",
       " 'buraya': 331,\n",
       " 'i̇rtibat': 332,\n",
       " '32': 333,\n",
       " 'beni': 334,\n",
       " 'b': 335,\n",
       " 'i̇skenderun': 336,\n",
       " 'türlü': 337,\n",
       " 'gidip': 338,\n",
       " 'mahallesi̇': 339,\n",
       " 'soğuktan': 340,\n",
       " '536': 341,\n",
       " '50': 342,\n",
       " 'kadınlar': 343,\n",
       " 'akçadağ': 344,\n",
       " 'tane': 345,\n",
       " 'göksun': 346,\n",
       " 'geliyor': 347,\n",
       " 'koca': 348,\n",
       " 'yetişkin': 349,\n",
       " 'gerek': 350,\n",
       " '78': 351,\n",
       " '0552': 352,\n",
       " '38': 353,\n",
       " 'hassa': 354,\n",
       " 'devlet': 355,\n",
       " '69': 356,\n",
       " 'iletişime': 357,\n",
       " 'kalıyor': 358,\n",
       " 'akevler': 359,\n",
       " 'eren': 360,\n",
       " 'giyecek': 361,\n",
       " 'bütün': 362,\n",
       " 'şeyleri': 363,\n",
       " '0541': 364,\n",
       " 'mesaj': 365,\n",
       " 'i̇htiyaç': 366,\n",
       " 'gerekenler': 367,\n",
       " 'ıslak': 368,\n",
       " 'benim': 369,\n",
       " 'bana': 370,\n",
       " '542': 371,\n",
       " '23': 372,\n",
       " 'bunun': 373,\n",
       " 'kolonya': 374,\n",
       " 'çakmak': 375,\n",
       " 'siz': 376,\n",
       " 'tüm': 377,\n",
       " 'araba': 378,\n",
       " 'depremler': 379,\n",
       " 'neden': 380,\n",
       " 'enerji': 381,\n",
       " 'türkiye': 382,\n",
       " 'yapılacak': 383,\n",
       " 'ülkede': 384,\n",
       " 'düdük': 385,\n",
       " 'ise': 386,\n",
       " 'yatak': 387,\n",
       " 'yokmuş': 388,\n",
       " 'bilgisi': 389,\n",
       " 'yolu': 390,\n",
       " 'çadıra': 391,\n",
       " 'samandağ': 392,\n",
       " '19': 393,\n",
       " 'arkadaşımın': 394,\n",
       " 'kepçe': 395,\n",
       " 'bulvarı': 396,\n",
       " 'apartmani': 397,\n",
       " 'biri': 398,\n",
       " '0545': 399,\n",
       " '89': 400,\n",
       " 'kayseri': 401,\n",
       " 'osmaniye': 402,\n",
       " 'düğün': 403,\n",
       " 'doğru': 404,\n",
       " '26': 405,\n",
       " 'evde': 406,\n",
       " 'ulaşsın': 407,\n",
       " 'yani': 408,\n",
       " 'hamile': 409,\n",
       " 'üzere': 410,\n",
       " 'ihtiyacımız': 411,\n",
       " 'bina': 412,\n",
       " 'spor': 413,\n",
       " 'ihtiyaclari': 414,\n",
       " 'altınözü': 415,\n",
       " 'çalışıyor': 416,\n",
       " 'bilgi': 417,\n",
       " 'kemal': 418,\n",
       " 'ayakkabı': 419,\n",
       " 'öncelikli': 420,\n",
       " 'yaş': 421,\n",
       " 'yolda': 422,\n",
       " '507': 423,\n",
       " 'bölgesinde': 424,\n",
       " 'cok': 425,\n",
       " 'soğukta': 426,\n",
       " 'telefonu': 427,\n",
       " '13': 428,\n",
       " 'saat': 429,\n",
       " 'fatih': 430,\n",
       " 'babalatv': 431,\n",
       " 'millet': 432,\n",
       " 'bot': 433,\n",
       " 'zamanda': 434,\n",
       " 'olduğunu': 435,\n",
       " 'giysi': 436,\n",
       " 'biberon': 437,\n",
       " 'bölgeye': 438,\n",
       " 'gelip': 439,\n",
       " '🔴teyi̇t🔴': 440,\n",
       " 'market': 441,\n",
       " 'villaları': 442,\n",
       " 'çoğu': 443,\n",
       " 'ceket': 444,\n",
       " '594': 445,\n",
       " 'şekilde': 446,\n",
       " 'bölgede': 447,\n",
       " '200': 448,\n",
       " 'depremde': 449,\n",
       " 'gitmemiş': 450,\n",
       " 'dahi': 451,\n",
       " 'i̇laç': 452,\n",
       " 'kent': 453,\n",
       " 'ısınma': 454,\n",
       " 'yine': 455,\n",
       " '37': 456,\n",
       " 'olması': 457,\n",
       " 'listesi': 458,\n",
       " 'konserve': 459,\n",
       " 'hülya': 460,\n",
       " 'olmak': 461,\n",
       " 'depremzede': 462,\n",
       " 'hanım': 463,\n",
       " 'görüştüm': 464,\n",
       " 'tırları': 465,\n",
       " 'bunu': 466,\n",
       " 'güneş': 467,\n",
       " 'eldiven': 468,\n",
       " '42': 469,\n",
       " 'ilk': 470,\n",
       " 'yapmak': 471,\n",
       " 'karşı': 472,\n",
       " 'ülkenin': 473,\n",
       " 'veren': 474,\n",
       " 'can': 475,\n",
       " 'herhangi': 476,\n",
       " 'yerine': 477,\n",
       " 'sonra': 478,\n",
       " 'hep': 479,\n",
       " 'rant': 480,\n",
       " 'birlikte': 481,\n",
       " 'krizi': 482,\n",
       " 'artık': 483,\n",
       " 'baş': 484,\n",
       " 'yanımda': 485,\n",
       " 'yağmurluk': 486,\n",
       " 'neler': 487,\n",
       " 'katına': 488,\n",
       " 'güzel': 489,\n",
       " 'tl': 490,\n",
       " 'yeri': 491,\n",
       " 'şimdi': 492,\n",
       " 'kere': 493,\n",
       " 'fay': 494,\n",
       " 'kefen': 495,\n",
       " 'bitmiş': 496,\n",
       " '18': 497,\n",
       " 'şükrü': 498,\n",
       " 'beyaz': 499,\n",
       " 'enkazda': 500,\n",
       " '538': 501,\n",
       " '81': 502,\n",
       " 'edi̇n': 503,\n",
       " 'mh': 504,\n",
       " 'yayar': 505,\n",
       " 'k': 506,\n",
       " 'beyoğlu': 507,\n",
       " 'adana': 508,\n",
       " 'adreste': 509,\n",
       " 'antep': 510,\n",
       " '70': 511,\n",
       " '100': 512,\n",
       " 'mağdur': 513,\n",
       " 'mansur': 514,\n",
       " 'memilli': 515,\n",
       " 'lazımmış': 516,\n",
       " 'yaşında': 517,\n",
       " 'tek': 518,\n",
       " '0531': 519,\n",
       " 'muhtarı': 520,\n",
       " 'afşin': 521,\n",
       " 'yayalim': 522,\n",
       " 'olursa': 523,\n",
       " 'numaraya': 524,\n",
       " '03': 525,\n",
       " '535': 526,\n",
       " 'parkı': 527,\n",
       " 'oğlu': 528,\n",
       " 'cd': 529,\n",
       " 'yardımına': 530,\n",
       " 'gereki̇yor': 531,\n",
       " '531': 532,\n",
       " 'üzerinden': 533,\n",
       " 'rt': 534,\n",
       " 'yanı': 535,\n",
       " 'depremden': 536,\n",
       " 'merve': 537,\n",
       " 'imkanlarıyla': 538,\n",
       " 'olalım': 539,\n",
       " 'tır': 540,\n",
       " '66': 541,\n",
       " '88': 542,\n",
       " 'abi': 543,\n",
       " 'bilgidir': 544,\n",
       " '0507': 545,\n",
       " 'ailesi': 546,\n",
       " '09': 547,\n",
       " 'adı': 548,\n",
       " 'ihtiyaçlar': 549,\n",
       " 'olun': 550,\n",
       " 'bez': 551,\n",
       " 'bi̇r': 552,\n",
       " '0537': 553,\n",
       " '02': 554,\n",
       " 'i̇lk': 555,\n",
       " '0532': 556,\n",
       " '55': 557,\n",
       " 'cebrail': 558,\n",
       " 'sorunu': 559,\n",
       " 'şahinbey': 560,\n",
       " 'kıyafeti': 561,\n",
       " 'beden': 562,\n",
       " '500': 563,\n",
       " 'hastanesi': 564,\n",
       " 'olmadığı': 565,\n",
       " '0546': 566,\n",
       " 'arabada': 567,\n",
       " 'köyleri': 568,\n",
       " 'istiyorlar': 569,\n",
       " 'öfkeli': 570,\n",
       " 'yardıma': 571,\n",
       " '530': 572,\n",
       " 'tarafından': 573,\n",
       " 'teslim': 574,\n",
       " 'bulundukları': 575,\n",
       " '28': 576,\n",
       " '06': 577,\n",
       " 'engelli': 578,\n",
       " 'kirikhan': 579,\n",
       " '65': 580,\n",
       " 'oguzhanugur': 581,\n",
       " 'içinde': 582,\n",
       " 'açık': 583,\n",
       " 'savaş': 584,\n",
       " 'burada': 585,\n",
       " 'nedeniyle': 586,\n",
       " 'kışlık': 587,\n",
       " 'sayısı': 588,\n",
       " '77': 589,\n",
       " 'vatan': 590,\n",
       " 'perişan': 591,\n",
       " 'tuvalet': 592,\n",
       " '63': 593,\n",
       " 'konusunda': 594,\n",
       " 'besni': 595,\n",
       " 'toplanma': 596,\n",
       " '79': 597,\n",
       " 'konum': 598,\n",
       " 'peçete': 599,\n",
       " 'kesici': 600,\n",
       " 'ayıp': 601,\n",
       " 'yerinde': 602,\n",
       " 'alt': 603,\n",
       " 'mülk': 604,\n",
       " 'berivan': 605,\n",
       " 'şehir': 606,\n",
       " 'boş': 607,\n",
       " 'mert': 608,\n",
       " 'şarj': 609,\n",
       " '85': 610,\n",
       " 'boy': 611,\n",
       " 'arama': 612,\n",
       " 'staj': 613,\n",
       " 'oyumstaja': 614,\n",
       " 'şiddetinde': 615,\n",
       " 'vatandaşlarımıza': 616,\n",
       " 'yapan': 617,\n",
       " 'açıklarında': 618,\n",
       " 'korusun': 619,\n",
       " '4’lük': 620,\n",
       " 'zahmet': 621,\n",
       " 'kentten': 622,\n",
       " 'dolar': 623,\n",
       " 'zaten': 624,\n",
       " 'artçı': 625,\n",
       " 'depremi': 626,\n",
       " 'anında': 627,\n",
       " 'mu': 628,\n",
       " 'büyüklüğünde': 629,\n",
       " 'aldığı': 630,\n",
       " 'yüzde': 631,\n",
       " 'çözüm': 632,\n",
       " 'kiralar': 633,\n",
       " 'ramazan': 634,\n",
       " 'toplum': 635,\n",
       " 'biraz': 636,\n",
       " 'genel': 637,\n",
       " 'yaşıyoruz': 638,\n",
       " 'sahip': 639,\n",
       " 'yalan': 640,\n",
       " 'sizi': 641,\n",
       " '2022': 642,\n",
       " 'olacak': 643,\n",
       " 'etmez': 644,\n",
       " 'nasip': 645,\n",
       " 'doğalgaz': 646,\n",
       " 'bize': 647,\n",
       " 'binalar': 648,\n",
       " 'bakan': 649,\n",
       " 'onu': 650,\n",
       " 'radyo': 651,\n",
       " 'çakı': 652,\n",
       " 'fiyatı': 653,\n",
       " 'olduğunda': 654,\n",
       " 'aksaray': 655,\n",
       " 'bütçesi': 656,\n",
       " 'eden': 657,\n",
       " 'felaket': 658,\n",
       " 'hak': 659,\n",
       " 'veriyor': 660,\n",
       " 'iki': 661,\n",
       " 'ekskavatör': 662,\n",
       " 'bebeği': 663,\n",
       " 'ateş': 664,\n",
       " '33': 665,\n",
       " 'daire': 666,\n",
       " 'yavuz': 667,\n",
       " 'dışarıda': 668,\n",
       " 'üzeri': 669,\n",
       " 'ailesine': 670,\n",
       " '45': 671,\n",
       " 'sümerler': 672,\n",
       " 'güçlü': 673,\n",
       " 'enes': 674,\n",
       " '584': 675,\n",
       " 'eki̇p': 676,\n",
       " 'altın': 677,\n",
       " 'yasinda': 678,\n",
       " 'civarı': 679,\n",
       " 'bölge': 680,\n",
       " 'burası': 681,\n",
       " 'oraya': 682,\n",
       " 'odabaşı': 683,\n",
       " 'ana': 684,\n",
       " 'köylerde': 685,\n",
       " 'yaşam': 686,\n",
       " 'farklı': 687,\n",
       " 'rende': 688,\n",
       " 'lambası': 689,\n",
       " 'aç': 690,\n",
       " '01': 691,\n",
       " 'üniversitesi': 692,\n",
       " 'taziye': 693,\n",
       " 'evi': 694,\n",
       " 'haydar': 695,\n",
       " 'istiklal': 696,\n",
       " 'başı': 697,\n",
       " '2000': 698,\n",
       " '372': 699,\n",
       " 'mahmut': 700,\n",
       " 'kimse': 701,\n",
       " 'hepsi': 702,\n",
       " 's': 703,\n",
       " 'i̇slahiye': 704,\n",
       " 'yaşayan': 705,\n",
       " 'recep': 706,\n",
       " 'erdoğan': 707,\n",
       " 'tarafında': 708,\n",
       " '22': 709,\n",
       " 'ulaşmıyor': 710,\n",
       " '498': 711,\n",
       " 'isteyen': 712,\n",
       " '🚨🚨🚨': 713,\n",
       " 'itibariyle': 714,\n",
       " 'emre': 715,\n",
       " 'bulunduğu': 716,\n",
       " 'ısı': 717,\n",
       " 'taşoluk': 718,\n",
       " 'çıkmaz': 719,\n",
       " 'fatma': 720,\n",
       " 'mimar': 721,\n",
       " 'kızılay': 722,\n",
       " 'üç': 723,\n",
       " 'dede': 724,\n",
       " 'köydeki': 725,\n",
       " 'oni̇ki̇şubat': 726,\n",
       " 'dedi': 727,\n",
       " 'ekipmanları': 728,\n",
       " 'nolur': 729,\n",
       " 'elektrikli': 730,\n",
       " 'düzen': 731,\n",
       " 'kalabalık': 732,\n",
       " '29': 733,\n",
       " 'hızlıca': 734,\n",
       " 'mısınız': 735,\n",
       " '🚨': 736,\n",
       " 'hasarlı': 737,\n",
       " 'i̇htiyaçlar': 738,\n",
       " '00': 739,\n",
       " 'edip': 740,\n",
       " '2023': 741,\n",
       " 'yağmalanmış': 742,\n",
       " 'yayın': 743,\n",
       " 'avci': 744,\n",
       " '0533': 745,\n",
       " '74': 746,\n",
       " 'uçar': 747,\n",
       " 'ümit': 748,\n",
       " 'ciddi': 749,\n",
       " 'çevre': 750,\n",
       " 'yıkılmış': 751,\n",
       " 'derme': 752,\n",
       " 'çatma': 753,\n",
       " 'yaşamaya': 754,\n",
       " '537': 755,\n",
       " 'erkan': 756,\n",
       " 'depremsondakika': 757,\n",
       " 'toplam': 758,\n",
       " 'bere': 759,\n",
       " '60': 760,\n",
       " 'ısınmak': 761,\n",
       " 'sıkıntısı': 762,\n",
       " '337': 763,\n",
       " '56': 764,\n",
       " 'isınma': 765,\n",
       " 'terk': 766,\n",
       " 'isteyenler': 767,\n",
       " 'duyan': 768,\n",
       " 'yeterli': 769,\n",
       " 'ismail': 770,\n",
       " 'aracı': 771,\n",
       " '59': 772,\n",
       " 'aileler': 773,\n",
       " 'koordinasyon': 774,\n",
       " 'asker': 775,\n",
       " 'emin': 776,\n",
       " '52': 777,\n",
       " 'halkı': 778,\n",
       " 'şehit': 779,\n",
       " 'güneysöğüt': 780,\n",
       " 'aci̇llll': 781,\n",
       " 'i̇nce': 782,\n",
       " 'kendileri': 783,\n",
       " 'profdemirtas': 784,\n",
       " 'sağlam': 785,\n",
       " 'hayat': 786,\n",
       " 'sabaha': 787,\n",
       " 'pedi': 788,\n",
       " 'güzelburç': 789,\n",
       " 'sokakta': 790,\n",
       " 'merkezden': 791,\n",
       " 'dağ': 792,\n",
       " 'kısıtlı': 793,\n",
       " 'kalmış': 794,\n",
       " 'bakliyat': 795,\n",
       " 'kıyafetler': 796,\n",
       " 'sanayi': 797,\n",
       " 'şehitkamil': 798,\n",
       " 'mustafa': 799,\n",
       " 'bölgesine': 800,\n",
       " 'temizlik': 801,\n",
       " 'bekliyor': 802,\n",
       " 'selçuklu': 803,\n",
       " 'yerin': 804,\n",
       " 'sirasogut': 805,\n",
       " 'özdemir': 806,\n",
       " '468': 807,\n",
       " '62': 808,\n",
       " 'dostlar': 809,\n",
       " 'gerçekten': 810,\n",
       " 'yapıp': 811,\n",
       " 'çölyak': 812,\n",
       " '05': 813,\n",
       " 'elmalar': 814,\n",
       " 'gökdaşlar': 815,\n",
       " 'üşüyorlar': 816,\n",
       " 'mum': 817,\n",
       " 'malzemeler': 818,\n",
       " 'geceleri': 819,\n",
       " 'benimle': 820,\n",
       " 'kalmışlar': 821,\n",
       " 'ayrıca': 822,\n",
       " 'iyi': 823,\n",
       " 'i̇nsanlar': 824,\n",
       " 'arkadaşim': 825,\n",
       " 'bi̇zzat': 826,\n",
       " 'gözene': 827,\n",
       " '564': 828,\n",
       " 'levent': 829,\n",
       " 'günay': 830,\n",
       " 'karaçay': 831,\n",
       " '‼️diyarbakır': 832,\n",
       " 'malzemelere': 833,\n",
       " 'gençler': 834,\n",
       " '📌i̇letişim': 835,\n",
       " '938': 836,\n",
       " '4372': 837,\n",
       " 'unsu': 838,\n",
       " 'ağrı': 839,\n",
       " 'rahatça': 840,\n",
       " 'maalesef': 841,\n",
       " 'i̇ç': 842,\n",
       " 'suları': 843,\n",
       " 'erkek': 844,\n",
       " 'inşallah': 845,\n",
       " 'insanları': 846,\n",
       " 'arsuz': 847,\n",
       " 'çadırlara': 848,\n",
       " 'aci̇ll': 849,\n",
       " 'i̇ş': 850,\n",
       " 'halk': 851,\n",
       " 'emekli': 852,\n",
       " 'bölgesi': 853,\n",
       " 'yıldız': 854,\n",
       " 'binası': 855,\n",
       " 'kesmetepe': 856,\n",
       " 'kadının': 857,\n",
       " 'çıkarılması': 858,\n",
       " '560': 859,\n",
       " '82': 860,\n",
       " '91': 861,\n",
       " 'fadi̇me': 862,\n",
       " 'börgenek': 863,\n",
       " '534': 864,\n",
       " '289': 865,\n",
       " 'bayazitli': 866,\n",
       " 'guzlek': 867,\n",
       " 'kaliyorlarmis': 868,\n",
       " 'yardimina': 869,\n",
       " 'oluyormus': 870,\n",
       " '546': 871,\n",
       " '811': 872,\n",
       " 'pekmezci': 873,\n",
       " 'aşağidaki̇': 874,\n",
       " 'onlar': 875,\n",
       " 'anlamı': 876,\n",
       " 'nedir': 877,\n",
       " 'oyumuz': 878,\n",
       " 'veya': 879,\n",
       " 'kim': 880,\n",
       " 'temenni': 881,\n",
       " 'düzce’de': 882,\n",
       " 'kurtarma': 883,\n",
       " 'rabbim': 884,\n",
       " 'medyanın': 885,\n",
       " 'kaç': 886,\n",
       " 'merkezi': 887,\n",
       " 'normal': 888,\n",
       " 'sürekli': 889,\n",
       " 'demek': 890,\n",
       " 'olabilir': 891,\n",
       " 'uğruna': 892,\n",
       " 'kredi': 893,\n",
       " 'faizlerini': 894,\n",
       " 'otomobil': 895,\n",
       " 'vergisini': 896,\n",
       " 'ürünlerinden': 897,\n",
       " 'vergiyi': 898,\n",
       " \"1'e\": 899,\n",
       " 'kiraları': 900,\n",
       " 'sonrasında': 901,\n",
       " '✔️': 902,\n",
       " 'olmadı': 903,\n",
       " 'ayı': 904,\n",
       " 'salgın': 905,\n",
       " 'hastalık': 906,\n",
       " 'müslüman': 907,\n",
       " 'dayanıklı': 908,\n",
       " 'alan': 909,\n",
       " 'kendine': 910,\n",
       " 'hafta': 911,\n",
       " \"'de\": 912,\n",
       " 'canım': 913,\n",
       " 'tarım': 914,\n",
       " \"türkiye'nin\": 915,\n",
       " 'ölümlerin': 916,\n",
       " 'litre': 917,\n",
       " 'etsin': 918,\n",
       " 'bolca': 919,\n",
       " 'kalem': 920,\n",
       " 'hayvanlar': 921,\n",
       " 'olmali': 922,\n",
       " 'zaman': 923,\n",
       " 'hem': 924,\n",
       " 'kutu': 925,\n",
       " \"i̇zmir'de\": 926,\n",
       " 'durum': 927,\n",
       " 'türk': 928,\n",
       " 'milletinin': 929,\n",
       " 'kolisi': 930,\n",
       " 'günü': 931,\n",
       " 'burak': 932,\n",
       " 'sayın': 933,\n",
       " 'umarım': 934,\n",
       " 'kayağa': 935,\n",
       " 'gider': 936,\n",
       " 'yapmaya': 937,\n",
       " 'tatile': 938,\n",
       " 'fav': 939,\n",
       " \"bodrum'a\": 940,\n",
       " 'yoksa': 941,\n",
       " 'bağırıyor': 942,\n",
       " 'sosyal': 943,\n",
       " 'senden': 944,\n",
       " 'hattı': 945,\n",
       " 'yerel': 946,\n",
       " 'adam': 947,\n",
       " 'sen': 948,\n",
       " 'sesleniyor': 949,\n",
       " 'haber': 950,\n",
       " 'uyuyun': 951,\n",
       " 'yarın': 952,\n",
       " 'bırak': 953,\n",
       " 'şekeroba': 954,\n",
       " 'çağrı': 955,\n",
       " '87': 956,\n",
       " 'kahramanmaraş’ta': 957,\n",
       " 'getirecek': 958,\n",
       " 'yere': 959,\n",
       " 'henüz': 960,\n",
       " 'olmayan': 961,\n",
       " 'kalaycik': 962,\n",
       " 'elif': 963,\n",
       " 'kira': 964,\n",
       " 'ulaşım': 965,\n",
       " 'mezarlık': 966,\n",
       " 'beraber': 967,\n",
       " 'yetersi̇zmi̇ş': 968,\n",
       " 'koyunoğlu': 969,\n",
       " 'çamlık': 970,\n",
       " 'insana': 971,\n",
       " 'nazlican': 972,\n",
       " 'aksoy': 973,\n",
       " '478': 974,\n",
       " 'asel': 975,\n",
       " 'bulvari': 976,\n",
       " 'yeşi̇l': 977,\n",
       " 'kalan': 978,\n",
       " 'enkazın': 979,\n",
       " 'başında': 980,\n",
       " 'bekleyenler': 981,\n",
       " '05379290473': 982,\n",
       " 'hazar': 983,\n",
       " 'aylik': 984,\n",
       " 'i̇nönü': 985,\n",
       " 'misiniz': 986,\n",
       " 'onikisubat': 987,\n",
       " 'hayrullah': 988,\n",
       " 'gitmiyormuş': 989,\n",
       " 'birçok': 990,\n",
       " 'bölgesi̇ne': 991,\n",
       " 'tir': 992,\n",
       " 'nurdağina': 993,\n",
       " 'gazi̇antep': 994,\n",
       " '572': 995,\n",
       " 'ai̇lesi̇': 996,\n",
       " 'sonucu': 997,\n",
       " 'i̇çi̇n': 998,\n",
       " 'uğur': 999,\n",
       " 'ekipler': 1000,\n",
       " ...}"
      ]
     },
     "execution_count": 25,
     "metadata": {},
     "output_type": "execute_result"
    }
   ],
   "source": [
    "tokenizer.word_index"
   ]
  },
  {
   "cell_type": "code",
   "execution_count": 26,
   "metadata": {
    "id": "gNjz7KLAP2mf"
   },
   "outputs": [],
   "source": [
    "x_train_tokens = tokenizer.texts_to_sequences(x_train)"
   ]
  },
  {
   "cell_type": "code",
   "execution_count": 27,
   "metadata": {
    "colab": {
     "base_uri": "https://localhost:8080/",
     "height": 35
    },
    "id": "gakB64vHP2mf",
    "outputId": "1d8c2c74-13cd-417f-a006-879a734996eb"
   },
   "outputs": [
    {
     "data": {
      "text/plain": [
       "'K.maraş Türkoğlu Beyoğlu mahallesi yeni Adana yolu lise civarı no55 erzak çadır yardımı acil +905510103613'"
      ]
     },
     "execution_count": 27,
     "metadata": {},
     "output_type": "execute_result"
    }
   ],
   "source": [
    "x_train[10]"
   ]
  },
  {
   "cell_type": "code",
   "execution_count": 28,
   "metadata": {
    "colab": {
     "base_uri": "https://localhost:8080/"
    },
    "id": "iXig4ZL9P2mg",
    "outputId": "77c47931-5524-4bef-d583-39b49d72c75a"
   },
   "outputs": [
    {
     "name": "stdout",
     "output_type": "stream",
     "text": [
      "[70, 95, 9, 150, 390, 53, 7, 48, 10]\n"
     ]
    }
   ],
   "source": [
    "print(x_train_tokens[10])"
   ]
  },
  {
   "cell_type": "code",
   "execution_count": 29,
   "metadata": {
    "id": "QXcnMZe9QNwm"
   },
   "outputs": [],
   "source": [
    "x_test = np.array(x_test)"
   ]
  },
  {
   "cell_type": "code",
   "execution_count": 30,
   "metadata": {
    "id": "PbjNhIIXP2mg"
   },
   "outputs": [],
   "source": [
    "x_test_tokens = tokenizer.texts_to_sequences(x_test)"
   ]
  },
  {
   "cell_type": "code",
   "execution_count": 31,
   "metadata": {
    "id": "HpDKxYTIP2mg"
   },
   "outputs": [],
   "source": [
    "num_tokens = [len(tokens) for tokens in x_train_tokens + x_test_tokens]\n",
    "num_tokens = np.array(num_tokens)"
   ]
  },
  {
   "cell_type": "code",
   "execution_count": 32,
   "metadata": {
    "colab": {
     "base_uri": "https://localhost:8080/"
    },
    "id": "XWVmbOd3P2mh",
    "outputId": "327301d6-4dcf-4f24-caf4-14ede4ee873a"
   },
   "outputs": [
    {
     "data": {
      "text/plain": [
       "15.2625250501002"
      ]
     },
     "execution_count": 32,
     "metadata": {},
     "output_type": "execute_result"
    }
   ],
   "source": [
    "np.mean(num_tokens)"
   ]
  },
  {
   "cell_type": "code",
   "execution_count": 33,
   "metadata": {
    "colab": {
     "base_uri": "https://localhost:8080/"
    },
    "id": "D1vkdKbvP2mh",
    "outputId": "7db50f6e-e2be-4aa2-e2d5-1cb364c20626"
   },
   "outputs": [
    {
     "data": {
      "text/plain": [
       "43"
      ]
     },
     "execution_count": 33,
     "metadata": {},
     "output_type": "execute_result"
    }
   ],
   "source": [
    "np.max(num_tokens)"
   ]
  },
  {
   "cell_type": "code",
   "execution_count": 34,
   "metadata": {
    "colab": {
     "base_uri": "https://localhost:8080/"
    },
    "id": "0B0FrrRbP2mi",
    "outputId": "5694225e-f75c-4aa1-fbb1-3a0430f8bac8"
   },
   "outputs": [
    {
     "data": {
      "text/plain": [
       "169"
      ]
     },
     "execution_count": 34,
     "metadata": {},
     "output_type": "execute_result"
    }
   ],
   "source": [
    "np.argmax(num_tokens)"
   ]
  },
  {
   "cell_type": "code",
   "execution_count": 35,
   "metadata": {
    "colab": {
     "base_uri": "https://localhost:8080/",
     "height": 53
    },
    "id": "k01lGi7BP2mi",
    "outputId": "9e0ca63d-6398-418d-d854-92e693c94dff"
   },
   "outputs": [
    {
     "data": {
      "text/plain": [
       "'CADIR ERZAK TEMEL GIDA ACIL Beyoğlu mahallesi istiklal caddesi Selvi sokak no :9 sağlık ocagı dönüşü köşe başı KAHRAMANMARAŞ Remzi Ercan 05330555658  Çocuk var yanlarında 10 aylık ve 4 yaşında şuanda 15 kişiler tek bir çadıra sığarız biz diyorlar  ACİL‼️‼️‼️‼️‼️‼️'"
      ]
     },
     "execution_count": 35,
     "metadata": {},
     "output_type": "execute_result"
    }
   ],
   "source": [
    "x_train[21]"
   ]
  },
  {
   "cell_type": "code",
   "execution_count": 36,
   "metadata": {
    "colab": {
     "base_uri": "https://localhost:8080/"
    },
    "id": "7nCoZo3wP2mi",
    "outputId": "c19e8886-4052-4131-ac3b-ccfb9792be95"
   },
   "outputs": [
    {
     "data": {
      "text/plain": [
       "29"
      ]
     },
     "execution_count": 36,
     "metadata": {},
     "output_type": "execute_result"
    }
   ],
   "source": [
    "max_tokens = np.mean(num_tokens) + 2 * np.std(num_tokens)\n",
    "max_tokens = int(max_tokens)\n",
    "max_tokens"
   ]
  },
  {
   "cell_type": "code",
   "execution_count": 37,
   "metadata": {
    "colab": {
     "base_uri": "https://localhost:8080/"
    },
    "id": "3p_lCHNRP2mj",
    "outputId": "f2e41eeb-a08f-4d66-dba3-1452465d71f5"
   },
   "outputs": [
    {
     "data": {
      "text/plain": [
       "0.9519038076152304"
      ]
     },
     "execution_count": 37,
     "metadata": {},
     "output_type": "execute_result"
    }
   ],
   "source": [
    "np.sum(num_tokens < max_tokens) / len(num_tokens)"
   ]
  },
  {
   "cell_type": "code",
   "execution_count": 38,
   "metadata": {
    "id": "E_R3OvAxP2mj"
   },
   "outputs": [],
   "source": [
    "x_train_pad = pad_sequences(x_train_tokens, maxlen=max_tokens)"
   ]
  },
  {
   "cell_type": "code",
   "execution_count": 39,
   "metadata": {
    "id": "9TXOYpt3P2mj"
   },
   "outputs": [],
   "source": [
    "x_test_pad = pad_sequences(x_test_tokens, maxlen=max_tokens)"
   ]
  },
  {
   "cell_type": "code",
   "execution_count": 40,
   "metadata": {
    "colab": {
     "base_uri": "https://localhost:8080/"
    },
    "id": "XAedy5ZbP2mk",
    "outputId": "d23c7513-f9d2-437c-fc10-e99c3c8e1eab"
   },
   "outputs": [
    {
     "data": {
      "text/plain": [
       "(399, 29)"
      ]
     },
     "execution_count": 40,
     "metadata": {},
     "output_type": "execute_result"
    }
   ],
   "source": [
    "x_train_pad.shape"
   ]
  },
  {
   "cell_type": "code",
   "execution_count": 41,
   "metadata": {
    "colab": {
     "base_uri": "https://localhost:8080/"
    },
    "id": "azWVx9nNP2mk",
    "outputId": "076e7ba1-ecc5-4f4a-ba69-4470ef4ce0cb"
   },
   "outputs": [
    {
     "data": {
      "text/plain": [
       "(100, 29)"
      ]
     },
     "execution_count": 41,
     "metadata": {},
     "output_type": "execute_result"
    }
   ],
   "source": [
    "x_test_pad.shape"
   ]
  },
  {
   "cell_type": "code",
   "execution_count": 42,
   "metadata": {
    "colab": {
     "base_uri": "https://localhost:8080/"
    },
    "id": "1XSQ49avP2mk",
    "outputId": "0c07a5ce-90dc-42f7-b38a-c5226930d262"
   },
   "outputs": [
    {
     "data": {
      "text/plain": [
       "array([ 70,  95,   9, 150, 390,  53,   7,  48,  10])"
      ]
     },
     "execution_count": 42,
     "metadata": {},
     "output_type": "execute_result"
    }
   ],
   "source": [
    "np.array(x_train_tokens[10])"
   ]
  },
  {
   "cell_type": "code",
   "execution_count": 43,
   "metadata": {
    "colab": {
     "base_uri": "https://localhost:8080/"
    },
    "id": "KUdJB9qZP2mk",
    "outputId": "e98cbf11-f464-498f-bac3-e29930aff622"
   },
   "outputs": [
    {
     "data": {
      "text/plain": [
       "array([  0,   0,   0,   0,   0,   0,   0,   0,   0,   0,   0,   0,   0,\n",
       "         0,   0,   0,   0,   0,   0,   0,  70,  95,   9, 150, 390,  53,\n",
       "         7,  48,  10], dtype=int32)"
      ]
     },
     "execution_count": 43,
     "metadata": {},
     "output_type": "execute_result"
    }
   ],
   "source": [
    "x_train_pad[10]"
   ]
  },
  {
   "cell_type": "code",
   "execution_count": 44,
   "metadata": {
    "id": "yHq_qBjDP2ml"
   },
   "outputs": [],
   "source": [
    "idx = tokenizer.word_index\n",
    "inverse_map = dict(zip(idx.values(), idx.keys()))"
   ]
  },
  {
   "cell_type": "code",
   "execution_count": 45,
   "metadata": {
    "id": "u6mIj5JYP2ml"
   },
   "outputs": [],
   "source": [
    "def tokens_to_string(tokens):\n",
    "    words = [inverse_map[token] for token in tokens if token!=0]\n",
    "    text = ' '.join(words)\n",
    "    return text"
   ]
  },
  {
   "cell_type": "code",
   "execution_count": 46,
   "metadata": {
    "colab": {
     "base_uri": "https://localhost:8080/",
     "height": 35
    },
    "id": "9icyfljMP2ml",
    "outputId": "fdef3d4d-bc06-4c9e-8832-68a594f95f2c"
   },
   "outputs": [
    {
     "data": {
      "text/plain": [
       "'K.maraş Türkoğlu Beyoğlu mahallesi yeni Adana yolu lise civarı no55 erzak çadır yardımı acil +905510103613'"
      ]
     },
     "execution_count": 46,
     "metadata": {},
     "output_type": "execute_result"
    }
   ],
   "source": [
    "x_train[10]"
   ]
  },
  {
   "cell_type": "code",
   "execution_count": 47,
   "metadata": {
    "colab": {
     "base_uri": "https://localhost:8080/",
     "height": 35
    },
    "id": "6CX2qdxCP2ml",
    "outputId": "cc306b8a-309a-4d01-9a94-3d6f529a9456"
   },
   "outputs": [
    {
     "data": {
      "text/plain": [
       "'maraş türkoğlu mahallesi yeni yolu erzak çadır yardımı acil'"
      ]
     },
     "execution_count": 47,
     "metadata": {},
     "output_type": "execute_result"
    }
   ],
   "source": [
    "tokens_to_string(x_train_tokens[10])"
   ]
  },
  {
   "cell_type": "code",
   "execution_count": 48,
   "metadata": {
    "colab": {
     "base_uri": "https://localhost:8080/"
    },
    "id": "ajHIIHC9EIqX",
    "outputId": "b2b6a4ea-c02e-4f87-edb7-90e48ec742e0"
   },
   "outputs": [
    {
     "data": {
      "text/plain": [
       "array([  0,   0,   0,   0,   0,   0,   0,   0,   0,   0,   0,   0,   0,\n",
       "        20,  95, 126,  19,  26,  13,  29,   7, 387,  45,  12,  36, 495,\n",
       "        34,   3, 107], dtype=int32)"
      ]
     },
     "execution_count": 48,
     "metadata": {},
     "output_type": "execute_result"
    }
   ],
   "source": [
    "x_train_pad[0]"
   ]
  },
  {
   "cell_type": "code",
   "execution_count": 49,
   "metadata": {
    "id": "FJjkI2GmP2mm"
   },
   "outputs": [],
   "source": [
    "model = Sequential()"
   ]
  },
  {
   "cell_type": "code",
   "execution_count": 50,
   "metadata": {
    "id": "yv-oCLLhP2mm"
   },
   "outputs": [],
   "source": [
    "embedding_size = 100"
   ]
  },
  {
   "cell_type": "code",
   "execution_count": 51,
   "metadata": {
    "id": "98wLXjnkP2mm"
   },
   "outputs": [],
   "source": [
    "model.add(Embedding(input_dim=num_words,\n",
    "                    output_dim=embedding_size,\n",
    "                    input_length=max_tokens,\n",
    "                    name='embedding_layer'))"
   ]
  },
  {
   "cell_type": "code",
   "execution_count": 52,
   "metadata": {
    "id": "HC0_2Im7P2mm"
   },
   "outputs": [],
   "source": [
    "model.add(GRU(units=16, return_sequences=True))\n",
    "model.add(GRU(units=8, return_sequences=True))\n",
    "model.add(GRU(units=4))\n",
    "model.add(Dense(1, activation='sigmoid'))"
   ]
  },
  {
   "cell_type": "code",
   "execution_count": 53,
   "metadata": {
    "id": "4xbJula1P2mn"
   },
   "outputs": [],
   "source": [
    "optimizer = Adam(learning_rate=1e-3)"
   ]
  },
  {
   "cell_type": "code",
   "execution_count": 54,
   "metadata": {
    "id": "UwaXLG1iv2YJ"
   },
   "outputs": [],
   "source": [
    "from keras.losses import binary_crossentropy\n",
    "lss = binary_crossentropy"
   ]
  },
  {
   "cell_type": "code",
   "execution_count": 55,
   "metadata": {
    "id": "BzUeBVUXP2mn"
   },
   "outputs": [],
   "source": [
    "model.compile(optimizer= 'adam' , loss= lss, metrics=['accuracy'])"
   ]
  },
  {
   "cell_type": "code",
   "execution_count": 56,
   "metadata": {
    "colab": {
     "base_uri": "https://localhost:8080/"
    },
    "id": "kF3gIOqyP2mn",
    "outputId": "678bdad7-055f-4b5e-e11a-78cb703e188a"
   },
   "outputs": [
    {
     "name": "stdout",
     "output_type": "stream",
     "text": [
      "Model: \"sequential\"\n",
      "_________________________________________________________________\n",
      "Layer (type)                 Output Shape              Param #   \n",
      "=================================================================\n",
      "embedding_layer (Embedding)  (None, 29, 100)           50000     \n",
      "_________________________________________________________________\n",
      "gru (GRU)                    (None, 29, 16)            5616      \n",
      "_________________________________________________________________\n",
      "gru_1 (GRU)                  (None, 29, 8)             600       \n",
      "_________________________________________________________________\n",
      "gru_2 (GRU)                  (None, 4)                 156       \n",
      "_________________________________________________________________\n",
      "dense (Dense)                (None, 1)                 5         \n",
      "=================================================================\n",
      "Total params: 56,377\n",
      "Trainable params: 56,377\n",
      "Non-trainable params: 0\n",
      "_________________________________________________________________\n"
     ]
    }
   ],
   "source": [
    "model.summary()"
   ]
  },
  {
   "cell_type": "code",
   "execution_count": 57,
   "metadata": {
    "id": "uulSgz2kxqO8"
   },
   "outputs": [],
   "source": [
    "y_train = np.array(y_train)\n",
    "x_train = np.array(x_train)"
   ]
  },
  {
   "cell_type": "code",
   "execution_count": 58,
   "metadata": {
    "colab": {
     "base_uri": "https://localhost:8080/"
    },
    "id": "eCQLSB7NCfRY",
    "outputId": "0c04a3d5-1a9e-4d5a-944f-5f7b52ddd1e7"
   },
   "outputs": [
    {
     "data": {
      "text/plain": [
       "numpy.ndarray"
      ]
     },
     "execution_count": 58,
     "metadata": {},
     "output_type": "execute_result"
    }
   ],
   "source": [
    "type(x_train)"
   ]
  },
  {
   "cell_type": "code",
   "execution_count": 59,
   "metadata": {
    "colab": {
     "base_uri": "https://localhost:8080/",
     "height": 35
    },
    "id": "T7fs3CeZCphy",
    "outputId": "1ed578d6-9b85-4e7c-de4e-d10f810ba911"
   },
   "outputs": [
    {
     "data": {
      "text/plain": [
       "'Kahramanmaraş türkoğlu ilçesi şekeroba köyü çağrı sokak no 4 çadır yatak ısıtıcı ölen insanlae için de kefen ihtiyacı var  iletişim:05435379496'"
      ]
     },
     "execution_count": 59,
     "metadata": {},
     "output_type": "execute_result"
    }
   ],
   "source": [
    "x_train[0]"
   ]
  },
  {
   "cell_type": "code",
   "execution_count": 60,
   "metadata": {
    "colab": {
     "base_uri": "https://localhost:8080/"
    },
    "id": "DszTRqr5P2mn",
    "outputId": "c15b09c2-b8d6-41f8-a6bd-dace2b593889"
   },
   "outputs": [
    {
     "name": "stdout",
     "output_type": "stream",
     "text": [
      "Epoch 1/5\n",
      "13/13 [==============================] - 4s 24ms/step - loss: 0.6682 - accuracy: 0.7193\n",
      "Epoch 2/5\n",
      "13/13 [==============================] - 0s 24ms/step - loss: 0.5778 - accuracy: 0.7544\n",
      "Epoch 3/5\n",
      "13/13 [==============================] - 0s 24ms/step - loss: 0.4373 - accuracy: 0.8371\n",
      "Epoch 4/5\n",
      "13/13 [==============================] - 0s 26ms/step - loss: 0.2802 - accuracy: 0.9449\n",
      "Epoch 5/5\n",
      "13/13 [==============================] - 0s 28ms/step - loss: 0.1681 - accuracy: 0.9825\n"
     ]
    },
    {
     "data": {
      "text/plain": [
       "<tensorflow.python.keras.callbacks.History at 0x7ffb15d67910>"
      ]
     },
     "execution_count": 60,
     "metadata": {},
     "output_type": "execute_result"
    }
   ],
   "source": [
    "model.fit(x_train_pad, y_train, epochs=5, batch_size=32)"
   ]
  },
  {
   "cell_type": "code",
   "execution_count": 61,
   "metadata": {
    "id": "SsJqA-mRyYFl"
   },
   "outputs": [],
   "source": [
    "y_test = np.array(y_test)"
   ]
  },
  {
   "cell_type": "code",
   "execution_count": 62,
   "metadata": {
    "colab": {
     "base_uri": "https://localhost:8080/"
    },
    "id": "Xbfzof_YP2mn",
    "outputId": "45a5de85-eeba-468b-cb0b-dfee54eb3cfd"
   },
   "outputs": [
    {
     "name": "stdout",
     "output_type": "stream",
     "text": [
      "4/4 [==============================] - 0s 6ms/step - loss: 0.2134 - accuracy: 0.9700\n"
     ]
    }
   ],
   "source": [
    "result = model.evaluate(x_test_pad, y_test)"
   ]
  },
  {
   "cell_type": "code",
   "execution_count": 63,
   "metadata": {
    "colab": {
     "base_uri": "https://localhost:8080/"
    },
    "id": "x8KG_iDLP2mo",
    "outputId": "46a466cc-dcb1-40cb-bbc0-89afa1f5cb28"
   },
   "outputs": [
    {
     "data": {
      "text/plain": [
       "0.9700000286102295"
      ]
     },
     "execution_count": 63,
     "metadata": {},
     "output_type": "execute_result"
    }
   ],
   "source": [
    "result[1]"
   ]
  },
  {
   "cell_type": "code",
   "execution_count": 64,
   "metadata": {
    "id": "CVErNcn0P2mo"
   },
   "outputs": [],
   "source": [
    "y_pred = model.predict(x=x_test_pad[0:1000])\n",
    "y_pred = y_pred.T[0]# stünları satırlara çeviriyoruz"
   ]
  },
  {
   "cell_type": "code",
   "execution_count": 65,
   "metadata": {
    "id": "Mjak1R9_P2mo"
   },
   "outputs": [],
   "source": [
    "cls_pred = np.array([1.0 if p>0.5 else 0.0 for p in y_pred])"
   ]
  },
  {
   "cell_type": "code",
   "execution_count": 66,
   "metadata": {
    "id": "yyp3_RPLP2mo"
   },
   "outputs": [],
   "source": [
    "cls_true = np.array(y_test[0:1000])"
   ]
  },
  {
   "cell_type": "code",
   "execution_count": 67,
   "metadata": {
    "id": "jJfksr1SP2mo"
   },
   "outputs": [],
   "source": [
    "incorrect = np.where(cls_pred != cls_true)\n",
    "incorrect = incorrect[0]"
   ]
  },
  {
   "cell_type": "code",
   "execution_count": 68,
   "metadata": {
    "colab": {
     "base_uri": "https://localhost:8080/"
    },
    "id": "hbDEskuvP2mo",
    "outputId": "72165c76-0d64-4cd0-e38b-f540960c1395"
   },
   "outputs": [
    {
     "data": {
      "text/plain": [
       "3"
      ]
     },
     "execution_count": 68,
     "metadata": {},
     "output_type": "execute_result"
    }
   ],
   "source": [
    "len(incorrect)"
   ]
  },
  {
   "cell_type": "code",
   "execution_count": 69,
   "metadata": {
    "colab": {
     "base_uri": "https://localhost:8080/"
    },
    "id": "qZAiniTMP2mp",
    "outputId": "1620dd91-464f-4556-a7f3-0f688a3daead"
   },
   "outputs": [
    {
     "data": {
      "text/plain": [
       "9"
      ]
     },
     "execution_count": 69,
     "metadata": {},
     "output_type": "execute_result"
    }
   ],
   "source": [
    "idx = incorrect[0]\n",
    "idx"
   ]
  },
  {
   "cell_type": "code",
   "execution_count": 70,
   "metadata": {
    "colab": {
     "base_uri": "https://localhost:8080/",
     "height": 53
    },
    "id": "Dyt7iGnmP2mp",
    "outputId": "7e958cf6-745c-458c-8a2c-838e9f7cca00"
   },
   "outputs": [
    {
     "data": {
      "text/plain": [
       "'Malatya fay zonu ile Maraş Türkoğlu ve pazarcık segmenti oluşturabiliceği maksimum Yer sarsıntısı(Deprem) 7.2 ve bunun için acilen o bölge için gerekli tedbirlerin alınması gerek.'"
      ]
     },
     "execution_count": 70,
     "metadata": {},
     "output_type": "execute_result"
    }
   ],
   "source": [
    "text = x_test[idx]\n",
    "text"
   ]
  },
  {
   "cell_type": "code",
   "execution_count": 71,
   "metadata": {
    "colab": {
     "base_uri": "https://localhost:8080/"
    },
    "id": "RDlcgBpJP2mp",
    "outputId": "32b00324-6790-42be-d78c-a40cf26b603f"
   },
   "outputs": [
    {
     "data": {
      "text/plain": [
       "0.55449873"
      ]
     },
     "execution_count": 71,
     "metadata": {},
     "output_type": "execute_result"
    }
   ],
   "source": [
    "y_pred[idx]"
   ]
  },
  {
   "cell_type": "code",
   "execution_count": 72,
   "metadata": {
    "colab": {
     "base_uri": "https://localhost:8080/"
    },
    "id": "aEbLXCViP2mp",
    "outputId": "8eee125f-48b9-4362-e765-c3ddda80dc59"
   },
   "outputs": [
    {
     "data": {
      "text/plain": [
       "0.0"
      ]
     },
     "execution_count": 72,
     "metadata": {},
     "output_type": "execute_result"
    }
   ],
   "source": [
    "cls_true[idx]"
   ]
  },
  {
   "cell_type": "code",
   "execution_count": 73,
   "metadata": {
    "id": "GHlqsU97P2mp"
   },
   "outputs": [],
   "source": [
    "text1 = \"Kahramanmaraş türkoğlu ilçesi şekeroba köyü çağrı sokak no 4 çadır yatak ısıtıcı ölen insanlae için de kefen ihtiyacı var.\"\n",
    "text2 = \"binalar yıkıldı su, çadır ve yemeğe ihtiyaç var yardım edin\"\n",
    "text3 = \"bu gün günlerden pazartesi ve çok yorgunum berikadan nefret ediyorum malın teki\"\n",
    "\n",
    "texts = [text1, text2, text3]\n"
   ]
  },
  {
   "cell_type": "code",
   "execution_count": 74,
   "metadata": {
    "id": "m-ygsSVyP2mp"
   },
   "outputs": [],
   "source": [
    "tokens = tokenizer.texts_to_sequences(texts)"
   ]
  },
  {
   "cell_type": "code",
   "execution_count": 75,
   "metadata": {
    "colab": {
     "base_uri": "https://localhost:8080/"
    },
    "id": "4lwkRqsLP2mq",
    "outputId": "3b33d7da-439e-4454-9753-4a89f464fe4d"
   },
   "outputs": [
    {
     "data": {
      "text/plain": [
       "(3, 29)"
      ]
     },
     "execution_count": 75,
     "metadata": {},
     "output_type": "execute_result"
    }
   ],
   "source": [
    "tokens_pad = pad_sequences(tokens, maxlen=max_tokens)\n",
    "tokens_pad.shape"
   ]
  },
  {
   "cell_type": "code",
   "execution_count": 76,
   "metadata": {
    "id": "DrZzm64aP2mq"
   },
   "outputs": [],
   "source": [
    "arr = model.predict(tokens_pad)"
   ]
  },
  {
   "cell_type": "code",
   "execution_count": 77,
   "metadata": {
    "colab": {
     "base_uri": "https://localhost:8080/"
    },
    "id": "31jIDTtMBCgB",
    "outputId": "478f65c0-898b-4792-ec94-90ca22a0b9e2"
   },
   "outputs": [
    {
     "data": {
      "text/plain": [
       "array([[0.91471684],\n",
       "       [0.794945  ],\n",
       "       [0.16300316]], dtype=float32)"
      ]
     },
     "execution_count": 77,
     "metadata": {},
     "output_type": "execute_result"
    }
   ],
   "source": [
    "arr"
   ]
  },
  {
   "cell_type": "code",
   "execution_count": 1,
   "metadata": {
    "colab": {
     "base_uri": "https://localhost:8080/"
    },
    "id": "VGwIQCuhP2mq",
    "outputId": "4cb7a060-2536-4d4b-e70b-c3bfd20c097e"
   },
   "outputs": [
    {
     "ename": "NameError",
     "evalue": "name 'arr' is not defined",
     "output_type": "error",
     "traceback": [
      "\u001b[0;31m---------------------------------------------------------------------------\u001b[0m",
      "\u001b[0;31mNameError\u001b[0m                                 Traceback (most recent call last)",
      "Cell \u001b[0;32mIn[1], line 1\u001b[0m\n\u001b[0;32m----> 1\u001b[0m \u001b[38;5;28;01mfor\u001b[39;00m a \u001b[38;5;129;01min\u001b[39;00m \u001b[43marr\u001b[49m:\n\u001b[1;32m      2\u001b[0m   \u001b[38;5;28;01mif\u001b[39;00m(a\u001b[38;5;241m>\u001b[39m\u001b[38;5;241m0.70\u001b[39m):\n\u001b[1;32m      3\u001b[0m     \u001b[38;5;28mprint\u001b[39m(\u001b[38;5;124m\"\u001b[39m\u001b[38;5;124myardım çağrısı içeren bir cümle\u001b[39m\u001b[38;5;124m\"\u001b[39m)\n",
      "\u001b[0;31mNameError\u001b[0m: name 'arr' is not defined"
     ]
    }
   ],
   "source": [
    "for a in arr:\n",
    "  if(a>0.70):\n",
    "    print(\"yardım çağrısı içeren bir cümle\")\n",
    "  elif(a<0.70):\n",
    "    print(\"alakasız bir cümle\")"
   ]
  },
  {
   "cell_type": "code",
   "execution_count": 79,
   "metadata": {
    "id": "QTrpZjkddELv"
   },
   "outputs": [],
   "source": [
    "model.save('help.h5')"
   ]
  },
  {
   "cell_type": "code",
   "execution_count": null,
   "metadata": {},
   "outputs": [],
   "source": [
    "from selenium import webdriver\n",
    "from selenium.webdriver.common.keys import Keys\n",
    "from selenium.webdriver.common.by import By"
   ]
  },
  {
   "cell_type": "code",
   "execution_count": null,
   "metadata": {},
   "outputs": [],
   "source": [
    "page=\"https://twitter.com/i/flow/login\"\n",
    "USER = \"username\"\n",
    "PASSWORD = \"password\""
   ]
  },
  {
   "cell_type": "code",
   "execution_count": null,
   "metadata": {},
   "outputs": [],
   "source": [
    "while True:\n",
    "    try:\n",
    "        driver = webdriver.Firefox()\n",
    "        driver.get(page)\n",
    "        time.sleep(15)\n",
    "\n",
    "        driver.find_element(By.XPATH, '/html/body/div/div/div/div[1]/div/div/div/div/div/div/div[2]/div[2]/div/div/div[2]/div[2]/div/div/div/div[5]/label/div/div[2]/div/input').click\n",
    "        username_input = driver.find_element(By.XPATH, '/html/body/div/div/div/div[1]/div/div/div/div/div/div/div[2]/div[2]/div/div/div[2]/div[2]/div/div/div/div[5]/label/div/div[2]/div/input')\n",
    "        username_input.send_keys(USER)                 #\"/html/body/div/div/div/div[1]/div/div/div/div/div/div/div[2]/div[2]/div/div/div[2]/div[2]/div/div/div/div[5]/label/div/div[2]/div/input\"\n",
    "        time.sleep(4)\n",
    "        login_button = driver.find_element(By.XPATH, '/html/body/div[1]/div/div/div[1]/div/div/div/div/div/div/div[2]/div[2]/div/div/div[2]/div[2]/div/div/div/div[6]')\n",
    "        login_button.click()\n",
    "\n",
    "\n",
    "        time.sleep(5)\n",
    "\n",
    "        password_input = driver.find_element(By.XPATH, '/html/body/div/div/div/div[1]/div/div/div/div/div/div/div[2]/div[2]/div/div/div[2]/div[2]/div[1]/div/div/div[3]/div/label/div/div[2]/div[1]/input')\n",
    "        password_input.send_keys(PASSWORD)\n",
    "        time.sleep(4)\n",
    "        # find the element for login and click on it\n",
    "        login_button = driver.find_element(By.XPATH, '/html/body/div/div/div/div[1]/div/div/div/div/div/div/div[2]/div[2]/div/div/div[2]/div[2]/div[2]/div/div[1]/div/div/div')\n",
    "        login_button.click()                         #\"/html/body/div/div/div/div[1]/div/div/div/div/div/div/div[2]/div[2]/div/div/div[2]/div[2]/div/div/div/div[6]/div\"\n",
    "\n",
    "        hastag = \"deprem\"\n",
    "        hastag_url = f\"https://twitter.com/search?q=%23{hastag}&src=typed_query&f=live\"\n",
    "        #print(hastag_url)\n",
    "        time.sleep(5)\n",
    "        driver.get(hastag_url)\n",
    "        time.sleep(5)\n",
    "        run_timer = 0\n",
    "        temp_text = \" \"\n",
    "        tweet = \"\"\n",
    "        while True:\n",
    "            run_timer += 1\n",
    "            for scrool in range(3):\n",
    "                driver.execute_script(\"window.scrollTo(0, document.body.scrollHeight);\")\n",
    "                time.sleep(3)\n",
    "            time.sleep(5)\n",
    "            for i in range(10):\n",
    "                try:\n",
    "                    tweet = driver.find_element(By.XPATH, f'/html/body/div[1]/div/div/div[2]/main/div/div/div/div[1]/div/div[3]/section/div/div/div[{i}]/div/div/article/div/div/div[2]/div[2]/div[2]/div/span[1]').text            # \"/html/body/div[1]/div/div/div[2]/main/div/div/div/div[1]/div/div[3]/section/div/div/div[4]/div/div/article/div/div/div[2]/div[2]/div[2]/div/span[1]\"\n",
    "                    tokens = tokenizer.texts_to_sequences(texts)\n",
    "                    tokens_pad = pad_sequences(tokens, maxlen=max_tokens)\n",
    "                    #tokens_pad.shape\n",
    "                    arr = model.predict(tokens_pad)\n",
    "                    for a in arr:\n",
    "                        if(a>0.70):\n",
    "                            print(\"Help\")\n",
    "                        elif(a<0.70):\n",
    "                            pass\n",
    "                    print(\"- \",tweet)\n",
    "\n",
    "                except:\n",
    "                    pass\n",
    "            if temp_text == tweet:\n",
    "                break\n",
    "            temp_text = tweet\n",
    "\n",
    "    except KeyboardInterrupt:\n",
    "        break\n",
    "        sys.exit(0)\n",
    "    except:\n",
    "        pass\n"
   ]
  },
  {
   "cell_type": "code",
   "execution_count": null,
   "metadata": {},
   "outputs": [],
   "source": []
  }
 ],
 "metadata": {
  "accelerator": "GPU",
  "colab": {
   "gpuType": "V100",
   "machine_shape": "hm",
   "provenance": []
  },
  "kernelspec": {
   "display_name": "Python 3 (ipykernel)",
   "language": "python",
   "name": "python3"
  },
  "language_info": {
   "codemirror_mode": {
    "name": "ipython",
    "version": 3
   },
   "file_extension": ".py",
   "mimetype": "text/x-python",
   "name": "python",
   "nbconvert_exporter": "python",
   "pygments_lexer": "ipython3",
   "version": "3.11.4"
  }
 },
 "nbformat": 4,
 "nbformat_minor": 4
}
